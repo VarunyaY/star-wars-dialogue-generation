{
  "nbformat": 4,
  "nbformat_minor": 0,
  "metadata": {
    "colab": {
      "name": "Yoda Model5 - GLOVE Sliding window bidirectional with return seq.ipynb",
      "provenance": [],
      "collapsed_sections": [],
      "mount_file_id": "1gD00qENYnsMUkBIz9xVuvGJrcQqo0mQr",
      "authorship_tag": "ABX9TyMGU8uoO+pF7urIZtU1xAzy",
      "include_colab_link": true
    },
    "kernelspec": {
      "display_name": "Python 3",
      "name": "python3"
    },
    "language_info": {
      "name": "python"
    }
  },
  "cells": [
    {
      "cell_type": "markdown",
      "metadata": {
        "id": "view-in-github",
        "colab_type": "text"
      },
      "source": [
        "<a href=\"https://colab.research.google.com/github/keshvi-srivastava/star-wars-dialogue-generation/blob/main/Yoda_Model5_GLOVE_Sliding_window_bidirectional_with_return_seq.ipynb\" target=\"_parent\"><img src=\"https://colab.research.google.com/assets/colab-badge.svg\" alt=\"Open In Colab\"/></a>"
      ]
    },
    {
      "cell_type": "markdown",
      "metadata": {
        "id": "fOwD6fD1QK9e"
      },
      "source": [
        "Model to generate a sequence of following words:\n",
        "1. Convert the data into token list\n",
        "2. Convert data to token sentences with sliding windows\n",
        "3. Encode the sentence\n",
        "4. Simple LSTM model\n",
        "5. Create a bidirectional model\n",
        "6. Add Glove word embeddings\n",
        "\n",
        "- Makes sentences sequence from the whole token list\n",
        "- Make a sliding window of size 5 each\n",
        "\n",
        "Reference:\n",
        "\n",
        "https://medium.com/@plusepsilon/the-bidirectional-language-model-1f3961d1fb27"
      ]
    },
    {
      "cell_type": "code",
      "metadata": {
        "id": "xnbgH6RRPp2j"
      },
      "source": [
        "import tensorflow as tf\n",
        "import numpy as np\n",
        "import os\n",
        "import time\n",
        "import pandas as pd\n",
        "import re\n",
        "from numpy import array\n",
        "from pickle import dump\n",
        "import string\n",
        "from random import randint\n",
        "from pickle import load\n",
        "from tensorflow.keras.layers.experimental import preprocessing\n",
        "\n",
        "from keras.models import Sequential\n",
        "from keras.models import load_model\n",
        "from keras.layers import Dense\n",
        "from keras.layers import Dropout\n",
        "from keras.layers import LSTM\n",
        "from keras.layers import GRU\n",
        "from keras.layers import TimeDistributed\n",
        "from keras.layers import Embedding\n",
        "from keras.layers import GlobalMaxPool1D\n",
        "from keras.callbacks import ModelCheckpoint\n",
        "from keras.utils import np_utils\n",
        "from keras.utils import to_categorical\n",
        "from keras.preprocessing.text import Tokenizer\n",
        "from keras.preprocessing.sequence import pad_sequences\n",
        "\n",
        "\n",
        "from __future__ import print_function\n",
        "#import Keras library\n",
        "from keras.models import Sequential, Model\n",
        "from keras.layers import Dense, Activation, Dropout\n",
        "from keras.layers import LSTM, Input, Bidirectional\n",
        "from keras.optimizers import Adam\n",
        "from keras.callbacks import EarlyStopping\n",
        "from keras.metrics import categorical_accuracy\n",
        "\n",
        "#import spacy, and spacy french model\n",
        "# spacy is used to work on text\n",
        "\n",
        "#import other libraries\n",
        "import numpy as np\n",
        "import random\n",
        "import sys\n",
        "import os\n",
        "import time\n",
        "import codecs\n",
        "import collections\n",
        "from six.moves import cPickle"
      ],
      "execution_count": 6,
      "outputs": []
    },
    {
      "cell_type": "code",
      "metadata": {
        "colab": {
          "base_uri": "https://localhost:8080/"
        },
        "id": "s3jGwvagQbN-",
        "outputId": "51e00ddc-9ab6-4078-c371-786443621d3e"
      },
      "source": [
        "path_to_file = '/content/drive/MyDrive/SNLP Project/Filtered_Data/'\n",
        "\n",
        "data = pd.DataFrame(columns = ['character', 'dialogue'])\n",
        "\n",
        "for file in os.listdir(path_to_file):\n",
        "    print(file)\n",
        "    df = pd.read_csv(path_to_file+file)\n",
        "    data = data.append(df, ignore_index=True)\n",
        "\n",
        "data['character'] = data[\"character\"].str.lower()\n",
        "\n",
        "data['character'] = data.character.replace(\"anakin\", \"vader\", regex=True)\n",
        "data['character'] = data.character.replace(\"obi-wan\", \"ben\", regex=True)\n",
        "data['character'] = data.character.replace(\"c-3po\", \"threepio\", regex=True)\n",
        "\n",
        "unique_characters = data.character.unique()\n",
        "\n",
        "data_dict = data.groupby('character')['dialogue'].apply(lambda g: g.values.tolist()).to_dict()"
      ],
      "execution_count": 7,
      "outputs": [
        {
          "output_type": "stream",
          "text": [
            "SW_EpisodeI.csv\n",
            "SW_EpisodeII.csv\n",
            "SW_EpisodeIII.csv\n",
            "SW_EpisodeIV.csv\n",
            "SW_EpisodeV.csv\n",
            "SW_EpisodeVI.csv\n"
          ],
          "name": "stdout"
        }
      ]
    },
    {
      "cell_type": "code",
      "metadata": {
        "id": "m3kG6NMrWAOe"
      },
      "source": [
        "def preprocess_text(sen):\n",
        "\n",
        "    # # Single character removal\n",
        "    # sentence = re.sub(r\"\\s+[a-zA-Z]\\s+\", ' ', sen)\n",
        "\n",
        "    # Remove punctuations\n",
        "    sentence = re.sub('[%s]' % re.escape(string.punctuation), '', sen)\n",
        "\n",
        "    # Remove ....\n",
        "    sentence = re.sub('\\.+', ' ', sentence)\n",
        "\n",
        "    # Remove extra spaces\n",
        "    sentence = re.sub(' +', ' ', sentence)\n",
        "\n",
        "    # Remove numbers\n",
        "    sentence = ''.join(filter(lambda x: not x.isdigit(), sentence))\n",
        "\n",
        "    # Lower case\n",
        "    sentence = sentence.lower()\n",
        "\n",
        "    # Return a list of tokens (words)\n",
        "    sentence = sentence.split()\n",
        "\n",
        "    return sentence"
      ],
      "execution_count": 8,
      "outputs": []
    },
    {
      "cell_type": "code",
      "metadata": {
        "colab": {
          "base_uri": "https://localhost:8080/"
        },
        "id": "YK88fyrAWITM",
        "outputId": "0d4c7d41-1ca7-4dcb-bdaa-d80c5221b505"
      },
      "source": [
        "yoda_tokens = [preprocess_text(row) for row in data_dict['yoda']]\n",
        "print(yoda_tokens[:5])\n",
        "\n",
        "yoda_data = [' '.join(row) for row in yoda_tokens]\n",
        "print(yoda_data)\n",
        "\n",
        "yoda_token_list = [item for sublist in yoda_tokens for item in sublist]\n",
        "print(yoda_token_list)\n",
        "\n",
        "print(\"Total # of tokens(words)\")\n",
        "print(len(yoda_token_list))\n",
        "\n",
        "print(\"Total # of unique tokens(words)\")\n",
        "print(len(set(yoda_token_list)))"
      ],
      "execution_count": 9,
      "outputs": [
        {
          "output_type": "stream",
          "text": [
            "[['the', 'very', 'republic', 'is', 'threatened', 'if', 'involved', 'the', 'sith', 'are'], ['hard', 'to', 'see', 'the', 'dark', 'side', 'is', 'discover', 'who', 'this', 'assassin', 'is', 'we'], ['with', 'this', 'naboo', 'queen', 'you', 'must', 'stay', 'quigon', 'protect', 'her'], ['may', 'the', 'force', 'be', 'with', 'you'], ['contd', 'master', 'quigon', 'more', 'to', 'say', 'have', 'you']]\n",
            "['the very republic is threatened if involved the sith are', 'hard to see the dark side is discover who this assassin is we', 'with this naboo queen you must stay quigon protect her', 'may the force be with you', 'contd master quigon more to say have you', 'a vergence you say', 'but you do rrevealed your opinion is', 'trained as a jedi you request for him', 'tested he will be', 'good good young one how feel you', 'afraid are you', 'see through you we can', 'afraid to lose heri think', 'eveything fear is the path to the dark side fear leads to', 'a jedi must have the deepest commitment the most serious mind i', 'then continue we will', 'correct you were quigon', 'clouded this boys future is masked by his youth', 'an apprentice you have quigon impossible to take on a second', 'ready so early are you what know you of ready', 'our own council we will keep on who is ready more to learn he', 'and draw out the queens attacker', 'young skywalkers fate will be decided later', 'train him not take him with you but train him not', 'may the force be with you', 'confer on you the level of jedi knight the coucil does but agree', 'the chosen one the boy may be nevertheless grave danger i fear in', 'quigons defiance i sense in you need that you do not agree the', 'always two there areno moreno less a maste and an', 'worse than war i fear muchworse', 'impossible to see the dark sideclouds everything but this i amsure of opens his eyesdo their duty the jedi will', 'with you the force is strongyoung senator to see you alivebrings warm feeling to my heart', 'in dark times nothing is what itappears to be but the fact remainssenator in grave danger you are', 'too little about yourself youworry senator and too much aboutpolitics be mindful of yourdanger padmé accept our help', 'masking the future is thisdisturbance in the force', 'and only those who have turned tothe dark side can sense thepossibilities of the future onlygoing through the dark side can wesee', 'out there they are acertainty that is', 'only if he chooses to follow hisdestiny', 'dont think feel be as onewith the force help you it willhe sees obiwanyounglings enough a visitor wehave welcome him', 'continuingmaster obiwan kenobi meet themighty bear clan', 'what help to you can i be', 'an interesting puzzle gatherround the map reader younglingsmaster obiwan has lost a planetfind it we will try', 'most interesting gravity\\x92ssilhouette remains but the starand all its planets havedisappeared how can this be', 'truly wonderful the mind of achild is uncluttered to thecentre of the pull of gravity goand find your planet you will', 'frowningmuch harder to answer thatquestion is', 'the council is confident in this decisionobiwan', 'who he is working for discoverthat you must', 'inform the chancellor of this wemust', 'with the forename darth a sith hemust be', 'perhaps too many pieces are missingfrom this puzzle there are', 'two hundred less or more', 'agreed master windu two hundredjedi send enough lets hopethey are', 'come on hurry hurry', 'more battalions to the leftencircle them we must thendivide', 'count dooku no interest incontests do i have', 'continuingthe end for you count this is', 'victory victory you say', 'continuingnot victory a defeat it wasmaster obiwan begun the clonewar has', 'premonitions premonitions hmmmm these visions you have', 'yourself you speak of or someone you know', 'close to you', 'careful you must be when sensing the future anakin the fear of loss is a path to the dark side', 'death is a natural part of life rejoice for those around you who transform into the force mourn them do not miss them do not attachment leads to jealousy the shadow of greed that is', 'train yourself to let go of everything you fear to lose', 'allow this appointment lightly the council does not disturbing is this move by chancellor palpatine', 'hiding in the outer rim grievous is the outlying systems you must sweep', 'master kenobi our spies contact you must and then wait', 'go i will good relations with the wookiees i have', 'too much under the sway of the chancellor he is much anger there is in him too much pride in his powers', 'a prophecy that misread could have been', 'i hope right you are and now destroy the droid armies on kashyyyk i will may the force be with you', 'act on this we must the capture of general grievous will end this war quickly and decisively we should proceed', 'a master is needed with more experience', 'obiwan my choice is', 'i agree', 'then now the time is commander', 'to a dark place this line of thought will carry us hmmmmm great care we must take', 'stink this mud does a moment to bathe give me', 'continuing not far are we from the emergency ship quickly', 'goodbye chewbacca and tarfful miss you i will good friends you are for your help much gratitude and respect i have', 'master kenobi dark times are these good to see you it is', 'with the help of the wookiees barely escape i did', 'heard from no one have we', 'received a coded retreat message we have', 'suggest dismantling the coded signal do you', 'i agree in a dark place we find ourselves a little more knowledge might light our way', 'if a special session of congress there is easier for us to enter the jedi temple it will be', 'dismantle the coded signal quickly that group back there soon discovered will be', 'killed not by clones this padawan by a lightsaber he was', 'good for the clones to discover the recalibration a long time it will take to change it back longer still hurry', 'if into the security recordings you go only pain will you find', 'destroy the sith we must', 'to fight this lord sidious strong enough you are not', 'twisted by the dark side young skywalker has become the boy you trained gone he is consumed by darth vader', 'to question no time there is', 'use your feelings obiwan and find him you will visit the new emperor my task is may the force be with you', 'i hear a new apprentice you have emperor or should i call you darth sidious', 'surprised', 'not if anything i have to say about it lord sidious', 'continuing at an end your rule is and not short enough it was i must say', 'continuing if so powerful you are why leave', 'faith in your new apprentice misplaced may be as is your faith in the dark side of the force', 'destroy you i will just as master kenobi your apprentice will destroy', 'hurry careful timing we will need', 'into exile i must go failed i have', 'failed to stop the sith lord i have still much to learn there is', 'eternal consciousness', 'to become one with the force and influence still have a power greater than all it is', 'a great jedi master you have become quigon jinn your apprentice i gratefully become', 'save them we must they are our last hope', 'pregnant she must still appear hidden safe the children must be kept', 'split up they should be', 'to tatooine to his family send him', 'strong the force runs in the skywalker line hope we can done it is until the time is right disappear we will', 'continuing master kenobi wait a moment in your solitude on tatooine training i have for you', 'an old friend has learned the path to immortality', 'one who has returned from the netherworld of the force to train me your old master quigon jinn', 'the secret of the ancient order of the whills he studied how to commune with him i will teach you', 'how to join the force he will train you your consciousness you will retain when one with the force even your physical self perhaps', 'hmmm much anger in him like his father', 'hah he is not ready', 'ready are you what know you of ready for eight hundred years have i trained jedi my own counsel will i keep on who is to be trained a jedi must have the deepest commitment the most serious mind this one a long time have i watched never his mind on where he was hmm what he was doing hmph adventure heh excitement heh a jedi craves not these things you are reckless', 'he is too old yes too old to begin the training', 'will he finished what he begins', 'oh you will be you will be', 'run yes a jedis strength flows from the force but beware of the dark side angerfearaggression the dark side of the force are they easily they flow quick to join you in a fight if once you start down the dark path forever will it dominate your destiny consume you it will as it did obiwans apprentice', 'nonono quicker easier more seductive', 'you will know when you are calm at peace passive a jedi uses the force for knowledge and defense never for attack', 'no no there is no why nothing more will i teach you today clear your mind of questions mmm mmmmmm', 'that placeis strong with the dark side of the force a domain of evil it is in you must go', 'only what you take with you', 'your weaponsyou will not need them', 'use the force yes', 'nowthe stone feel it', 'concentrate', 'so certain are you always with you it cannot be done hear you nothing that i say', 'no no different only different in your mind you must unlearn what you have learned', 'no try not do or do not there is no try', 'size matters not look at me judge me by my size do you hm mmmm', 'and well you should not for my ally in the force and a powerful ally it is life creates it makes it grow its energy surrounds us and binds us luminous beings are wenot this crude matter you must feel the force around you here between youmethe treethe rockeverywhere yes even between this land and that ship', 'that is why you fail', 'concentratefeel the force flow yes good calm yes through the force things you will see other places the futurethe past old friends long gone', 'hmm control control you must learn control', 'mmm friends you have there', 'it is the future you see', 'difficult to see always in motion is the future', 'decide you must how to serve them best if you leave now help them you could but you would destroy all for which they have fought and suffered', 'luke you must complete the training', 'you must not go', 'yes yes to obiwan you listen the cave remember your failure at the cave', 'stopped they must be on this depends only a fully trained jedi knight with the force as his ally will conquer vader and his emperor if you end your training now if you choose the quick and easy path as vader did you will become an agent of evil', 'if you honor what they fight foryes', 'strong is vader mind what you have learned save you it can', 'told you i did reckless is he now matters are worse', 'no there is another', 'hmm that face you make look i so old to young eyes', 'i do yes i do sick have i become old and weak when nine hundred years old you reach look as good you will not hmm', 'soon will i rest yes forever sleep earned it i have', 'strong am i with the force but not that strong twilight is upon me and soon night must fall that is the way of things the way of the force', 'no more training do you require already know you that which you need', 'ohhh not yet one thing remains vader you must confront vader then only then a jedi will you be and confront him you will', 'mmm rest i need yes rest', 'your father he is', 'told you did he', 'unexpected this is and unfortunate', 'no unfortunate that you rushed to face him that incomplete was your training not ready for the burden were you', 'remember a jedis strength flows from the force but beware anger fear aggression the dark side are they once you start down the dark path forever will it dominate your destiny', 'lukelukedo notdo not underestimate the powers of the emperor or suffer your fathers fate you will luke when gone am i the last of the jedi will you be luke the force runs strong in your family pass on what you have learned luke there is anotherskyskywalker']\n",
            "['the', 'very', 'republic', 'is', 'threatened', 'if', 'involved', 'the', 'sith', 'are', 'hard', 'to', 'see', 'the', 'dark', 'side', 'is', 'discover', 'who', 'this', 'assassin', 'is', 'we', 'with', 'this', 'naboo', 'queen', 'you', 'must', 'stay', 'quigon', 'protect', 'her', 'may', 'the', 'force', 'be', 'with', 'you', 'contd', 'master', 'quigon', 'more', 'to', 'say', 'have', 'you', 'a', 'vergence', 'you', 'say', 'but', 'you', 'do', 'rrevealed', 'your', 'opinion', 'is', 'trained', 'as', 'a', 'jedi', 'you', 'request', 'for', 'him', 'tested', 'he', 'will', 'be', 'good', 'good', 'young', 'one', 'how', 'feel', 'you', 'afraid', 'are', 'you', 'see', 'through', 'you', 'we', 'can', 'afraid', 'to', 'lose', 'heri', 'think', 'eveything', 'fear', 'is', 'the', 'path', 'to', 'the', 'dark', 'side', 'fear', 'leads', 'to', 'a', 'jedi', 'must', 'have', 'the', 'deepest', 'commitment', 'the', 'most', 'serious', 'mind', 'i', 'then', 'continue', 'we', 'will', 'correct', 'you', 'were', 'quigon', 'clouded', 'this', 'boys', 'future', 'is', 'masked', 'by', 'his', 'youth', 'an', 'apprentice', 'you', 'have', 'quigon', 'impossible', 'to', 'take', 'on', 'a', 'second', 'ready', 'so', 'early', 'are', 'you', 'what', 'know', 'you', 'of', 'ready', 'our', 'own', 'council', 'we', 'will', 'keep', 'on', 'who', 'is', 'ready', 'more', 'to', 'learn', 'he', 'and', 'draw', 'out', 'the', 'queens', 'attacker', 'young', 'skywalkers', 'fate', 'will', 'be', 'decided', 'later', 'train', 'him', 'not', 'take', 'him', 'with', 'you', 'but', 'train', 'him', 'not', 'may', 'the', 'force', 'be', 'with', 'you', 'confer', 'on', 'you', 'the', 'level', 'of', 'jedi', 'knight', 'the', 'coucil', 'does', 'but', 'agree', 'the', 'chosen', 'one', 'the', 'boy', 'may', 'be', 'nevertheless', 'grave', 'danger', 'i', 'fear', 'in', 'quigons', 'defiance', 'i', 'sense', 'in', 'you', 'need', 'that', 'you', 'do', 'not', 'agree', 'the', 'always', 'two', 'there', 'areno', 'moreno', 'less', 'a', 'maste', 'and', 'an', 'worse', 'than', 'war', 'i', 'fear', 'muchworse', 'impossible', 'to', 'see', 'the', 'dark', 'sideclouds', 'everything', 'but', 'this', 'i', 'amsure', 'of', 'opens', 'his', 'eyesdo', 'their', 'duty', 'the', 'jedi', 'will', 'with', 'you', 'the', 'force', 'is', 'strongyoung', 'senator', 'to', 'see', 'you', 'alivebrings', 'warm', 'feeling', 'to', 'my', 'heart', 'in', 'dark', 'times', 'nothing', 'is', 'what', 'itappears', 'to', 'be', 'but', 'the', 'fact', 'remainssenator', 'in', 'grave', 'danger', 'you', 'are', 'too', 'little', 'about', 'yourself', 'youworry', 'senator', 'and', 'too', 'much', 'aboutpolitics', 'be', 'mindful', 'of', 'yourdanger', 'padmé', 'accept', 'our', 'help', 'masking', 'the', 'future', 'is', 'thisdisturbance', 'in', 'the', 'force', 'and', 'only', 'those', 'who', 'have', 'turned', 'tothe', 'dark', 'side', 'can', 'sense', 'thepossibilities', 'of', 'the', 'future', 'onlygoing', 'through', 'the', 'dark', 'side', 'can', 'wesee', 'out', 'there', 'they', 'are', 'acertainty', 'that', 'is', 'only', 'if', 'he', 'chooses', 'to', 'follow', 'hisdestiny', 'dont', 'think', 'feel', 'be', 'as', 'onewith', 'the', 'force', 'help', 'you', 'it', 'willhe', 'sees', 'obiwanyounglings', 'enough', 'a', 'visitor', 'wehave', 'welcome', 'him', 'continuingmaster', 'obiwan', 'kenobi', 'meet', 'themighty', 'bear', 'clan', 'what', 'help', 'to', 'you', 'can', 'i', 'be', 'an', 'interesting', 'puzzle', 'gatherround', 'the', 'map', 'reader', 'younglingsmaster', 'obiwan', 'has', 'lost', 'a', 'planetfind', 'it', 'we', 'will', 'try', 'most', 'interesting', 'gravity\\x92ssilhouette', 'remains', 'but', 'the', 'starand', 'all', 'its', 'planets', 'havedisappeared', 'how', 'can', 'this', 'be', 'truly', 'wonderful', 'the', 'mind', 'of', 'achild', 'is', 'uncluttered', 'to', 'thecentre', 'of', 'the', 'pull', 'of', 'gravity', 'goand', 'find', 'your', 'planet', 'you', 'will', 'frowningmuch', 'harder', 'to', 'answer', 'thatquestion', 'is', 'the', 'council', 'is', 'confident', 'in', 'this', 'decisionobiwan', 'who', 'he', 'is', 'working', 'for', 'discoverthat', 'you', 'must', 'inform', 'the', 'chancellor', 'of', 'this', 'wemust', 'with', 'the', 'forename', 'darth', 'a', 'sith', 'hemust', 'be', 'perhaps', 'too', 'many', 'pieces', 'are', 'missingfrom', 'this', 'puzzle', 'there', 'are', 'two', 'hundred', 'less', 'or', 'more', 'agreed', 'master', 'windu', 'two', 'hundredjedi', 'send', 'enough', 'lets', 'hopethey', 'are', 'come', 'on', 'hurry', 'hurry', 'more', 'battalions', 'to', 'the', 'leftencircle', 'them', 'we', 'must', 'thendivide', 'count', 'dooku', 'no', 'interest', 'incontests', 'do', 'i', 'have', 'continuingthe', 'end', 'for', 'you', 'count', 'this', 'is', 'victory', 'victory', 'you', 'say', 'continuingnot', 'victory', 'a', 'defeat', 'it', 'wasmaster', 'obiwan', 'begun', 'the', 'clonewar', 'has', 'premonitions', 'premonitions', 'hmmmm', 'these', 'visions', 'you', 'have', 'yourself', 'you', 'speak', 'of', 'or', 'someone', 'you', 'know', 'close', 'to', 'you', 'careful', 'you', 'must', 'be', 'when', 'sensing', 'the', 'future', 'anakin', 'the', 'fear', 'of', 'loss', 'is', 'a', 'path', 'to', 'the', 'dark', 'side', 'death', 'is', 'a', 'natural', 'part', 'of', 'life', 'rejoice', 'for', 'those', 'around', 'you', 'who', 'transform', 'into', 'the', 'force', 'mourn', 'them', 'do', 'not', 'miss', 'them', 'do', 'not', 'attachment', 'leads', 'to', 'jealousy', 'the', 'shadow', 'of', 'greed', 'that', 'is', 'train', 'yourself', 'to', 'let', 'go', 'of', 'everything', 'you', 'fear', 'to', 'lose', 'allow', 'this', 'appointment', 'lightly', 'the', 'council', 'does', 'not', 'disturbing', 'is', 'this', 'move', 'by', 'chancellor', 'palpatine', 'hiding', 'in', 'the', 'outer', 'rim', 'grievous', 'is', 'the', 'outlying', 'systems', 'you', 'must', 'sweep', 'master', 'kenobi', 'our', 'spies', 'contact', 'you', 'must', 'and', 'then', 'wait', 'go', 'i', 'will', 'good', 'relations', 'with', 'the', 'wookiees', 'i', 'have', 'too', 'much', 'under', 'the', 'sway', 'of', 'the', 'chancellor', 'he', 'is', 'much', 'anger', 'there', 'is', 'in', 'him', 'too', 'much', 'pride', 'in', 'his', 'powers', 'a', 'prophecy', 'that', 'misread', 'could', 'have', 'been', 'i', 'hope', 'right', 'you', 'are', 'and', 'now', 'destroy', 'the', 'droid', 'armies', 'on', 'kashyyyk', 'i', 'will', 'may', 'the', 'force', 'be', 'with', 'you', 'act', 'on', 'this', 'we', 'must', 'the', 'capture', 'of', 'general', 'grievous', 'will', 'end', 'this', 'war', 'quickly', 'and', 'decisively', 'we', 'should', 'proceed', 'a', 'master', 'is', 'needed', 'with', 'more', 'experience', 'obiwan', 'my', 'choice', 'is', 'i', 'agree', 'then', 'now', 'the', 'time', 'is', 'commander', 'to', 'a', 'dark', 'place', 'this', 'line', 'of', 'thought', 'will', 'carry', 'us', 'hmmmmm', 'great', 'care', 'we', 'must', 'take', 'stink', 'this', 'mud', 'does', 'a', 'moment', 'to', 'bathe', 'give', 'me', 'continuing', 'not', 'far', 'are', 'we', 'from', 'the', 'emergency', 'ship', 'quickly', 'goodbye', 'chewbacca', 'and', 'tarfful', 'miss', 'you', 'i', 'will', 'good', 'friends', 'you', 'are', 'for', 'your', 'help', 'much', 'gratitude', 'and', 'respect', 'i', 'have', 'master', 'kenobi', 'dark', 'times', 'are', 'these', 'good', 'to', 'see', 'you', 'it', 'is', 'with', 'the', 'help', 'of', 'the', 'wookiees', 'barely', 'escape', 'i', 'did', 'heard', 'from', 'no', 'one', 'have', 'we', 'received', 'a', 'coded', 'retreat', 'message', 'we', 'have', 'suggest', 'dismantling', 'the', 'coded', 'signal', 'do', 'you', 'i', 'agree', 'in', 'a', 'dark', 'place', 'we', 'find', 'ourselves', 'a', 'little', 'more', 'knowledge', 'might', 'light', 'our', 'way', 'if', 'a', 'special', 'session', 'of', 'congress', 'there', 'is', 'easier', 'for', 'us', 'to', 'enter', 'the', 'jedi', 'temple', 'it', 'will', 'be', 'dismantle', 'the', 'coded', 'signal', 'quickly', 'that', 'group', 'back', 'there', 'soon', 'discovered', 'will', 'be', 'killed', 'not', 'by', 'clones', 'this', 'padawan', 'by', 'a', 'lightsaber', 'he', 'was', 'good', 'for', 'the', 'clones', 'to', 'discover', 'the', 'recalibration', 'a', 'long', 'time', 'it', 'will', 'take', 'to', 'change', 'it', 'back', 'longer', 'still', 'hurry', 'if', 'into', 'the', 'security', 'recordings', 'you', 'go', 'only', 'pain', 'will', 'you', 'find', 'destroy', 'the', 'sith', 'we', 'must', 'to', 'fight', 'this', 'lord', 'sidious', 'strong', 'enough', 'you', 'are', 'not', 'twisted', 'by', 'the', 'dark', 'side', 'young', 'skywalker', 'has', 'become', 'the', 'boy', 'you', 'trained', 'gone', 'he', 'is', 'consumed', 'by', 'darth', 'vader', 'to', 'question', 'no', 'time', 'there', 'is', 'use', 'your', 'feelings', 'obiwan', 'and', 'find', 'him', 'you', 'will', 'visit', 'the', 'new', 'emperor', 'my', 'task', 'is', 'may', 'the', 'force', 'be', 'with', 'you', 'i', 'hear', 'a', 'new', 'apprentice', 'you', 'have', 'emperor', 'or', 'should', 'i', 'call', 'you', 'darth', 'sidious', 'surprised', 'not', 'if', 'anything', 'i', 'have', 'to', 'say', 'about', 'it', 'lord', 'sidious', 'continuing', 'at', 'an', 'end', 'your', 'rule', 'is', 'and', 'not', 'short', 'enough', 'it', 'was', 'i', 'must', 'say', 'continuing', 'if', 'so', 'powerful', 'you', 'are', 'why', 'leave', 'faith', 'in', 'your', 'new', 'apprentice', 'misplaced', 'may', 'be', 'as', 'is', 'your', 'faith', 'in', 'the', 'dark', 'side', 'of', 'the', 'force', 'destroy', 'you', 'i', 'will', 'just', 'as', 'master', 'kenobi', 'your', 'apprentice', 'will', 'destroy', 'hurry', 'careful', 'timing', 'we', 'will', 'need', 'into', 'exile', 'i', 'must', 'go', 'failed', 'i', 'have', 'failed', 'to', 'stop', 'the', 'sith', 'lord', 'i', 'have', 'still', 'much', 'to', 'learn', 'there', 'is', 'eternal', 'consciousness', 'to', 'become', 'one', 'with', 'the', 'force', 'and', 'influence', 'still', 'have', 'a', 'power', 'greater', 'than', 'all', 'it', 'is', 'a', 'great', 'jedi', 'master', 'you', 'have', 'become', 'quigon', 'jinn', 'your', 'apprentice', 'i', 'gratefully', 'become', 'save', 'them', 'we', 'must', 'they', 'are', 'our', 'last', 'hope', 'pregnant', 'she', 'must', 'still', 'appear', 'hidden', 'safe', 'the', 'children', 'must', 'be', 'kept', 'split', 'up', 'they', 'should', 'be', 'to', 'tatooine', 'to', 'his', 'family', 'send', 'him', 'strong', 'the', 'force', 'runs', 'in', 'the', 'skywalker', 'line', 'hope', 'we', 'can', 'done', 'it', 'is', 'until', 'the', 'time', 'is', 'right', 'disappear', 'we', 'will', 'continuing', 'master', 'kenobi', 'wait', 'a', 'moment', 'in', 'your', 'solitude', 'on', 'tatooine', 'training', 'i', 'have', 'for', 'you', 'an', 'old', 'friend', 'has', 'learned', 'the', 'path', 'to', 'immortality', 'one', 'who', 'has', 'returned', 'from', 'the', 'netherworld', 'of', 'the', 'force', 'to', 'train', 'me', 'your', 'old', 'master', 'quigon', 'jinn', 'the', 'secret', 'of', 'the', 'ancient', 'order', 'of', 'the', 'whills', 'he', 'studied', 'how', 'to', 'commune', 'with', 'him', 'i', 'will', 'teach', 'you', 'how', 'to', 'join', 'the', 'force', 'he', 'will', 'train', 'you', 'your', 'consciousness', 'you', 'will', 'retain', 'when', 'one', 'with', 'the', 'force', 'even', 'your', 'physical', 'self', 'perhaps', 'hmmm', 'much', 'anger', 'in', 'him', 'like', 'his', 'father', 'hah', 'he', 'is', 'not', 'ready', 'ready', 'are', 'you', 'what', 'know', 'you', 'of', 'ready', 'for', 'eight', 'hundred', 'years', 'have', 'i', 'trained', 'jedi', 'my', 'own', 'counsel', 'will', 'i', 'keep', 'on', 'who', 'is', 'to', 'be', 'trained', 'a', 'jedi', 'must', 'have', 'the', 'deepest', 'commitment', 'the', 'most', 'serious', 'mind', 'this', 'one', 'a', 'long', 'time', 'have', 'i', 'watched', 'never', 'his', 'mind', 'on', 'where', 'he', 'was', 'hmm', 'what', 'he', 'was', 'doing', 'hmph', 'adventure', 'heh', 'excitement', 'heh', 'a', 'jedi', 'craves', 'not', 'these', 'things', 'you', 'are', 'reckless', 'he', 'is', 'too', 'old', 'yes', 'too', 'old', 'to', 'begin', 'the', 'training', 'will', 'he', 'finished', 'what', 'he', 'begins', 'oh', 'you', 'will', 'be', 'you', 'will', 'be', 'run', 'yes', 'a', 'jedis', 'strength', 'flows', 'from', 'the', 'force', 'but', 'beware', 'of', 'the', 'dark', 'side', 'angerfearaggression', 'the', 'dark', 'side', 'of', 'the', 'force', 'are', 'they', 'easily', 'they', 'flow', 'quick', 'to', 'join', 'you', 'in', 'a', 'fight', 'if', 'once', 'you', 'start', 'down', 'the', 'dark', 'path', 'forever', 'will', 'it', 'dominate', 'your', 'destiny', 'consume', 'you', 'it', 'will', 'as', 'it', 'did', 'obiwans', 'apprentice', 'nonono', 'quicker', 'easier', 'more', 'seductive', 'you', 'will', 'know', 'when', 'you', 'are', 'calm', 'at', 'peace', 'passive', 'a', 'jedi', 'uses', 'the', 'force', 'for', 'knowledge', 'and', 'defense', 'never', 'for', 'attack', 'no', 'no', 'there', 'is', 'no', 'why', 'nothing', 'more', 'will', 'i', 'teach', 'you', 'today', 'clear', 'your', 'mind', 'of', 'questions', 'mmm', 'mmmmmm', 'that', 'placeis', 'strong', 'with', 'the', 'dark', 'side', 'of', 'the', 'force', 'a', 'domain', 'of', 'evil', 'it', 'is', 'in', 'you', 'must', 'go', 'only', 'what', 'you', 'take', 'with', 'you', 'your', 'weaponsyou', 'will', 'not', 'need', 'them', 'use', 'the', 'force', 'yes', 'nowthe', 'stone', 'feel', 'it', 'concentrate', 'so', 'certain', 'are', 'you', 'always', 'with', 'you', 'it', 'cannot', 'be', 'done', 'hear', 'you', 'nothing', 'that', 'i', 'say', 'no', 'no', 'different', 'only', 'different', 'in', 'your', 'mind', 'you', 'must', 'unlearn', 'what', 'you', 'have', 'learned', 'no', 'try', 'not', 'do', 'or', 'do', 'not', 'there', 'is', 'no', 'try', 'size', 'matters', 'not', 'look', 'at', 'me', 'judge', 'me', 'by', 'my', 'size', 'do', 'you', 'hm', 'mmmm', 'and', 'well', 'you', 'should', 'not', 'for', 'my', 'ally', 'in', 'the', 'force', 'and', 'a', 'powerful', 'ally', 'it', 'is', 'life', 'creates', 'it', 'makes', 'it', 'grow', 'its', 'energy', 'surrounds', 'us', 'and', 'binds', 'us', 'luminous', 'beings', 'are', 'wenot', 'this', 'crude', 'matter', 'you', 'must', 'feel', 'the', 'force', 'around', 'you', 'here', 'between', 'youmethe', 'treethe', 'rockeverywhere', 'yes', 'even', 'between', 'this', 'land', 'and', 'that', 'ship', 'that', 'is', 'why', 'you', 'fail', 'concentratefeel', 'the', 'force', 'flow', 'yes', 'good', 'calm', 'yes', 'through', 'the', 'force', 'things', 'you', 'will', 'see', 'other', 'places', 'the', 'futurethe', 'past', 'old', 'friends', 'long', 'gone', 'hmm', 'control', 'control', 'you', 'must', 'learn', 'control', 'mmm', 'friends', 'you', 'have', 'there', 'it', 'is', 'the', 'future', 'you', 'see', 'difficult', 'to', 'see', 'always', 'in', 'motion', 'is', 'the', 'future', 'decide', 'you', 'must', 'how', 'to', 'serve', 'them', 'best', 'if', 'you', 'leave', 'now', 'help', 'them', 'you', 'could', 'but', 'you', 'would', 'destroy', 'all', 'for', 'which', 'they', 'have', 'fought', 'and', 'suffered', 'luke', 'you', 'must', 'complete', 'the', 'training', 'you', 'must', 'not', 'go', 'yes', 'yes', 'to', 'obiwan', 'you', 'listen', 'the', 'cave', 'remember', 'your', 'failure', 'at', 'the', 'cave', 'stopped', 'they', 'must', 'be', 'on', 'this', 'depends', 'only', 'a', 'fully', 'trained', 'jedi', 'knight', 'with', 'the', 'force', 'as', 'his', 'ally', 'will', 'conquer', 'vader', 'and', 'his', 'emperor', 'if', 'you', 'end', 'your', 'training', 'now', 'if', 'you', 'choose', 'the', 'quick', 'and', 'easy', 'path', 'as', 'vader', 'did', 'you', 'will', 'become', 'an', 'agent', 'of', 'evil', 'if', 'you', 'honor', 'what', 'they', 'fight', 'foryes', 'strong', 'is', 'vader', 'mind', 'what', 'you', 'have', 'learned', 'save', 'you', 'it', 'can', 'told', 'you', 'i', 'did', 'reckless', 'is', 'he', 'now', 'matters', 'are', 'worse', 'no', 'there', 'is', 'another', 'hmm', 'that', 'face', 'you', 'make', 'look', 'i', 'so', 'old', 'to', 'young', 'eyes', 'i', 'do', 'yes', 'i', 'do', 'sick', 'have', 'i', 'become', 'old', 'and', 'weak', 'when', 'nine', 'hundred', 'years', 'old', 'you', 'reach', 'look', 'as', 'good', 'you', 'will', 'not', 'hmm', 'soon', 'will', 'i', 'rest', 'yes', 'forever', 'sleep', 'earned', 'it', 'i', 'have', 'strong', 'am', 'i', 'with', 'the', 'force', 'but', 'not', 'that', 'strong', 'twilight', 'is', 'upon', 'me', 'and', 'soon', 'night', 'must', 'fall', 'that', 'is', 'the', 'way', 'of', 'things', 'the', 'way', 'of', 'the', 'force', 'no', 'more', 'training', 'do', 'you', 'require', 'already', 'know', 'you', 'that', 'which', 'you', 'need', 'ohhh', 'not', 'yet', 'one', 'thing', 'remains', 'vader', 'you', 'must', 'confront', 'vader', 'then', 'only', 'then', 'a', 'jedi', 'will', 'you', 'be', 'and', 'confront', 'him', 'you', 'will', 'mmm', 'rest', 'i', 'need', 'yes', 'rest', 'your', 'father', 'he', 'is', 'told', 'you', 'did', 'he', 'unexpected', 'this', 'is', 'and', 'unfortunate', 'no', 'unfortunate', 'that', 'you', 'rushed', 'to', 'face', 'him', 'that', 'incomplete', 'was', 'your', 'training', 'not', 'ready', 'for', 'the', 'burden', 'were', 'you', 'remember', 'a', 'jedis', 'strength', 'flows', 'from', 'the', 'force', 'but', 'beware', 'anger', 'fear', 'aggression', 'the', 'dark', 'side', 'are', 'they', 'once', 'you', 'start', 'down', 'the', 'dark', 'path', 'forever', 'will', 'it', 'dominate', 'your', 'destiny', 'lukelukedo', 'notdo', 'not', 'underestimate', 'the', 'powers', 'of', 'the', 'emperor', 'or', 'suffer', 'your', 'fathers', 'fate', 'you', 'will', 'luke', 'when', 'gone', 'am', 'i', 'the', 'last', 'of', 'the', 'jedi', 'will', 'you', 'be', 'luke', 'the', 'force', 'runs', 'strong', 'in', 'your', 'family', 'pass', 'on', 'what', 'you', 'have', 'learned', 'luke', 'there', 'is', 'anotherskyskywalker']\n",
            "Total # of tokens(words)\n",
            "2113\n",
            "Total # of unique tokens(words)\n",
            "649\n"
          ],
          "name": "stdout"
        }
      ]
    },
    {
      "cell_type": "code",
      "metadata": {
        "id": "avmHEYpiQjbg"
      },
      "source": [
        "file1 = open(\"YodaProcessedData.txt\",\"a\")\n",
        "for row in yoda_tokens:\n",
        "  str_val = ' '.join(row)\n",
        "  file1.writelines(str_val + '\\n')\n",
        "file1.close()"
      ],
      "execution_count": 10,
      "outputs": []
    },
    {
      "cell_type": "code",
      "metadata": {
        "id": "V52kJj-TWKDe"
      },
      "source": [
        "# integer encode sequences of words\n",
        "tokenizer = Tokenizer()\n",
        "tokenizer.fit_on_texts(yoda_token_list)\n",
        "unique_words = set(yoda_token_list)\n",
        "sequences_tokenised = tokenizer.texts_to_sequences(yoda_tokens)\n",
        "\n",
        "vocab_size = len(unique_words)+1\n",
        "n_sentences = len(yoda_tokens)"
      ],
      "execution_count": 11,
      "outputs": []
    },
    {
      "cell_type": "code",
      "metadata": {
        "colab": {
          "base_uri": "https://localhost:8080/"
        },
        "id": "MolcAEwLWL15",
        "outputId": "24957afb-8517-4b8b-cf22-b492dbf80771"
      },
      "source": [
        "print(unique_words)\n",
        "print(sequences_tokenised)\n",
        "\n",
        "print(vocab_size)\n",
        "print(n_sentences)"
      ],
      "execution_count": 12,
      "outputs": [
        {
          "output_type": "stream",
          "text": [
            "{'havedisappeared', 'when', 'with', 'force', 'kenobi', 'maste', 'mind', 'accept', 'involved', 'stop', 'miss', 'later', 'timing', 'need', 'why', 'binds', 'give', 'might', 'hmph', 'longer', 'up', 'finished', 'move', 'commune', 'must', 'failure', 'thepossibilities', 'planet', 'sick', 'reckless', 'not', 'begins', 'queens', 'heard', 'path', 'destroy', 'kashyyyk', 'be', 'its', 'consumed', 'frowningmuch', 'returned', 'strongyoung', 'duty', 'suggest', 'enough', 'shadow', 'line', 'until', 'placeis', 'creates', 'training', 'sith', 'achild', 'his', 'old', 'vader', 'let', 'prophecy', 'would', 'am', 'friends', 'level', 'mindful', 'confident', 'watched', 'last', 'far', 'recordings', 'has', 'tothe', 'gratitude', 'strength', 'harder', 'consciousness', 'once', 'amsure', 'serious', 'danger', 'moreno', 'apprentice', 'thendivide', 'obiwans', 'welcome', 'misplaced', 'greed', 'different', 'take', 'planetfind', 'treethe', 'always', 'contact', 'naboo', 'help', 'to', 'join', 'doing', 'seductive', 'goodbye', 'droid', 'have', 'been', 'windu', 'sideclouds', 'puzzle', 'yourdanger', 'may', 'powerful', 'continue', 'studied', 'ready', 'never', 'on', 'think', 'emperor', 'like', 'quigons', 'twisted', 'meet', 'sidious', 'did', 'life', 'at', 'our', 'fathers', 'judge', 'eveything', 'counsel', 'leads', 'unlearn', 'he', 'beware', 'wehave', 'can', 'easily', 'questions', 'as', 'hisdestiny', 'clouded', 'makes', 'sleep', 'what', 'pride', 'part', 'us', 'today', 'attachment', 'right', 'assassin', 'new', 'places', 'do', 'council', 'areno', 'than', 'beings', 'luminous', 'time', 'acertainty', 'anotherskyskywalker', 'thisdisturbance', 'opinion', 'count', 'forever', 'boy', 'wesee', 'by', 'spies', 'carry', 'burden', 'reader', 'into', 'they', 'excitement', 'if', 'goand', 'darth', 'kept', 'them', 'peace', 'too', 'wasmaster', 'clan', 'things', 'side', 'but', 'lightsaber', 'rockeverywhere', 'upon', 'the', 'keep', 'victory', 'now', 'which', 'could', 'sway', 'senator', 'palpatine', 'eyesdo', 'go', 'no', 'conquer', 'come', 'safe', 'yes', 'runs', 'immortality', 'careful', 'heh', 'correct', 'does', 'anger', 'cannot', 'motion', 'incomplete', 'try', 'face', 'done', 'consume', 'of', 'answer', 'appointment', 'received', 'start', 'contd', 'continuingthe', 'years', 'outlying', 'chancellor', 'past', 'remains', 'flow', 'bear', 'threatened', 'tarfful', 'loss', 'wookiees', 'knowledge', 'notdo', 'tatooine', 'lose', 'fear', 'unfortunate', 'agreed', 'thecentre', 'dismantling', 'confer', 'a', 'own', 'inform', 'were', 'sensing', 'destiny', 'afraid', 'needed', 'visitor', 'will', 'those', 'second', 'all', 'from', 'ally', 'pregnant', 'knight', 'their', 'two', 'stone', 'defiance', 'themighty', 'appear', 'eyes', 'good', 'impossible', 'padmé', 'misread', 'wenot', 'anakin', 'sees', 'this', 'natural', 'back', 'premonitions', 'listen', 'energy', 'proceed', 'hope', 'ancient', 'suffered', 'continuingnot', 'hmmmmm', 'domain', 'was', 'complete', 'light', 'obiwan', 'luke', 'warm', 'hard', 'faith', 'interesting', 'who', 'gravity\\x92ssilhouette', 'feelings', 'physical', 'that', 'we', 'recalibration', 'way', 'systems', 'where', 'retreat', 'in', 'disappear', 'honor', 'cave', 'or', 'younglingsmaster', 'hundredjedi', 'learned', 'end', 'gratefully', 'visions', 'run', 'know', 'calm', 'then', 'greater', 'worse', 'just', 'other', 'down', 'padawan', 'task', 'attacker', 'anything', 'save', 'lord', 'is', 'draw', 'solitude', 'dooku', 'me', 'future', 'find', 'ohhh', 'control', 'emergency', 'republic', 'barely', 'session', 'visit', 'clear', 'my', 'gravity', 'early', 'twilight', 'gone', 'out', 'begun', 'respect', 'general', 'thought', 'call', 'onewith', 'yourself', 'continuing', 'dominate', 'weaponsyou', 'only', 'allow', 'jinn', 'hmmmm', 'request', 'under', 'surrounds', 'lukelukedo', 'night', 'and', 'skywalkers', 'still', 'evil', 'care', 'lightly', 'clonewar', 'children', 'stink', 'begin', 'exile', 'father', 'moment', 'mourn', 'difficult', 'act', 'easier', 'signal', 'many', 'truly', 'nonono', 'secret', 'times', 'underestimate', 'whills', 'there', 'alivebrings', 'starand', 'vergence', 'sense', 'hemust', 'foryes', 'choice', 'learn', 'oh', 'hiding', 'mmm', 'size', 'self', 'hmmm', 'skywalker', 'mmmm', 'unexpected', 'futurethe', 'aboutpolitics', 'these', 'ourselves', 'eternal', 'leftencircle', 'strong', 'leave', 'hah', 'another', 'hurry', 'hundred', 'mmmmmm', 'short', 'youmethe', 'decisionobiwan', 'transform', 'congress', 'an', 'thing', 'everything', 'fail', 'look', 'hopethey', 'perhaps', 'nine', 'bathe', 'how', 'capture', 'decide', 'agree', 'escape', 'wonderful', 'fight', 'willhe', 'discover', 'see', 'most', 'very', 'should', 'battalions', 'clones', 'hidden', 'feeling', 'lost', 'disturbing', 'fate', 'war', 'youth', 'pass', 'order', 'attack', 'nowthe', 'require', 'outer', 'grievous', 'pain', 'passive', 'rim', 'group', 'quicker', 'defeat', 'onlygoing', 'feel', 'hmm', 'certain', 'masked', 'fact', 'fully', 'less', 'wait', 'influence', 'friend', 'armies', 'failed', 'retain', 'send', 'lets', 'opens', 'angerfearaggression', 'jedi', 'her', 'chewbacca', 'map', 'death', 'thatquestion', 'missingfrom', 'yet', 'masking', 'deepest', 'ship', 'decisively', 'decided', 'chooses', 'matters', 'incontests', 'discoverthat', 'enter', 'obiwanyounglings', 'grave', 'choose', 'planets', 'heri', 'question', 'for', 'long', 'defense', 'dont', 'adventure', 'dark', 'easy', 'pull', 'netherworld', 'quick', 'stopped', 'well', 'coded', 'she', 'one', 'chosen', 'even', 'weak', 'place', 'depends', 'commitment', 'uses', 'power', 'family', 'suffer', 'master', 'follow', 'interest', 'confront', 'heart', 'mud', 'little', 'reach', 'around', 'craves', 'concentrate', 'rejoice', 'more', 'are', 'speak', 'you', 'fought', 'protect', 'rrevealed', 'become', 'stay', 'flows', 'boys', 'working', 'continuingmaster', 'agent', 'close', 'much', 'hear', 'concentratefeel', 'tested', 'youworry', 'discovered', 'split', 'about', 'nothing', 'muchworse', 'message', 'use', 'remember', 'through', 'best', 'killed', 'rushed', 'quigon', 'train', 'someone', 'soon', 'between', 'change', 'rest', 'special', 'matter', 'nevertheless', 'pieces', 'land', 'temple', 'surprised', 'hm', 'earned', 'rule', 'trained', 'young', 'wemust', 'sweep', 'eight', 'quickly', 'your', 'great', 'commander', 'i', 'gatherround', 'grow', 'uncluttered', 'forename', 'jedis', 'here', 'aggression', 'told', 'serve', 'so', 'queen', 'crude', 'him', 'remainssenator', 'security', 'relations', 'experience', 'say', 'jealousy', 'coucil', 'turned', 'it', 'powers', 'dismantle', 'teach', 'already', 'make', 'itappears', 'fall'}\n",
            "[[1, 251, 252, 3, 253, 31, 254, 1, 90, 17], [255, 4, 40, 1, 21, 32, 3, 146, 46, 18, 256, 3, 22], [20, 18, 257, 258, 2, 11, 259, 57, 260, 261], [58, 1, 9, 12, 20, 2], [262, 37, 57, 38, 4, 59, 10, 2], [7, 263, 2, 59], [36, 2, 29, 264, 13, 265, 3], [71, 41, 7, 26, 2, 266, 25, 30], [267, 23, 5, 12], [42, 42, 91, 43, 72, 92, 2], [147, 17, 2], [40, 108, 2, 22, 47], [147, 4, 148, 268, 149], [269, 48, 3, 1, 60, 4, 1, 21, 32, 48, 150, 4], [7, 26, 11, 10, 1, 151, 152, 1, 109, 153, 49, 6], [73, 270, 22, 5], [271, 2, 154, 57], [272, 18, 273, 61, 3, 274, 50, 44, 275], [62, 63, 2, 10, 57, 155, 4, 74, 33, 7, 276], [51, 93, 277, 17, 2, 34, 75, 2, 8, 51], [76, 156, 110, 22, 5, 157, 33, 46, 3, 51, 38, 4, 111, 23], [14, 278, 158, 1, 279, 280], [91, 281, 159, 5, 12, 282, 283], [77, 30, 15, 74, 30, 20, 2, 36, 77, 30, 15], [58, 1, 9, 12, 20, 2], [284, 33, 2, 1, 285, 8, 26, 160, 1, 286, 112, 36, 94], [1, 287, 43, 1, 161, 58, 12, 288, 162, 163, 6, 48, 19], [289, 290, 6, 164, 19, 2, 78, 24, 2, 29, 15, 94, 1], [113, 114, 27, 291, 292, 165, 7, 293, 14, 62], [166, 167, 168, 6, 48, 294], [155, 4, 40, 1, 21, 295, 169, 36, 18, 6, 296, 8, 297, 44, 298, 299, 300, 1, 26, 5], [20, 2, 1, 9, 3, 301, 170, 4, 40, 2, 302, 303, 304, 4, 64, 305], [19, 21, 171, 115, 3, 34, 306, 4, 12, 36, 1, 307, 308, 19, 162, 163, 2, 17], [52, 172, 173, 116, 309, 170, 14, 52, 53, 310, 12, 311, 8, 312, 313, 314, 76, 65], [315, 1, 61, 3, 316, 19, 1, 9], [14, 54, 174, 46, 10, 317, 318, 21, 32, 47, 164, 319, 8, 1, 61, 320, 108, 1, 21, 32, 47, 321], [158, 27, 39, 17, 322, 24, 3], [54, 31, 23, 323, 4, 324, 325], [326, 149, 92, 12, 41, 327, 1, 9, 65, 2, 16, 328, 329, 330, 95, 7, 331, 332, 333, 30], [334, 66, 79, 335, 336, 337, 338], [34, 65, 4, 2, 47, 6, 12], [62, 175, 176, 339, 1, 340, 341, 342, 66, 80, 343, 7, 344, 16, 22, 5, 117], [109, 175, 345, 177, 36, 1, 346, 118, 178, 347, 348, 72, 47, 18, 12], [349, 350, 1, 49, 8, 351, 3, 352, 4, 353, 8, 1, 354, 8, 355, 356, 96, 13, 357, 2, 5], [358, 359, 4, 360, 361, 3], [1, 110, 3, 362, 19, 18, 363], [46, 23, 3, 364, 25, 365, 2, 11], [366, 1, 119, 8, 18, 367], [20, 1, 368, 120, 7, 90, 369, 12], [179, 52, 370, 371, 17, 372, 18, 176, 27, 17], [114, 121, 165, 81, 38], [373, 37, 374, 114, 375, 180, 95, 376, 377, 17], [378, 33, 97, 97], [38, 379, 4, 1, 380, 55, 22, 11, 381], [181, 382, 28, 383, 384, 29, 6, 10], [385, 98, 25, 2, 181, 18, 3], [122, 122, 2, 59], [386, 122, 7, 387, 16, 388, 66, 389, 1, 390, 80], [182, 182, 391, 123, 392, 2, 10], [116, 2, 393, 8, 81, 394, 2, 75], [395, 4, 2], [183, 2, 11, 12, 82, 396, 1, 61, 397, 1, 48, 8, 398, 3, 7, 60, 4, 1, 21, 32], [399, 3, 7, 400, 401, 8, 184, 402, 25, 174, 185, 2, 46, 403, 124, 1, 9, 404, 55, 29, 15, 186, 55, 29, 15, 405, 150, 4, 406, 1, 407, 8, 408, 24, 3], [77, 116, 4, 409, 67, 8, 169, 2, 48, 4, 148], [410, 18, 411, 412, 1, 110, 112, 15, 413, 3, 18, 414, 50, 119, 415], [416, 19, 1, 417, 418, 187, 3, 1, 419, 420, 2, 11, 421], [37, 79, 76, 422, 423, 2, 11, 14, 73, 188], [67, 6, 5, 42, 424, 20, 1, 189, 6, 10], [52, 53, 425, 1, 426, 8, 1, 119, 23, 3, 53, 125, 27, 3, 19, 30, 52, 53, 427, 19, 44, 190], [7, 428, 24, 429, 191, 10, 430], [6, 126, 192, 2, 17, 14, 83, 84, 1, 431, 432, 33, 433, 6, 5, 58, 1, 9, 12, 20, 2], [434, 33, 18, 22, 11, 1, 435, 8, 436, 187, 5, 98, 18, 168, 127, 14, 437, 22, 99, 438], [7, 37, 3, 439, 20, 38, 440], [66, 64, 441, 3], [6, 94], [73, 83, 1, 85, 3, 442], [4, 7, 21, 193, 18, 194, 8, 443, 5, 444, 100, 445, 195, 446, 22, 11, 74], [447, 18, 448, 112, 7, 196, 4, 449, 450, 86], [101, 15, 451, 17, 22, 87, 1, 452, 197, 127], [453, 454, 14, 455, 186, 2, 6, 5, 42, 128, 2, 17, 25, 13, 65, 53, 456, 14, 457, 6, 10], [37, 79, 21, 171, 17, 123, 42, 4, 40, 2, 16, 3], [20, 1, 65, 8, 1, 189, 458, 459, 6, 88], [460, 87, 28, 43, 10, 22], [461, 7, 129, 462, 463, 22, 10], [464, 465, 1, 129, 198, 29, 2], [6, 94, 19, 7, 21, 193, 22, 96, 466, 7, 172, 38, 199, 467, 468, 76, 130], [31, 7, 469, 470, 8, 471, 27, 3, 200, 25, 100, 4, 472, 1, 26, 473, 16, 5, 12], [474, 1, 129, 198, 127, 24, 475, 201, 27, 131, 476, 5, 12], [477, 15, 50, 202, 18, 478, 50, 7, 479, 23, 89], [42, 25, 1, 202, 4, 146, 1, 480, 7, 132, 85, 16, 5, 74, 4, 481, 16, 201, 482, 102, 97], [31, 124, 1, 483, 484, 2, 67, 54, 485, 5, 2, 96], [84, 1, 90, 22, 11], [4, 133, 18, 134, 135, 56, 95, 2, 17, 15], [486, 50, 1, 21, 32, 91, 203, 80, 68, 1, 161, 2, 71, 136, 23, 3, 487, 50, 120, 69], [4, 488, 28, 85, 27, 3], [204, 13, 489, 66, 14, 96, 30, 2, 5, 490, 1, 137, 103, 64, 491, 3, 58, 1, 9, 12, 20, 2], [6, 205, 7, 137, 63, 2, 10, 103, 81, 99, 6, 492, 2, 120, 135], [493], [15, 31, 494, 6, 10, 4, 59, 173, 16, 134, 135], [101, 104, 62, 98, 13, 495, 3, 14, 15, 496, 95, 16, 89, 6, 11, 59], [101, 31, 93, 206, 2, 17, 138, 207], [208, 19, 13, 137, 63, 497, 58, 12, 41, 3, 13, 208, 19, 1, 21, 32, 8, 1, 9], [84, 2, 6, 5, 498, 41, 37, 79, 13, 63, 5, 84], [97, 183, 499, 22, 5, 78], [124, 500, 6, 11, 67, 209, 6, 10], [209, 4, 501, 1, 90, 134, 6, 10, 102, 53, 4, 111, 27, 3], [502, 210], [4, 68, 43, 20, 1, 9, 14, 503, 102, 10, 7, 504, 505, 167, 118, 16, 3], [7, 195, 26, 37, 2, 10, 68, 57, 211, 13, 63, 6, 506, 68], [212, 55, 22, 11, 39, 17, 76, 213, 126], [507, 508, 11, 102, 509, 510, 511, 1, 512, 11, 12, 513], [514, 515, 39, 99, 12], [4, 214, 4, 44, 215, 180, 30], [56, 1, 9, 216, 19, 1, 203, 194, 126, 22, 47, 217, 16, 3, 516, 1, 85, 3, 192, 517, 22, 5], [101, 37, 79, 188, 7, 196, 19, 13, 518, 33, 214, 70, 6, 10, 25, 2], [62, 45, 519, 80, 105, 1, 60, 4, 520], [43, 46, 80, 521, 87, 1, 522, 8, 1, 9, 4, 77, 86, 13, 45, 37, 57, 211], [1, 523, 8, 1, 524, 525, 8, 1, 526, 23, 527, 72, 4, 528, 20, 30, 6, 5, 218, 2], [72, 4, 219, 1, 9, 23, 5, 77, 2, 13, 210, 2, 5, 529, 82, 43, 20, 1, 9, 220, 13, 530, 531, 179], [532, 53, 125, 19, 30, 533, 44, 221], [534, 23, 3, 15, 51], [51, 17, 2, 34, 75, 2, 8, 51, 25, 535, 121, 222, 10, 6, 71, 26, 64, 156, 536, 5, 6, 157, 33, 46, 3, 4, 12, 71, 7, 26, 11, 10, 1, 151, 152, 1, 109, 153, 49, 18, 43, 7, 132, 85, 10, 6, 537, 223, 44, 49, 33, 538, 23, 89, 106, 34, 23, 89, 539, 540, 541, 224, 542, 224, 7, 26, 543, 15, 123, 139, 2, 17, 225], [23, 3, 52, 45, 35, 52, 45, 4, 544, 1, 70], [5, 23, 545, 34, 23, 546], [547, 2, 5, 12, 2, 5, 12], [548, 35, 7, 226, 227, 228, 87, 1, 9, 36, 229, 8, 1, 21, 32, 549, 1, 21, 32, 8, 1, 9, 17, 39, 550, 39, 230, 231, 4, 219, 2, 19, 7, 133, 31, 232, 2, 233, 234, 1, 21, 60, 140, 5, 16, 235, 13, 236, 551, 2, 16, 5, 41, 16, 88, 552, 63], [553, 554, 200, 38, 555], [2, 5, 75, 82, 2, 17, 237, 104, 556, 557, 7, 26, 558, 1, 9, 25, 199, 14, 559, 223, 25, 560], [28, 28, 27, 3, 28, 138, 115, 38, 5, 6, 218, 2, 561, 562, 13, 49, 8, 563, 141, 564], [24, 565, 56, 20, 1, 21, 32, 8, 1, 9, 7, 566, 8, 238, 16, 3, 19, 2, 11, 67], [54, 34, 2, 74, 20, 2], [13, 567, 5, 15, 78, 55], [204, 1, 9, 35], [568, 569, 92, 16], [570], [93, 571, 17, 2, 113, 20, 2, 16, 572, 12, 217, 205, 2, 115, 24, 6, 59], [28, 28, 239, 54, 239, 19, 13, 49, 2, 11, 573, 34, 2, 10, 105], [28, 117, 15, 29, 81, 29, 15, 27, 3, 28, 117], [240, 241, 15, 142, 104, 86, 574, 86, 50, 64, 240, 29, 2, 575, 576], [14, 577, 2, 99, 15, 25, 64, 143, 19, 1, 9, 14, 7, 206, 143, 16, 3, 184, 578, 16, 579, 16, 580, 178, 581, 582, 100, 14, 583, 100, 584, 585, 17, 586, 18, 587, 588, 2, 11, 92, 1, 9, 185, 2, 589, 242, 590, 591, 592, 35, 220, 242, 18, 593, 14, 24, 197], [24, 3, 138, 2, 594], [595, 1, 9, 230, 35, 42, 237, 35, 108, 1, 9, 139, 2, 5, 40, 596, 597, 1, 598, 599, 45, 128, 132, 136], [106, 144, 144, 2, 11, 111, 144], [141, 128, 2, 10, 27], [16, 3, 1, 61, 2, 40], [600, 4, 40, 113, 19, 601, 3, 1, 61], [602, 2, 11, 72, 4, 603, 55, 604, 31, 2, 207, 83, 65, 55, 2, 191, 36, 2, 605, 84, 118, 25, 243, 39, 10, 606, 14, 607], [107, 2, 11, 608, 1, 70], [2, 11, 15, 67], [35, 35, 4, 66, 2, 609, 1, 244, 245, 13, 610, 104, 1, 244], [611, 39, 11, 12, 33, 18, 612, 54, 7, 613, 71, 26, 160, 20, 1, 9, 41, 44, 143, 5, 614, 69, 14, 44, 103, 31, 2, 98, 13, 70, 83, 31, 2, 615, 1, 231, 14, 616, 60, 41, 69, 88, 2, 5, 68, 62, 617, 8, 238], [31, 2, 618, 34, 39, 133, 619], [56, 3, 69, 49, 34, 2, 10, 105, 212, 2, 16, 47], [246, 2, 6, 88, 225, 3, 23, 83, 241, 17, 166], [28, 27, 3, 620], [106, 24, 247, 2, 621, 142, 6, 93, 45, 4, 91, 622], [6, 29, 35, 6, 29, 623, 10, 6, 68, 45, 14, 624, 82, 625, 121, 222, 45, 2, 626, 142, 41, 42, 2, 5, 15, 106], [131, 5, 6, 145, 35, 140, 627, 628, 16, 6, 10], [56, 248, 6, 20, 1, 9, 36, 15, 24, 56, 629, 3, 630, 86, 14, 131, 631, 11, 632, 24, 3, 1, 130, 8, 139, 1, 130, 8, 1, 9], [28, 38, 70, 29, 2, 633, 634, 75, 2, 24, 243, 2, 78], [635, 15, 636, 43, 637, 177, 69, 2, 11, 249, 69, 73, 54, 73, 7, 26, 5, 2, 12, 14, 249, 30, 2, 5], [141, 145, 6, 78, 35, 145], [13, 221, 23, 3], [246, 2, 88, 23], [638, 18, 3, 14, 250], [28, 250, 24, 2, 639, 4, 247, 30, 24, 640, 89, 13, 70, 15, 51, 25, 1, 641, 154, 2], [245, 7, 226, 227, 228, 87, 1, 9, 36, 229, 125, 48, 642, 1, 21, 32, 17, 39, 232, 2, 233, 234, 1, 21, 60, 140, 5, 16, 235, 13, 236], [643, 644, 15, 645, 1, 190, 8, 1, 103, 81, 646, 13, 647, 159, 2, 5, 107, 82, 136, 248, 6, 1, 213, 8, 1, 26, 5, 2, 12, 107, 1, 9, 216, 56, 19, 13, 215, 648, 33, 34, 2, 10, 105, 107, 27, 3, 649]]\n",
            "650\n",
            "168\n"
          ],
          "name": "stdout"
        }
      ]
    },
    {
      "cell_type": "code",
      "metadata": {
        "id": "Y1QUY8jMORtZ",
        "colab": {
          "base_uri": "https://localhost:8080/"
        },
        "outputId": "d94c5f17-c099-42d3-8f04-63c6d70bcc53"
      },
      "source": [
        "!wget http://nlp.stanford.edu/data/glove.6B.zip\n",
        "!unzip glove*.zip\n",
        "!ls\n",
        "!pwd"
      ],
      "execution_count": 13,
      "outputs": [
        {
          "output_type": "stream",
          "text": [
            "--2021-04-15 21:13:00--  http://nlp.stanford.edu/data/glove.6B.zip\n",
            "Resolving nlp.stanford.edu (nlp.stanford.edu)... 171.64.67.140\n",
            "Connecting to nlp.stanford.edu (nlp.stanford.edu)|171.64.67.140|:80... connected.\n",
            "HTTP request sent, awaiting response... 302 Found\n",
            "Location: https://nlp.stanford.edu/data/glove.6B.zip [following]\n",
            "--2021-04-15 21:13:00--  https://nlp.stanford.edu/data/glove.6B.zip\n",
            "Connecting to nlp.stanford.edu (nlp.stanford.edu)|171.64.67.140|:443... connected.\n",
            "HTTP request sent, awaiting response... 301 Moved Permanently\n",
            "Location: http://downloads.cs.stanford.edu/nlp/data/glove.6B.zip [following]\n",
            "--2021-04-15 21:13:01--  http://downloads.cs.stanford.edu/nlp/data/glove.6B.zip\n",
            "Resolving downloads.cs.stanford.edu (downloads.cs.stanford.edu)... 171.64.64.22\n",
            "Connecting to downloads.cs.stanford.edu (downloads.cs.stanford.edu)|171.64.64.22|:80... connected.\n",
            "HTTP request sent, awaiting response... 200 OK\n",
            "Length: 862182613 (822M) [application/zip]\n",
            "Saving to: ‘glove.6B.zip’\n",
            "\n",
            "glove.6B.zip        100%[===================>] 822.24M  5.22MB/s    in 2m 42s  \n",
            "\n",
            "2021-04-15 21:15:43 (5.09 MB/s) - ‘glove.6B.zip’ saved [862182613/862182613]\n",
            "\n",
            "Archive:  glove.6B.zip\n",
            "  inflating: glove.6B.50d.txt        \n",
            "  inflating: glove.6B.100d.txt       \n",
            "  inflating: glove.6B.200d.txt       \n",
            "  inflating: glove.6B.300d.txt       \n",
            "drive\t\t   glove.6B.200d.txt  glove.6B.50d.txt\tsample_data\n",
            "glove.6B.100d.txt  glove.6B.300d.txt  glove.6B.zip\tYodaProcessedData.txt\n",
            "/content\n"
          ],
          "name": "stdout"
        }
      ]
    },
    {
      "cell_type": "code",
      "metadata": {
        "id": "5SNQlL7mOLcN",
        "colab": {
          "base_uri": "https://localhost:8080/"
        },
        "outputId": "ce5e1b53-28d4-4e4b-9320-012eab3b11f2"
      },
      "source": [
        "# load the whole embedding into memory\n",
        "embeddings_index = dict()\n",
        "f = open('/content/glove.6B.300d.txt')\n",
        "\n",
        "for line in f:\n",
        "    values = line.split()\n",
        "    word = values[0]\n",
        "    coefs = np.asarray(values[1:], dtype='float32')\n",
        "    embeddings_index[word] = coefs\n",
        "\n",
        "f.close()\n",
        "print('Loaded %s word vectors.' % len(embeddings_index))\n",
        "\n",
        "# create a weight matrix for words in training docs\n",
        "embedding_matrix = np.zeros((vocab_size, 300))\n",
        "\n",
        "for word, i in tokenizer.word_index.items():\n",
        "    embedding_vector = embeddings_index.get(word)\n",
        "    if embedding_vector is not None:\n",
        "        embedding_matrix[i] = embedding_vector"
      ],
      "execution_count": 14,
      "outputs": [
        {
          "output_type": "stream",
          "text": [
            "Loaded 400000 word vectors.\n"
          ],
          "name": "stdout"
        }
      ]
    },
    {
      "cell_type": "code",
      "metadata": {
        "colab": {
          "base_uri": "https://localhost:8080/"
        },
        "id": "M992VcLjiUVE",
        "outputId": "20af0d72-f7a8-4a68-e82c-b36a8b95d2ad"
      },
      "source": [
        "print(embedding_matrix.shape)"
      ],
      "execution_count": 15,
      "outputs": [
        {
          "output_type": "stream",
          "text": [
            "(650, 300)\n"
          ],
          "name": "stdout"
        }
      ]
    },
    {
      "cell_type": "code",
      "metadata": {
        "id": "2YiP1jFnWNRx"
      },
      "source": [
        "#Create sliding windows\n",
        "seq_length = 5\n",
        "sequences_step = 1\n",
        "dataX = []\n",
        "dataY = []\n",
        "for dialogue in sequences_tokenised:\n",
        "  window = []\n",
        "  for i in range(len(dialogue)-5):\n",
        "    dataX.append(dialogue[i:i+5])\n",
        "    dataY.append(dialogue[i+5])\n"
      ],
      "execution_count": 16,
      "outputs": []
    },
    {
      "cell_type": "code",
      "metadata": {
        "colab": {
          "base_uri": "https://localhost:8080/"
        },
        "id": "81JQ-gRXWPEY",
        "outputId": "05d92813-d505-40ac-824f-f715f9fdfc61"
      },
      "source": [
        "print(len(dataX))\n",
        "print(len(dataY))"
      ],
      "execution_count": 18,
      "outputs": [
        {
          "output_type": "stream",
          "text": [
            "1304\n",
            "1304\n"
          ],
          "name": "stdout"
        }
      ]
    },
    {
      "cell_type": "code",
      "metadata": {
        "colab": {
          "base_uri": "https://localhost:8080/"
        },
        "id": "xhphmwj6lnFq",
        "outputId": "e04371ad-f9aa-4225-fb4a-3cd76270afcf"
      },
      "source": [
        "print(dataX)\n",
        "print(pd.get_dummies(dataY))"
      ],
      "execution_count": 19,
      "outputs": [
        {
          "output_type": "stream",
          "text": [
            "[[1, 251, 252, 3, 253], [251, 252, 3, 253, 31], [252, 3, 253, 31, 254], [3, 253, 31, 254, 1], [253, 31, 254, 1, 90], [255, 4, 40, 1, 21], [4, 40, 1, 21, 32], [40, 1, 21, 32, 3], [1, 21, 32, 3, 146], [21, 32, 3, 146, 46], [32, 3, 146, 46, 18], [3, 146, 46, 18, 256], [146, 46, 18, 256, 3], [20, 18, 257, 258, 2], [18, 257, 258, 2, 11], [257, 258, 2, 11, 259], [258, 2, 11, 259, 57], [2, 11, 259, 57, 260], [58, 1, 9, 12, 20], [262, 37, 57, 38, 4], [37, 57, 38, 4, 59], [57, 38, 4, 59, 10], [36, 2, 29, 264, 13], [2, 29, 264, 13, 265], [71, 41, 7, 26, 2], [41, 7, 26, 2, 266], [7, 26, 2, 266, 25], [42, 42, 91, 43, 72], [42, 91, 43, 72, 92], [269, 48, 3, 1, 60], [48, 3, 1, 60, 4], [3, 1, 60, 4, 1], [1, 60, 4, 1, 21], [60, 4, 1, 21, 32], [4, 1, 21, 32, 48], [1, 21, 32, 48, 150], [7, 26, 11, 10, 1], [26, 11, 10, 1, 151], [11, 10, 1, 151, 152], [10, 1, 151, 152, 1], [1, 151, 152, 1, 109], [151, 152, 1, 109, 153], [152, 1, 109, 153, 49], [272, 18, 273, 61, 3], [18, 273, 61, 3, 274], [273, 61, 3, 274, 50], [61, 3, 274, 50, 44], [62, 63, 2, 10, 57], [63, 2, 10, 57, 155], [2, 10, 57, 155, 4], [10, 57, 155, 4, 74], [57, 155, 4, 74, 33], [155, 4, 74, 33, 7], [51, 93, 277, 17, 2], [93, 277, 17, 2, 34], [277, 17, 2, 34, 75], [17, 2, 34, 75, 2], [2, 34, 75, 2, 8], [76, 156, 110, 22, 5], [156, 110, 22, 5, 157], [110, 22, 5, 157, 33], [22, 5, 157, 33, 46], [5, 157, 33, 46, 3], [157, 33, 46, 3, 51], [33, 46, 3, 51, 38], [46, 3, 51, 38, 4], [3, 51, 38, 4, 111], [14, 278, 158, 1, 279], [91, 281, 159, 5, 12], [281, 159, 5, 12, 282], [77, 30, 15, 74, 30], [30, 15, 74, 30, 20], [15, 74, 30, 20, 2], [74, 30, 20, 2, 36], [30, 20, 2, 36, 77], [20, 2, 36, 77, 30], [58, 1, 9, 12, 20], [284, 33, 2, 1, 285], [33, 2, 1, 285, 8], [2, 1, 285, 8, 26], [1, 285, 8, 26, 160], [285, 8, 26, 160, 1], [8, 26, 160, 1, 286], [26, 160, 1, 286, 112], [160, 1, 286, 112, 36], [1, 287, 43, 1, 161], [287, 43, 1, 161, 58], [43, 1, 161, 58, 12], [1, 161, 58, 12, 288], [161, 58, 12, 288, 162], [58, 12, 288, 162, 163], [12, 288, 162, 163, 6], [288, 162, 163, 6, 48], [289, 290, 6, 164, 19], [290, 6, 164, 19, 2], [6, 164, 19, 2, 78], [164, 19, 2, 78, 24], [19, 2, 78, 24, 2], [2, 78, 24, 2, 29], [78, 24, 2, 29, 15], [24, 2, 29, 15, 94], [113, 114, 27, 291, 292], [114, 27, 291, 292, 165], [27, 291, 292, 165, 7], [291, 292, 165, 7, 293], [292, 165, 7, 293, 14], [166, 167, 168, 6, 48], [155, 4, 40, 1, 21], [4, 40, 1, 21, 295], [40, 1, 21, 295, 169], [1, 21, 295, 169, 36], [21, 295, 169, 36, 18], [295, 169, 36, 18, 6], [169, 36, 18, 6, 296], [36, 18, 6, 296, 8], [18, 6, 296, 8, 297], [6, 296, 8, 297, 44], [296, 8, 297, 44, 298], [8, 297, 44, 298, 299], [297, 44, 298, 299, 300], [44, 298, 299, 300, 1], [298, 299, 300, 1, 26], [20, 2, 1, 9, 3], [2, 1, 9, 3, 301], [1, 9, 3, 301, 170], [9, 3, 301, 170, 4], [3, 301, 170, 4, 40], [301, 170, 4, 40, 2], [170, 4, 40, 2, 302], [4, 40, 2, 302, 303], [40, 2, 302, 303, 304], [2, 302, 303, 304, 4], [302, 303, 304, 4, 64], [19, 21, 171, 115, 3], [21, 171, 115, 3, 34], [171, 115, 3, 34, 306], [115, 3, 34, 306, 4], [3, 34, 306, 4, 12], [34, 306, 4, 12, 36], [306, 4, 12, 36, 1], [4, 12, 36, 1, 307], [12, 36, 1, 307, 308], [36, 1, 307, 308, 19], [1, 307, 308, 19, 162], [307, 308, 19, 162, 163], [308, 19, 162, 163, 2], [52, 172, 173, 116, 309], [172, 173, 116, 309, 170], [173, 116, 309, 170, 14], [116, 309, 170, 14, 52], [309, 170, 14, 52, 53], [170, 14, 52, 53, 310], [14, 52, 53, 310, 12], [52, 53, 310, 12, 311], [53, 310, 12, 311, 8], [310, 12, 311, 8, 312], [12, 311, 8, 312, 313], [311, 8, 312, 313, 314], [8, 312, 313, 314, 76], [315, 1, 61, 3, 316], [1, 61, 3, 316, 19], [61, 3, 316, 19, 1], [14, 54, 174, 46, 10], [54, 174, 46, 10, 317], [174, 46, 10, 317, 318], [46, 10, 317, 318, 21], [10, 317, 318, 21, 32], [317, 318, 21, 32, 47], [318, 21, 32, 47, 164], [21, 32, 47, 164, 319], [32, 47, 164, 319, 8], [47, 164, 319, 8, 1], [164, 319, 8, 1, 61], [319, 8, 1, 61, 320], [8, 1, 61, 320, 108], [1, 61, 320, 108, 1], [61, 320, 108, 1, 21], [320, 108, 1, 21, 32], [108, 1, 21, 32, 47], [158, 27, 39, 17, 322], [27, 39, 17, 322, 24], [54, 31, 23, 323, 4], [31, 23, 323, 4, 324], [326, 149, 92, 12, 41], [149, 92, 12, 41, 327], [92, 12, 41, 327, 1], [12, 41, 327, 1, 9], [41, 327, 1, 9, 65], [327, 1, 9, 65, 2], [1, 9, 65, 2, 16], [9, 65, 2, 16, 328], [65, 2, 16, 328, 329], [2, 16, 328, 329, 330], [16, 328, 329, 330, 95], [328, 329, 330, 95, 7], [329, 330, 95, 7, 331], [330, 95, 7, 331, 332], [95, 7, 331, 332, 333], [334, 66, 79, 335, 336], [66, 79, 335, 336, 337], [34, 65, 4, 2, 47], [65, 4, 2, 47, 6], [62, 175, 176, 339, 1], [175, 176, 339, 1, 340], [176, 339, 1, 340, 341], [339, 1, 340, 341, 342], [1, 340, 341, 342, 66], [340, 341, 342, 66, 80], [341, 342, 66, 80, 343], [342, 66, 80, 343, 7], [66, 80, 343, 7, 344], [80, 343, 7, 344, 16], [343, 7, 344, 16, 22], [7, 344, 16, 22, 5], [109, 175, 345, 177, 36], [175, 345, 177, 36, 1], [345, 177, 36, 1, 346], [177, 36, 1, 346, 118], [36, 1, 346, 118, 178], [1, 346, 118, 178, 347], [346, 118, 178, 347, 348], [118, 178, 347, 348, 72], [178, 347, 348, 72, 47], [347, 348, 72, 47, 18], [349, 350, 1, 49, 8], [350, 1, 49, 8, 351], [1, 49, 8, 351, 3], [49, 8, 351, 3, 352], [8, 351, 3, 352, 4], [351, 3, 352, 4, 353], [3, 352, 4, 353, 8], [352, 4, 353, 8, 1], [4, 353, 8, 1, 354], [353, 8, 1, 354, 8], [8, 1, 354, 8, 355], [1, 354, 8, 355, 356], [354, 8, 355, 356, 96], [8, 355, 356, 96, 13], [355, 356, 96, 13, 357], [356, 96, 13, 357, 2], [358, 359, 4, 360, 361], [1, 110, 3, 362, 19], [110, 3, 362, 19, 18], [46, 23, 3, 364, 25], [23, 3, 364, 25, 365], [3, 364, 25, 365, 2], [366, 1, 119, 8, 18], [20, 1, 368, 120, 7], [1, 368, 120, 7, 90], [368, 120, 7, 90, 369], [179, 52, 370, 371, 17], [52, 370, 371, 17, 372], [370, 371, 17, 372, 18], [371, 17, 372, 18, 176], [17, 372, 18, 176, 27], [373, 37, 374, 114, 375], [37, 374, 114, 375, 180], [374, 114, 375, 180, 95], [114, 375, 180, 95, 376], [375, 180, 95, 376, 377], [38, 379, 4, 1, 380], [379, 4, 1, 380, 55], [4, 1, 380, 55, 22], [1, 380, 55, 22, 11], [181, 382, 28, 383, 384], [382, 28, 383, 384, 29], [28, 383, 384, 29, 6], [385, 98, 25, 2, 181], [98, 25, 2, 181, 18], [386, 122, 7, 387, 16], [122, 7, 387, 16, 388], [7, 387, 16, 388, 66], [387, 16, 388, 66, 389], [16, 388, 66, 389, 1], [388, 66, 389, 1, 390], [182, 182, 391, 123, 392], [182, 391, 123, 392, 2], [116, 2, 393, 8, 81], [2, 393, 8, 81, 394], [393, 8, 81, 394, 2], [183, 2, 11, 12, 82], [2, 11, 12, 82, 396], [11, 12, 82, 396, 1], [12, 82, 396, 1, 61], [82, 396, 1, 61, 397], [396, 1, 61, 397, 1], [1, 61, 397, 1, 48], [61, 397, 1, 48, 8], [397, 1, 48, 8, 398], [1, 48, 8, 398, 3], [48, 8, 398, 3, 7], [8, 398, 3, 7, 60], [398, 3, 7, 60, 4], [3, 7, 60, 4, 1], [7, 60, 4, 1, 21], [399, 3, 7, 400, 401], [3, 7, 400, 401, 8], [7, 400, 401, 8, 184], [400, 401, 8, 184, 402], [401, 8, 184, 402, 25], [8, 184, 402, 25, 174], [184, 402, 25, 174, 185], [402, 25, 174, 185, 2], [25, 174, 185, 2, 46], [174, 185, 2, 46, 403], [185, 2, 46, 403, 124], [2, 46, 403, 124, 1], [46, 403, 124, 1, 9], [403, 124, 1, 9, 404], [124, 1, 9, 404, 55], [1, 9, 404, 55, 29], [9, 404, 55, 29, 15], [404, 55, 29, 15, 186], [55, 29, 15, 186, 55], [29, 15, 186, 55, 29], [15, 186, 55, 29, 15], [186, 55, 29, 15, 405], [55, 29, 15, 405, 150], [29, 15, 405, 150, 4], [15, 405, 150, 4, 406], [405, 150, 4, 406, 1], [150, 4, 406, 1, 407], [4, 406, 1, 407, 8], [406, 1, 407, 8, 408], [1, 407, 8, 408, 24], [77, 116, 4, 409, 67], [116, 4, 409, 67, 8], [4, 409, 67, 8, 169], [409, 67, 8, 169, 2], [67, 8, 169, 2, 48], [8, 169, 2, 48, 4], [410, 18, 411, 412, 1], [18, 411, 412, 1, 110], [411, 412, 1, 110, 112], [412, 1, 110, 112, 15], [1, 110, 112, 15, 413], [110, 112, 15, 413, 3], [112, 15, 413, 3, 18], [15, 413, 3, 18, 414], [413, 3, 18, 414, 50], [3, 18, 414, 50, 119], [416, 19, 1, 417, 418], [19, 1, 417, 418, 187], [1, 417, 418, 187, 3], [417, 418, 187, 3, 1], [418, 187, 3, 1, 419], [187, 3, 1, 419, 420], [3, 1, 419, 420, 2], [1, 419, 420, 2, 11], [37, 79, 76, 422, 423], [79, 76, 422, 423, 2], [76, 422, 423, 2, 11], [422, 423, 2, 11, 14], [423, 2, 11, 14, 73], [67, 6, 5, 42, 424], [6, 5, 42, 424, 20], [5, 42, 424, 20, 1], [42, 424, 20, 1, 189], [424, 20, 1, 189, 6], [52, 53, 425, 1, 426], [53, 425, 1, 426, 8], [425, 1, 426, 8, 1], [1, 426, 8, 1, 119], [426, 8, 1, 119, 23], [8, 1, 119, 23, 3], [1, 119, 23, 3, 53], [119, 23, 3, 53, 125], [23, 3, 53, 125, 27], [3, 53, 125, 27, 3], [53, 125, 27, 3, 19], [125, 27, 3, 19, 30], [27, 3, 19, 30, 52], [3, 19, 30, 52, 53], [19, 30, 52, 53, 427], [30, 52, 53, 427, 19], [52, 53, 427, 19, 44], [7, 428, 24, 429, 191], [428, 24, 429, 191, 10], [6, 126, 192, 2, 17], [126, 192, 2, 17, 14], [192, 2, 17, 14, 83], [2, 17, 14, 83, 84], [17, 14, 83, 84, 1], [14, 83, 84, 1, 431], [83, 84, 1, 431, 432], [84, 1, 431, 432, 33], [1, 431, 432, 33, 433], [431, 432, 33, 433, 6], [432, 33, 433, 6, 5], [33, 433, 6, 5, 58], [433, 6, 5, 58, 1], [6, 5, 58, 1, 9], [5, 58, 1, 9, 12], [58, 1, 9, 12, 20], [434, 33, 18, 22, 11], [33, 18, 22, 11, 1], [18, 22, 11, 1, 435], [22, 11, 1, 435, 8], [11, 1, 435, 8, 436], [1, 435, 8, 436, 187], [435, 8, 436, 187, 5], [8, 436, 187, 5, 98], [436, 187, 5, 98, 18], [187, 5, 98, 18, 168], [5, 98, 18, 168, 127], [98, 18, 168, 127, 14], [18, 168, 127, 14, 437], [168, 127, 14, 437, 22], [127, 14, 437, 22, 99], [7, 37, 3, 439, 20], [37, 3, 439, 20, 38], [73, 83, 1, 85, 3], [4, 7, 21, 193, 18], [7, 21, 193, 18, 194], [21, 193, 18, 194, 8], [193, 18, 194, 8, 443], [18, 194, 8, 443, 5], [194, 8, 443, 5, 444], [8, 443, 5, 444, 100], [443, 5, 444, 100, 445], [5, 444, 100, 445, 195], [444, 100, 445, 195, 446], [100, 445, 195, 446, 22], [445, 195, 446, 22, 11], [447, 18, 448, 112, 7], [18, 448, 112, 7, 196], [448, 112, 7, 196, 4], [112, 7, 196, 4, 449], [7, 196, 4, 449, 450], [101, 15, 451, 17, 22], [15, 451, 17, 22, 87], [451, 17, 22, 87, 1], [17, 22, 87, 1, 452], [22, 87, 1, 452, 197], [453, 454, 14, 455, 186], [454, 14, 455, 186, 2], [14, 455, 186, 2, 6], [455, 186, 2, 6, 5], [186, 2, 6, 5, 42], [2, 6, 5, 42, 128], [6, 5, 42, 128, 2], [5, 42, 128, 2, 17], [42, 128, 2, 17, 25], [128, 2, 17, 25, 13], [2, 17, 25, 13, 65], [17, 25, 13, 65, 53], [25, 13, 65, 53, 456], [13, 65, 53, 456, 14], [65, 53, 456, 14, 457], [53, 456, 14, 457, 6], [37, 79, 21, 171, 17], [79, 21, 171, 17, 123], [21, 171, 17, 123, 42], [171, 17, 123, 42, 4], [17, 123, 42, 4, 40], [123, 42, 4, 40, 2], [42, 4, 40, 2, 16], [20, 1, 65, 8, 1], [1, 65, 8, 1, 189], [65, 8, 1, 189, 458], [8, 1, 189, 458, 459], [1, 189, 458, 459, 6], [460, 87, 28, 43, 10], [461, 7, 129, 462, 463], [7, 129, 462, 463, 22], [464, 465, 1, 129, 198], [465, 1, 129, 198, 29], [6, 94, 19, 7, 21], [94, 19, 7, 21, 193], [19, 7, 21, 193, 22], [7, 21, 193, 22, 96], [21, 193, 22, 96, 466], [193, 22, 96, 466, 7], [22, 96, 466, 7, 172], [96, 466, 7, 172, 38], [466, 7, 172, 38, 199], [7, 172, 38, 199, 467], [172, 38, 199, 467, 468], [38, 199, 467, 468, 76], [31, 7, 469, 470, 8], [7, 469, 470, 8, 471], [469, 470, 8, 471, 27], [470, 8, 471, 27, 3], [8, 471, 27, 3, 200], [471, 27, 3, 200, 25], [27, 3, 200, 25, 100], [3, 200, 25, 100, 4], [200, 25, 100, 4, 472], [25, 100, 4, 472, 1], [100, 4, 472, 1, 26], [4, 472, 1, 26, 473], [472, 1, 26, 473, 16], [1, 26, 473, 16, 5], [474, 1, 129, 198, 127], [1, 129, 198, 127, 24], [129, 198, 127, 24, 475], [198, 127, 24, 475, 201], [127, 24, 475, 201, 27], [24, 475, 201, 27, 131], [475, 201, 27, 131, 476], [201, 27, 131, 476, 5], [477, 15, 50, 202, 18], [15, 50, 202, 18, 478], [50, 202, 18, 478, 50], [202, 18, 478, 50, 7], [18, 478, 50, 7, 479], [478, 50, 7, 479, 23], [42, 25, 1, 202, 4], [25, 1, 202, 4, 146], [1, 202, 4, 146, 1], [202, 4, 146, 1, 480], [4, 146, 1, 480, 7], [146, 1, 480, 7, 132], [1, 480, 7, 132, 85], [480, 7, 132, 85, 16], [7, 132, 85, 16, 5], [132, 85, 16, 5, 74], [85, 16, 5, 74, 4], [16, 5, 74, 4, 481], [5, 74, 4, 481, 16], [74, 4, 481, 16, 201], [4, 481, 16, 201, 482], [481, 16, 201, 482, 102], [31, 124, 1, 483, 484], [124, 1, 483, 484, 2], [1, 483, 484, 2, 67], [483, 484, 2, 67, 54], [484, 2, 67, 54, 485], [2, 67, 54, 485, 5], [67, 54, 485, 5, 2], [4, 133, 18, 134, 135], [133, 18, 134, 135, 56], [18, 134, 135, 56, 95], [134, 135, 56, 95, 2], [135, 56, 95, 2, 17], [486, 50, 1, 21, 32], [50, 1, 21, 32, 91], [1, 21, 32, 91, 203], [21, 32, 91, 203, 80], [32, 91, 203, 80, 68], [91, 203, 80, 68, 1], [203, 80, 68, 1, 161], [80, 68, 1, 161, 2], [68, 1, 161, 2, 71], [1, 161, 2, 71, 136], [161, 2, 71, 136, 23], [2, 71, 136, 23, 3], [71, 136, 23, 3, 487], [136, 23, 3, 487, 50], [23, 3, 487, 50, 120], [4, 488, 28, 85, 27], [204, 13, 489, 66, 14], [13, 489, 66, 14, 96], [489, 66, 14, 96, 30], [66, 14, 96, 30, 2], [14, 96, 30, 2, 5], [96, 30, 2, 5, 490], [30, 2, 5, 490, 1], [2, 5, 490, 1, 137], [5, 490, 1, 137, 103], [490, 1, 137, 103, 64], [1, 137, 103, 64, 491], [137, 103, 64, 491, 3], [103, 64, 491, 3, 58], [64, 491, 3, 58, 1], [491, 3, 58, 1, 9], [3, 58, 1, 9, 12], [58, 1, 9, 12, 20], [6, 205, 7, 137, 63], [205, 7, 137, 63, 2], [7, 137, 63, 2, 10], [137, 63, 2, 10, 103], [63, 2, 10, 103, 81], [2, 10, 103, 81, 99], [10, 103, 81, 99, 6], [103, 81, 99, 6, 492], [81, 99, 6, 492, 2], [99, 6, 492, 2, 120], [15, 31, 494, 6, 10], [31, 494, 6, 10, 4], [494, 6, 10, 4, 59], [6, 10, 4, 59, 173], [10, 4, 59, 173, 16], [4, 59, 173, 16, 134], [101, 104, 62, 98, 13], [104, 62, 98, 13, 495], [62, 98, 13, 495, 3], [98, 13, 495, 3, 14], [13, 495, 3, 14, 15], [495, 3, 14, 15, 496], [3, 14, 15, 496, 95], [14, 15, 496, 95, 16], [15, 496, 95, 16, 89], [496, 95, 16, 89, 6], [95, 16, 89, 6, 11], [101, 31, 93, 206, 2], [31, 93, 206, 2, 17], [93, 206, 2, 17, 138], [208, 19, 13, 137, 63], [19, 13, 137, 63, 497], [13, 137, 63, 497, 58], [137, 63, 497, 58, 12], [63, 497, 58, 12, 41], [497, 58, 12, 41, 3], [58, 12, 41, 3, 13], [12, 41, 3, 13, 208], [41, 3, 13, 208, 19], [3, 13, 208, 19, 1], [13, 208, 19, 1, 21], [208, 19, 1, 21, 32], [19, 1, 21, 32, 8], [1, 21, 32, 8, 1], [84, 2, 6, 5, 498], [2, 6, 5, 498, 41], [6, 5, 498, 41, 37], [5, 498, 41, 37, 79], [498, 41, 37, 79, 13], [41, 37, 79, 13, 63], [37, 79, 13, 63, 5], [97, 183, 499, 22, 5], [124, 500, 6, 11, 67], [500, 6, 11, 67, 209], [6, 11, 67, 209, 6], [209, 4, 501, 1, 90], [4, 501, 1, 90, 134], [501, 1, 90, 134, 6], [1, 90, 134, 6, 10], [90, 134, 6, 10, 102], [134, 6, 10, 102, 53], [6, 10, 102, 53, 4], [10, 102, 53, 4, 111], [102, 53, 4, 111, 27], [4, 68, 43, 20, 1], [68, 43, 20, 1, 9], [43, 20, 1, 9, 14], [20, 1, 9, 14, 503], [1, 9, 14, 503, 102], [9, 14, 503, 102, 10], [14, 503, 102, 10, 7], [503, 102, 10, 7, 504], [102, 10, 7, 504, 505], [10, 7, 504, 505, 167], [7, 504, 505, 167, 118], [504, 505, 167, 118, 16], [7, 195, 26, 37, 2], [195, 26, 37, 2, 10], [26, 37, 2, 10, 68], [37, 2, 10, 68, 57], [2, 10, 68, 57, 211], [10, 68, 57, 211, 13], [68, 57, 211, 13, 63], [57, 211, 13, 63, 6], [211, 13, 63, 6, 506], [212, 55, 22, 11, 39], [55, 22, 11, 39, 17], [22, 11, 39, 17, 76], [11, 39, 17, 76, 213], [507, 508, 11, 102, 509], [508, 11, 102, 509, 510], [11, 102, 509, 510, 511], [102, 509, 510, 511, 1], [509, 510, 511, 1, 512], [510, 511, 1, 512, 11], [511, 1, 512, 11, 12], [4, 214, 4, 44, 215], [214, 4, 44, 215, 180], [56, 1, 9, 216, 19], [1, 9, 216, 19, 1], [9, 216, 19, 1, 203], [216, 19, 1, 203, 194], [19, 1, 203, 194, 126], [1, 203, 194, 126, 22], [203, 194, 126, 22, 47], [194, 126, 22, 47, 217], [126, 22, 47, 217, 16], [22, 47, 217, 16, 3], [47, 217, 16, 3, 516], [217, 16, 3, 516, 1], [16, 3, 516, 1, 85], [3, 516, 1, 85, 3], [516, 1, 85, 3, 192], [1, 85, 3, 192, 517], [85, 3, 192, 517, 22], [101, 37, 79, 188, 7], [37, 79, 188, 7, 196], [79, 188, 7, 196, 19], [188, 7, 196, 19, 13], [7, 196, 19, 13, 518], [196, 19, 13, 518, 33], [19, 13, 518, 33, 214], [13, 518, 33, 214, 70], [518, 33, 214, 70, 6], [33, 214, 70, 6, 10], [214, 70, 6, 10, 25], [62, 45, 519, 80, 105], [45, 519, 80, 105, 1], [519, 80, 105, 1, 60], [80, 105, 1, 60, 4], [43, 46, 80, 521, 87], [46, 80, 521, 87, 1], [80, 521, 87, 1, 522], [521, 87, 1, 522, 8], [87, 1, 522, 8, 1], [1, 522, 8, 1, 9], [522, 8, 1, 9, 4], [8, 1, 9, 4, 77], [1, 9, 4, 77, 86], [9, 4, 77, 86, 13], [4, 77, 86, 13, 45], [77, 86, 13, 45, 37], [86, 13, 45, 37, 57], [1, 523, 8, 1, 524], [523, 8, 1, 524, 525], [8, 1, 524, 525, 8], [1, 524, 525, 8, 1], [524, 525, 8, 1, 526], [525, 8, 1, 526, 23], [8, 1, 526, 23, 527], [1, 526, 23, 527, 72], [526, 23, 527, 72, 4], [23, 527, 72, 4, 528], [527, 72, 4, 528, 20], [72, 4, 528, 20, 30], [4, 528, 20, 30, 6], [528, 20, 30, 6, 5], [20, 30, 6, 5, 218], [72, 4, 219, 1, 9], [4, 219, 1, 9, 23], [219, 1, 9, 23, 5], [1, 9, 23, 5, 77], [9, 23, 5, 77, 2], [23, 5, 77, 2, 13], [5, 77, 2, 13, 210], [77, 2, 13, 210, 2], [2, 13, 210, 2, 5], [13, 210, 2, 5, 529], [210, 2, 5, 529, 82], [2, 5, 529, 82, 43], [5, 529, 82, 43, 20], [529, 82, 43, 20, 1], [82, 43, 20, 1, 9], [43, 20, 1, 9, 220], [20, 1, 9, 220, 13], [1, 9, 220, 13, 530], [9, 220, 13, 530, 531], [532, 53, 125, 19, 30], [53, 125, 19, 30, 533], [125, 19, 30, 533, 44], [51, 17, 2, 34, 75], [17, 2, 34, 75, 2], [2, 34, 75, 2, 8], [34, 75, 2, 8, 51], [75, 2, 8, 51, 25], [2, 8, 51, 25, 535], [8, 51, 25, 535, 121], [51, 25, 535, 121, 222], [25, 535, 121, 222, 10], [535, 121, 222, 10, 6], [121, 222, 10, 6, 71], [222, 10, 6, 71, 26], [10, 6, 71, 26, 64], [6, 71, 26, 64, 156], [71, 26, 64, 156, 536], [26, 64, 156, 536, 5], [64, 156, 536, 5, 6], [156, 536, 5, 6, 157], [536, 5, 6, 157, 33], [5, 6, 157, 33, 46], [6, 157, 33, 46, 3], [157, 33, 46, 3, 4], [33, 46, 3, 4, 12], [46, 3, 4, 12, 71], [3, 4, 12, 71, 7], [4, 12, 71, 7, 26], [12, 71, 7, 26, 11], [71, 7, 26, 11, 10], [7, 26, 11, 10, 1], [26, 11, 10, 1, 151], [11, 10, 1, 151, 152], [10, 1, 151, 152, 1], [1, 151, 152, 1, 109], [151, 152, 1, 109, 153], [152, 1, 109, 153, 49], [1, 109, 153, 49, 18], [109, 153, 49, 18, 43], [153, 49, 18, 43, 7], [49, 18, 43, 7, 132], [18, 43, 7, 132, 85], [43, 7, 132, 85, 10], [7, 132, 85, 10, 6], [132, 85, 10, 6, 537], [85, 10, 6, 537, 223], [10, 6, 537, 223, 44], [6, 537, 223, 44, 49], [537, 223, 44, 49, 33], [223, 44, 49, 33, 538], [44, 49, 33, 538, 23], [49, 33, 538, 23, 89], [33, 538, 23, 89, 106], [538, 23, 89, 106, 34], [23, 89, 106, 34, 23], [89, 106, 34, 23, 89], [106, 34, 23, 89, 539], [34, 23, 89, 539, 540], [23, 89, 539, 540, 541], [89, 539, 540, 541, 224], [539, 540, 541, 224, 542], [540, 541, 224, 542, 224], [541, 224, 542, 224, 7], [224, 542, 224, 7, 26], [542, 224, 7, 26, 543], [224, 7, 26, 543, 15], [7, 26, 543, 15, 123], [26, 543, 15, 123, 139], [543, 15, 123, 139, 2], [15, 123, 139, 2, 17], [23, 3, 52, 45, 35], [3, 52, 45, 35, 52], [52, 45, 35, 52, 45], [45, 35, 52, 45, 4], [35, 52, 45, 4, 544], [52, 45, 4, 544, 1], [5, 23, 545, 34, 23], [547, 2, 5, 12, 2], [2, 5, 12, 2, 5], [548, 35, 7, 226, 227], [35, 7, 226, 227, 228], [7, 226, 227, 228, 87], [226, 227, 228, 87, 1], [227, 228, 87, 1, 9], [228, 87, 1, 9, 36], [87, 1, 9, 36, 229], [1, 9, 36, 229, 8], [9, 36, 229, 8, 1], [36, 229, 8, 1, 21], [229, 8, 1, 21, 32], [8, 1, 21, 32, 549], [1, 21, 32, 549, 1], [21, 32, 549, 1, 21], [32, 549, 1, 21, 32], [549, 1, 21, 32, 8], [1, 21, 32, 8, 1], [21, 32, 8, 1, 9], [32, 8, 1, 9, 17], [8, 1, 9, 17, 39], [1, 9, 17, 39, 550], [9, 17, 39, 550, 39], [17, 39, 550, 39, 230], [39, 550, 39, 230, 231], [550, 39, 230, 231, 4], [39, 230, 231, 4, 219], [230, 231, 4, 219, 2], [231, 4, 219, 2, 19], [4, 219, 2, 19, 7], [219, 2, 19, 7, 133], [2, 19, 7, 133, 31], [19, 7, 133, 31, 232], [7, 133, 31, 232, 2], [133, 31, 232, 2, 233], [31, 232, 2, 233, 234], [232, 2, 233, 234, 1], [2, 233, 234, 1, 21], [233, 234, 1, 21, 60], [234, 1, 21, 60, 140], [1, 21, 60, 140, 5], [21, 60, 140, 5, 16], [60, 140, 5, 16, 235], [140, 5, 16, 235, 13], [5, 16, 235, 13, 236], [16, 235, 13, 236, 551], [235, 13, 236, 551, 2], [13, 236, 551, 2, 16], [236, 551, 2, 16, 5], [551, 2, 16, 5, 41], [2, 16, 5, 41, 16], [16, 5, 41, 16, 88], [5, 41, 16, 88, 552], [2, 5, 75, 82, 2], [5, 75, 82, 2, 17], [75, 82, 2, 17, 237], [82, 2, 17, 237, 104], [2, 17, 237, 104, 556], [17, 237, 104, 556, 557], [237, 104, 556, 557, 7], [104, 556, 557, 7, 26], [556, 557, 7, 26, 558], [557, 7, 26, 558, 1], [7, 26, 558, 1, 9], [26, 558, 1, 9, 25], [558, 1, 9, 25, 199], [1, 9, 25, 199, 14], [9, 25, 199, 14, 559], [25, 199, 14, 559, 223], [199, 14, 559, 223, 25], [28, 28, 27, 3, 28], [28, 27, 3, 28, 138], [27, 3, 28, 138, 115], [3, 28, 138, 115, 38], [28, 138, 115, 38, 5], [138, 115, 38, 5, 6], [115, 38, 5, 6, 218], [38, 5, 6, 218, 2], [5, 6, 218, 2, 561], [6, 218, 2, 561, 562], [218, 2, 561, 562, 13], [2, 561, 562, 13, 49], [561, 562, 13, 49, 8], [562, 13, 49, 8, 563], [13, 49, 8, 563, 141], [24, 565, 56, 20, 1], [565, 56, 20, 1, 21], [56, 20, 1, 21, 32], [20, 1, 21, 32, 8], [1, 21, 32, 8, 1], [21, 32, 8, 1, 9], [32, 8, 1, 9, 7], [8, 1, 9, 7, 566], [1, 9, 7, 566, 8], [9, 7, 566, 8, 238], [7, 566, 8, 238, 16], [566, 8, 238, 16, 3], [8, 238, 16, 3, 19], [238, 16, 3, 19, 2], [16, 3, 19, 2, 11], [54, 34, 2, 74, 20], [13, 567, 5, 15, 78], [93, 571, 17, 2, 113], [571, 17, 2, 113, 20], [17, 2, 113, 20, 2], [2, 113, 20, 2, 16], [113, 20, 2, 16, 572], [20, 2, 16, 572, 12], [2, 16, 572, 12, 217], [16, 572, 12, 217, 205], [572, 12, 217, 205, 2], [12, 217, 205, 2, 115], [217, 205, 2, 115, 24], [205, 2, 115, 24, 6], [28, 28, 239, 54, 239], [28, 239, 54, 239, 19], [239, 54, 239, 19, 13], [54, 239, 19, 13, 49], [239, 19, 13, 49, 2], [19, 13, 49, 2, 11], [13, 49, 2, 11, 573], [49, 2, 11, 573, 34], [2, 11, 573, 34, 2], [11, 573, 34, 2, 10], [28, 117, 15, 29, 81], [117, 15, 29, 81, 29], [15, 29, 81, 29, 15], [29, 81, 29, 15, 27], [81, 29, 15, 27, 3], [29, 15, 27, 3, 28], [240, 241, 15, 142, 104], [241, 15, 142, 104, 86], [15, 142, 104, 86, 574], [142, 104, 86, 574, 86], [104, 86, 574, 86, 50], [86, 574, 86, 50, 64], [574, 86, 50, 64, 240], [86, 50, 64, 240, 29], [50, 64, 240, 29, 2], [64, 240, 29, 2, 575], [14, 577, 2, 99, 15], [577, 2, 99, 15, 25], [2, 99, 15, 25, 64], [99, 15, 25, 64, 143], [15, 25, 64, 143, 19], [25, 64, 143, 19, 1], [64, 143, 19, 1, 9], [143, 19, 1, 9, 14], [19, 1, 9, 14, 7], [1, 9, 14, 7, 206], [9, 14, 7, 206, 143], [14, 7, 206, 143, 16], [7, 206, 143, 16, 3], [206, 143, 16, 3, 184], [143, 16, 3, 184, 578], [16, 3, 184, 578, 16], [3, 184, 578, 16, 579], [184, 578, 16, 579, 16], [578, 16, 579, 16, 580], [16, 579, 16, 580, 178], [579, 16, 580, 178, 581], [16, 580, 178, 581, 582], [580, 178, 581, 582, 100], [178, 581, 582, 100, 14], [581, 582, 100, 14, 583], [582, 100, 14, 583, 100], [100, 14, 583, 100, 584], [14, 583, 100, 584, 585], [583, 100, 584, 585, 17], [100, 584, 585, 17, 586], [584, 585, 17, 586, 18], [585, 17, 586, 18, 587], [17, 586, 18, 587, 588], [586, 18, 587, 588, 2], [18, 587, 588, 2, 11], [587, 588, 2, 11, 92], [588, 2, 11, 92, 1], [2, 11, 92, 1, 9], [11, 92, 1, 9, 185], [92, 1, 9, 185, 2], [1, 9, 185, 2, 589], [9, 185, 2, 589, 242], [185, 2, 589, 242, 590], [2, 589, 242, 590, 591], [589, 242, 590, 591, 592], [242, 590, 591, 592, 35], [590, 591, 592, 35, 220], [591, 592, 35, 220, 242], [592, 35, 220, 242, 18], [35, 220, 242, 18, 593], [220, 242, 18, 593, 14], [242, 18, 593, 14, 24], [595, 1, 9, 230, 35], [1, 9, 230, 35, 42], [9, 230, 35, 42, 237], [230, 35, 42, 237, 35], [35, 42, 237, 35, 108], [42, 237, 35, 108, 1], [237, 35, 108, 1, 9], [35, 108, 1, 9, 139], [108, 1, 9, 139, 2], [1, 9, 139, 2, 5], [9, 139, 2, 5, 40], [139, 2, 5, 40, 596], [2, 5, 40, 596, 597], [5, 40, 596, 597, 1], [40, 596, 597, 1, 598], [596, 597, 1, 598, 599], [597, 1, 598, 599, 45], [1, 598, 599, 45, 128], [598, 599, 45, 128, 132], [106, 144, 144, 2, 11], [144, 144, 2, 11, 111], [16, 3, 1, 61, 2], [600, 4, 40, 113, 19], [4, 40, 113, 19, 601], [40, 113, 19, 601, 3], [113, 19, 601, 3, 1], [602, 2, 11, 72, 4], [2, 11, 72, 4, 603], [11, 72, 4, 603, 55], [72, 4, 603, 55, 604], [4, 603, 55, 604, 31], [603, 55, 604, 31, 2], [55, 604, 31, 2, 207], [604, 31, 2, 207, 83], [31, 2, 207, 83, 65], [2, 207, 83, 65, 55], [207, 83, 65, 55, 2], [83, 65, 55, 2, 191], [65, 55, 2, 191, 36], [55, 2, 191, 36, 2], [2, 191, 36, 2, 605], [191, 36, 2, 605, 84], [36, 2, 605, 84, 118], [2, 605, 84, 118, 25], [605, 84, 118, 25, 243], [84, 118, 25, 243, 39], [118, 25, 243, 39, 10], [25, 243, 39, 10, 606], [243, 39, 10, 606, 14], [107, 2, 11, 608, 1], [35, 35, 4, 66, 2], [35, 4, 66, 2, 609], [4, 66, 2, 609, 1], [66, 2, 609, 1, 244], [2, 609, 1, 244, 245], [609, 1, 244, 245, 13], [1, 244, 245, 13, 610], [244, 245, 13, 610, 104], [245, 13, 610, 104, 1], [611, 39, 11, 12, 33], [39, 11, 12, 33, 18], [11, 12, 33, 18, 612], [12, 33, 18, 612, 54], [33, 18, 612, 54, 7], [18, 612, 54, 7, 613], [612, 54, 7, 613, 71], [54, 7, 613, 71, 26], [7, 613, 71, 26, 160], [613, 71, 26, 160, 20], [71, 26, 160, 20, 1], [26, 160, 20, 1, 9], [160, 20, 1, 9, 41], [20, 1, 9, 41, 44], [1, 9, 41, 44, 143], [9, 41, 44, 143, 5], [41, 44, 143, 5, 614], [44, 143, 5, 614, 69], [143, 5, 614, 69, 14], [5, 614, 69, 14, 44], [614, 69, 14, 44, 103], [69, 14, 44, 103, 31], [14, 44, 103, 31, 2], [44, 103, 31, 2, 98], [103, 31, 2, 98, 13], [31, 2, 98, 13, 70], [2, 98, 13, 70, 83], [98, 13, 70, 83, 31], [13, 70, 83, 31, 2], [70, 83, 31, 2, 615], [83, 31, 2, 615, 1], [31, 2, 615, 1, 231], [2, 615, 1, 231, 14], [615, 1, 231, 14, 616], [1, 231, 14, 616, 60], [231, 14, 616, 60, 41], [14, 616, 60, 41, 69], [616, 60, 41, 69, 88], [60, 41, 69, 88, 2], [41, 69, 88, 2, 5], [69, 88, 2, 5, 68], [88, 2, 5, 68, 62], [2, 5, 68, 62, 617], [5, 68, 62, 617, 8], [31, 2, 618, 34, 39], [2, 618, 34, 39, 133], [56, 3, 69, 49, 34], [3, 69, 49, 34, 2], [69, 49, 34, 2, 10], [49, 34, 2, 10, 105], [34, 2, 10, 105, 212], [2, 10, 105, 212, 2], [10, 105, 212, 2, 16], [246, 2, 6, 88, 225], [2, 6, 88, 225, 3], [6, 88, 225, 3, 23], [88, 225, 3, 23, 83], [225, 3, 23, 83, 241], [3, 23, 83, 241, 17], [106, 24, 247, 2, 621], [24, 247, 2, 621, 142], [247, 2, 621, 142, 6], [2, 621, 142, 6, 93], [621, 142, 6, 93, 45], [142, 6, 93, 45, 4], [6, 93, 45, 4, 91], [6, 29, 35, 6, 29], [29, 35, 6, 29, 623], [35, 6, 29, 623, 10], [6, 29, 623, 10, 6], [29, 623, 10, 6, 68], [623, 10, 6, 68, 45], [10, 6, 68, 45, 14], [6, 68, 45, 14, 624], [68, 45, 14, 624, 82], [45, 14, 624, 82, 625], [14, 624, 82, 625, 121], [624, 82, 625, 121, 222], [82, 625, 121, 222, 45], [625, 121, 222, 45, 2], [121, 222, 45, 2, 626], [222, 45, 2, 626, 142], [45, 2, 626, 142, 41], [2, 626, 142, 41, 42], [626, 142, 41, 42, 2], [142, 41, 42, 2, 5], [41, 42, 2, 5, 15], [131, 5, 6, 145, 35], [5, 6, 145, 35, 140], [6, 145, 35, 140, 627], [145, 35, 140, 627, 628], [35, 140, 627, 628, 16], [140, 627, 628, 16, 6], [56, 248, 6, 20, 1], [248, 6, 20, 1, 9], [6, 20, 1, 9, 36], [20, 1, 9, 36, 15], [1, 9, 36, 15, 24], [9, 36, 15, 24, 56], [36, 15, 24, 56, 629], [15, 24, 56, 629, 3], [24, 56, 629, 3, 630], [56, 629, 3, 630, 86], [629, 3, 630, 86, 14], [3, 630, 86, 14, 131], [630, 86, 14, 131, 631], [86, 14, 131, 631, 11], [14, 131, 631, 11, 632], [131, 631, 11, 632, 24], [631, 11, 632, 24, 3], [11, 632, 24, 3, 1], [632, 24, 3, 1, 130], [24, 3, 1, 130, 8], [3, 1, 130, 8, 139], [1, 130, 8, 139, 1], [130, 8, 139, 1, 130], [8, 139, 1, 130, 8], [139, 1, 130, 8, 1], [28, 38, 70, 29, 2], [38, 70, 29, 2, 633], [70, 29, 2, 633, 634], [29, 2, 633, 634, 75], [2, 633, 634, 75, 2], [633, 634, 75, 2, 24], [634, 75, 2, 24, 243], [75, 2, 24, 243, 2], [635, 15, 636, 43, 637], [15, 636, 43, 637, 177], [636, 43, 637, 177, 69], [43, 637, 177, 69, 2], [637, 177, 69, 2, 11], [177, 69, 2, 11, 249], [69, 2, 11, 249, 69], [2, 11, 249, 69, 73], [11, 249, 69, 73, 54], [249, 69, 73, 54, 73], [69, 73, 54, 73, 7], [73, 54, 73, 7, 26], [54, 73, 7, 26, 5], [73, 7, 26, 5, 2], [7, 26, 5, 2, 12], [26, 5, 2, 12, 14], [5, 2, 12, 14, 249], [2, 12, 14, 249, 30], [12, 14, 249, 30, 2], [141, 145, 6, 78, 35], [28, 250, 24, 2, 639], [250, 24, 2, 639, 4], [24, 2, 639, 4, 247], [2, 639, 4, 247, 30], [639, 4, 247, 30, 24], [4, 247, 30, 24, 640], [247, 30, 24, 640, 89], [30, 24, 640, 89, 13], [24, 640, 89, 13, 70], [640, 89, 13, 70, 15], [89, 13, 70, 15, 51], [13, 70, 15, 51, 25], [70, 15, 51, 25, 1], [15, 51, 25, 1, 641], [51, 25, 1, 641, 154], [245, 7, 226, 227, 228], [7, 226, 227, 228, 87], [226, 227, 228, 87, 1], [227, 228, 87, 1, 9], [228, 87, 1, 9, 36], [87, 1, 9, 36, 229], [1, 9, 36, 229, 125], [9, 36, 229, 125, 48], [36, 229, 125, 48, 642], [229, 125, 48, 642, 1], [125, 48, 642, 1, 21], [48, 642, 1, 21, 32], [642, 1, 21, 32, 17], [1, 21, 32, 17, 39], [21, 32, 17, 39, 232], [32, 17, 39, 232, 2], [17, 39, 232, 2, 233], [39, 232, 2, 233, 234], [232, 2, 233, 234, 1], [2, 233, 234, 1, 21], [233, 234, 1, 21, 60], [234, 1, 21, 60, 140], [1, 21, 60, 140, 5], [21, 60, 140, 5, 16], [60, 140, 5, 16, 235], [140, 5, 16, 235, 13], [643, 644, 15, 645, 1], [644, 15, 645, 1, 190], [15, 645, 1, 190, 8], [645, 1, 190, 8, 1], [1, 190, 8, 1, 103], [190, 8, 1, 103, 81], [8, 1, 103, 81, 646], [1, 103, 81, 646, 13], [103, 81, 646, 13, 647], [81, 646, 13, 647, 159], [646, 13, 647, 159, 2], [13, 647, 159, 2, 5], [647, 159, 2, 5, 107], [159, 2, 5, 107, 82], [2, 5, 107, 82, 136], [5, 107, 82, 136, 248], [107, 82, 136, 248, 6], [82, 136, 248, 6, 1], [136, 248, 6, 1, 213], [248, 6, 1, 213, 8], [6, 1, 213, 8, 1], [1, 213, 8, 1, 26], [213, 8, 1, 26, 5], [8, 1, 26, 5, 2], [1, 26, 5, 2, 12], [26, 5, 2, 12, 107], [5, 2, 12, 107, 1], [2, 12, 107, 1, 9], [12, 107, 1, 9, 216], [107, 1, 9, 216, 56], [1, 9, 216, 56, 19], [9, 216, 56, 19, 13], [216, 56, 19, 13, 215], [56, 19, 13, 215, 648], [19, 13, 215, 648, 33], [13, 215, 648, 33, 34], [215, 648, 33, 34, 2], [648, 33, 34, 2, 10], [33, 34, 2, 10, 105], [34, 2, 10, 105, 107], [2, 10, 105, 107, 27], [10, 105, 107, 27, 3]]\n",
            "      1    2    3    4    5    6    7    ...  640  641  642  646  647  648  649\n",
            "0       0    0    0    0    0    0    0  ...    0    0    0    0    0    0    0\n",
            "1       0    0    0    0    0    0    0  ...    0    0    0    0    0    0    0\n",
            "2       1    0    0    0    0    0    0  ...    0    0    0    0    0    0    0\n",
            "3       0    0    0    0    0    0    0  ...    0    0    0    0    0    0    0\n",
            "4       0    0    0    0    0    0    0  ...    0    0    0    0    0    0    0\n",
            "...   ...  ...  ...  ...  ...  ...  ...  ...  ...  ...  ...  ...  ...  ...  ...\n",
            "1299    0    0    0    0    0    0    0  ...    0    0    0    0    0    0    0\n",
            "1300    0    0    0    0    0    0    0  ...    0    0    0    0    0    0    0\n",
            "1301    0    0    0    0    0    0    0  ...    0    0    0    0    0    0    0\n",
            "1302    0    0    1    0    0    0    0  ...    0    0    0    0    0    0    0\n",
            "1303    0    0    0    0    0    0    0  ...    0    0    0    0    0    0    1\n",
            "\n",
            "[1304 rows x 472 columns]\n"
          ],
          "name": "stdout"
        }
      ]
    },
    {
      "cell_type": "code",
      "metadata": {
        "id": "Se9uwlnFOKNN",
        "colab": {
          "base_uri": "https://localhost:8080/"
        },
        "outputId": "6b653736-102b-420f-d235-ed1742137a29"
      },
      "source": [
        "from tensorflow.keras.preprocessing.sequence import pad_sequences\n",
        "y = np.zeros((len(dataX), vocab_size), dtype=np.bool)\n",
        "for i, sentence in enumerate(dataX):\n",
        "  y[i, dataY[i]] = 1\n",
        "\n",
        "print(y.shape)\n",
        "\n",
        "X = pad_sequences(dataX, maxlen=5)\n",
        "print(X.shape)"
      ],
      "execution_count": 20,
      "outputs": [
        {
          "output_type": "stream",
          "text": [
            "(1304, 650)\n",
            "(1304, 5)\n"
          ],
          "name": "stdout"
        }
      ]
    },
    {
      "cell_type": "code",
      "metadata": {
        "id": "g1bIDiibXmJU"
      },
      "source": [
        "from tensorflow.keras.models import Sequential\n",
        "from tensorflow.keras.layers import Dense, Embedding, LSTM, SpatialDropout1D, Conv1D, MaxPooling1D, GlobalMaxPooling1D\n",
        "from tensorflow.keras.callbacks import EarlyStopping\n",
        "from tensorflow.keras.layers import Dropout, GRU, Flatten\n",
        "def bidirectional_lstm_model(seq_length, vocab_size):\n",
        "\n",
        "    embedding_layer = Embedding(vocab_size,\n",
        "                                300,\n",
        "                                weights=[embedding_matrix],\n",
        "                                input_length=5,\n",
        "                                trainable=False)\n",
        "    inp = Input(shape=(5,))\n",
        "    x = embedding_layer(inp)\n",
        "    x = Bidirectional(LSTM(200,return_sequences=True,dropout=0.1,recurrent_dropout=0.1))(x)\n",
        "    x = GlobalMaxPool1D()(x)\n",
        "    x = Dense(vocab_size,activation='relu')(x)\n",
        "    x = Dense(vocab_size,activation='sigmoid')(x)\n",
        "    model = Model(inputs=inp,outputs=x)\n",
        "    optimizer = Adam(lr=learning_rate)\n",
        "    callbacks=[EarlyStopping(patience=2, monitor='val_loss')]\n",
        "    #call the functions in the metrics \n",
        "    model.compile(optimizer=optimizer,loss='categorical_crossentropy',metrics=['accuracy'])\n",
        "\n",
        "    return model"
      ],
      "execution_count": 21,
      "outputs": []
    },
    {
      "cell_type": "code",
      "metadata": {
        "colab": {
          "base_uri": "https://localhost:8080/"
        },
        "id": "9vCC_MX6cj11",
        "outputId": "57a740a4-e7fa-4a86-e462-94a43677e8dd"
      },
      "source": [
        "rnn_size = 256 # size of RNN\n",
        "seq_length = 5 # sequence length\n",
        "learning_rate = 0.001 #learning rate\n",
        "\n",
        "md = bidirectional_lstm_model(seq_length, vocab_size)\n",
        "md.summary()"
      ],
      "execution_count": 22,
      "outputs": [
        {
          "output_type": "stream",
          "text": [
            "Model: \"model\"\n",
            "_________________________________________________________________\n",
            "Layer (type)                 Output Shape              Param #   \n",
            "=================================================================\n",
            "input_1 (InputLayer)         [(None, 5)]               0         \n",
            "_________________________________________________________________\n",
            "embedding (Embedding)        (None, 5, 300)            195000    \n",
            "_________________________________________________________________\n",
            "bidirectional (Bidirectional (None, 5, 400)            801600    \n",
            "_________________________________________________________________\n",
            "global_max_pooling1d (Global (None, 400)               0         \n",
            "_________________________________________________________________\n",
            "dense (Dense)                (None, 650)               260650    \n",
            "_________________________________________________________________\n",
            "dense_1 (Dense)              (None, 650)               423150    \n",
            "=================================================================\n",
            "Total params: 1,680,400\n",
            "Trainable params: 1,485,400\n",
            "Non-trainable params: 195,000\n",
            "_________________________________________________________________\n"
          ],
          "name": "stdout"
        }
      ]
    },
    {
      "cell_type": "code",
      "metadata": {
        "colab": {
          "base_uri": "https://localhost:8080/"
        },
        "id": "wIO7ag7Acm96",
        "outputId": "c5a85d93-53e8-4bab-87f0-ff3ce3cbf06d"
      },
      "source": [
        "batch_size = 32 # minibatch size\n",
        "num_epochs = 100 # number of epochs\n",
        "\n",
        "callbacks=[EarlyStopping(patience=4, monitor='val_loss'),\n",
        "           ModelCheckpoint(filepath=\"./\" + 'my_model_gen_sentences.{epoch:02d}-{val_loss:.2f}.hdf5',\\\n",
        "                           monitor='val_loss', verbose=0, mode='auto', period=2)]\n",
        "#fit the model\n",
        "history = md.fit(X, y,\n",
        "                 batch_size=batch_size,\n",
        "                 shuffle=True,\n",
        "                 epochs=num_epochs,\n",
        "                 callbacks=callbacks,\n",
        "                 validation_split=0.1)\n",
        "\n",
        "#save the model\n",
        "md.save(\"/content/drive/MyDrive/Colab Notebooks/\" + \"my_model_generate_sentences.h5\")"
      ],
      "execution_count": 23,
      "outputs": [
        {
          "output_type": "stream",
          "text": [
            "WARNING:tensorflow:`period` argument is deprecated. Please use `save_freq` to specify the frequency in number of batches seen.\n",
            "Epoch 1/100\n",
            "37/37 [==============================] - 10s 97ms/step - loss: 6.1776 - accuracy: 0.0460 - val_loss: 5.5836 - val_accuracy: 0.0840\n",
            "Epoch 2/100\n",
            "37/37 [==============================] - 3s 71ms/step - loss: 5.4338 - accuracy: 0.0574 - val_loss: 5.6323 - val_accuracy: 0.1069\n",
            "Epoch 3/100\n",
            "37/37 [==============================] - 3s 73ms/step - loss: 4.9974 - accuracy: 0.1008 - val_loss: 5.6472 - val_accuracy: 0.0687\n",
            "Epoch 4/100\n",
            "37/37 [==============================] - 3s 71ms/step - loss: 4.5697 - accuracy: 0.1349 - val_loss: 5.7357 - val_accuracy: 0.1298\n",
            "Epoch 5/100\n",
            "37/37 [==============================] - 3s 70ms/step - loss: 3.8343 - accuracy: 0.1917 - val_loss: 6.2175 - val_accuracy: 0.1145\n"
          ],
          "name": "stdout"
        }
      ]
    },
    {
      "cell_type": "code",
      "metadata": {
        "id": "YkP6UO7YF_Rv"
      },
      "source": [
        "md.save(\"/content/drive/MyDrive/Colab Notebooks/\" + \"my_model_generate_sentences.h5\")"
      ],
      "execution_count": 24,
      "outputs": []
    },
    {
      "cell_type": "code",
      "metadata": {
        "id": "IJskwTJ4c-te"
      },
      "source": [
        "model = load_model(\"/content/drive/MyDrive/Colab Notebooks/\" + \"my_model_generate_sentences.h5\")"
      ],
      "execution_count": 25,
      "outputs": []
    },
    {
      "cell_type": "code",
      "metadata": {
        "id": "7jIzZtb2esjO"
      },
      "source": [
        "def sample(preds, temperature=2.0):\n",
        "    # helper function to sample an index from a probability array\n",
        "    preds = np.asarray(preds).astype('float64')\n",
        "    preds = np.log(preds) / temperature\n",
        "    exp_preds = np.exp(preds)\n",
        "    preds = exp_preds / np.sum(exp_preds)\n",
        "    probas = np.random.multinomial(1, preds, 1)\n",
        "    return np.argmax(probas)"
      ],
      "execution_count": 26,
      "outputs": []
    },
    {
      "cell_type": "code",
      "metadata": {
        "id": "xhSe-j21fhS3"
      },
      "source": [
        "reverse_word_dict = {v: k for k, v in tokenizer.word_index.items()}"
      ],
      "execution_count": 27,
      "outputs": []
    },
    {
      "cell_type": "code",
      "metadata": {
        "id": "mWfTi1SLfPt5"
      },
      "source": [
        "def generate_random_text():\n",
        "\n",
        "  #initiate sentences\n",
        "  generated = ''\n",
        "  sentence = dataX[randint(0,len(dataX))]\n",
        "  sentence = [' '.join([reverse_word_dict[word] for word in sentence])]\n",
        "  generated += sentence[0]\n",
        "\n",
        "  #we generate the next text\n",
        "  for i in range(5):\n",
        "    \n",
        "      seq = tokenizer.texts_to_sequences(sentence)\n",
        "      padded = pad_sequences(seq, maxlen=5)\n",
        "\n",
        "      #calculate next word\n",
        "      preds = model.predict(padded, verbose=0)[0]\n",
        "      next_index = sample(preds, 0.33)\n",
        "      next_word = reverse_word_dict[next_index]\n",
        "\n",
        "      #add the next word to the text\n",
        "      generated += \" \" + next_word\n",
        "      sentence = [' '.join(sentence[0].split()[1:]) + \" \" + next_word]\n",
        "      \n",
        "  #print the whole text\n",
        "  return (generated)"
      ],
      "execution_count": 28,
      "outputs": []
    },
    {
      "cell_type": "code",
      "metadata": {
        "id": "rpyi26RLGxLo",
        "colab": {
          "base_uri": "https://localhost:8080/"
        },
        "outputId": "345398ee-0862-4a36-8261-cc676844d453"
      },
      "source": [
        "n_sentences_gen = 10\n",
        "generated_sentences = []\n",
        "for i in range(n_sentences_gen):\n",
        "  generated_sentences.append(generate_random_text())\n",
        "\n",
        "print(generated_sentences)"
      ],
      "execution_count": 29,
      "outputs": [
        {
          "output_type": "stream",
          "text": [
            "['remains vader you must confront you become ready you you', 'transform into the force mourn you not it your you', 'hurry careful timing we will need i are are you', 'times nothing is what itappears to the dark side side', 'twilight is upon me and the dark side the dark', 'then a jedi will you have for i old to', 'of the emperor or suffer the force the dark side', 'itappears to be but the force you are be with', 'train yourself to let go it it is will be', 'a fully trained jedi knight the deepest force become you']\n"
          ],
          "name": "stdout"
        }
      ]
    },
    {
      "cell_type": "code",
      "metadata": {
        "id": "pOQBc7iR6Hyj"
      },
      "source": [
        "from nltk.translate.bleu_score import SmoothingFunction, corpus_bleu, sentence_bleu"
      ],
      "execution_count": 30,
      "outputs": []
    },
    {
      "cell_type": "code",
      "metadata": {
        "id": "4twp_V_IsPZC"
      },
      "source": [
        "gen = generated_sentences\n",
        "ref = yoda_tokens"
      ],
      "execution_count": 31,
      "outputs": []
    },
    {
      "cell_type": "code",
      "metadata": {
        "colab": {
          "base_uri": "https://localhost:8080/"
        },
        "id": "qPiMLJz2yH1j",
        "outputId": "856a0801-23c1-48d8-894e-a1f4f28baa29"
      },
      "source": [
        "print(ref)\n",
        "print(gen[1].split())"
      ],
      "execution_count": 32,
      "outputs": [
        {
          "output_type": "stream",
          "text": [
            "[['the', 'very', 'republic', 'is', 'threatened', 'if', 'involved', 'the', 'sith', 'are'], ['hard', 'to', 'see', 'the', 'dark', 'side', 'is', 'discover', 'who', 'this', 'assassin', 'is', 'we'], ['with', 'this', 'naboo', 'queen', 'you', 'must', 'stay', 'quigon', 'protect', 'her'], ['may', 'the', 'force', 'be', 'with', 'you'], ['contd', 'master', 'quigon', 'more', 'to', 'say', 'have', 'you'], ['a', 'vergence', 'you', 'say'], ['but', 'you', 'do', 'rrevealed', 'your', 'opinion', 'is'], ['trained', 'as', 'a', 'jedi', 'you', 'request', 'for', 'him'], ['tested', 'he', 'will', 'be'], ['good', 'good', 'young', 'one', 'how', 'feel', 'you'], ['afraid', 'are', 'you'], ['see', 'through', 'you', 'we', 'can'], ['afraid', 'to', 'lose', 'heri', 'think'], ['eveything', 'fear', 'is', 'the', 'path', 'to', 'the', 'dark', 'side', 'fear', 'leads', 'to'], ['a', 'jedi', 'must', 'have', 'the', 'deepest', 'commitment', 'the', 'most', 'serious', 'mind', 'i'], ['then', 'continue', 'we', 'will'], ['correct', 'you', 'were', 'quigon'], ['clouded', 'this', 'boys', 'future', 'is', 'masked', 'by', 'his', 'youth'], ['an', 'apprentice', 'you', 'have', 'quigon', 'impossible', 'to', 'take', 'on', 'a', 'second'], ['ready', 'so', 'early', 'are', 'you', 'what', 'know', 'you', 'of', 'ready'], ['our', 'own', 'council', 'we', 'will', 'keep', 'on', 'who', 'is', 'ready', 'more', 'to', 'learn', 'he'], ['and', 'draw', 'out', 'the', 'queens', 'attacker'], ['young', 'skywalkers', 'fate', 'will', 'be', 'decided', 'later'], ['train', 'him', 'not', 'take', 'him', 'with', 'you', 'but', 'train', 'him', 'not'], ['may', 'the', 'force', 'be', 'with', 'you'], ['confer', 'on', 'you', 'the', 'level', 'of', 'jedi', 'knight', 'the', 'coucil', 'does', 'but', 'agree'], ['the', 'chosen', 'one', 'the', 'boy', 'may', 'be', 'nevertheless', 'grave', 'danger', 'i', 'fear', 'in'], ['quigons', 'defiance', 'i', 'sense', 'in', 'you', 'need', 'that', 'you', 'do', 'not', 'agree', 'the'], ['always', 'two', 'there', 'areno', 'moreno', 'less', 'a', 'maste', 'and', 'an'], ['worse', 'than', 'war', 'i', 'fear', 'muchworse'], ['impossible', 'to', 'see', 'the', 'dark', 'sideclouds', 'everything', 'but', 'this', 'i', 'amsure', 'of', 'opens', 'his', 'eyesdo', 'their', 'duty', 'the', 'jedi', 'will'], ['with', 'you', 'the', 'force', 'is', 'strongyoung', 'senator', 'to', 'see', 'you', 'alivebrings', 'warm', 'feeling', 'to', 'my', 'heart'], ['in', 'dark', 'times', 'nothing', 'is', 'what', 'itappears', 'to', 'be', 'but', 'the', 'fact', 'remainssenator', 'in', 'grave', 'danger', 'you', 'are'], ['too', 'little', 'about', 'yourself', 'youworry', 'senator', 'and', 'too', 'much', 'aboutpolitics', 'be', 'mindful', 'of', 'yourdanger', 'padmé', 'accept', 'our', 'help'], ['masking', 'the', 'future', 'is', 'thisdisturbance', 'in', 'the', 'force'], ['and', 'only', 'those', 'who', 'have', 'turned', 'tothe', 'dark', 'side', 'can', 'sense', 'thepossibilities', 'of', 'the', 'future', 'onlygoing', 'through', 'the', 'dark', 'side', 'can', 'wesee'], ['out', 'there', 'they', 'are', 'acertainty', 'that', 'is'], ['only', 'if', 'he', 'chooses', 'to', 'follow', 'hisdestiny'], ['dont', 'think', 'feel', 'be', 'as', 'onewith', 'the', 'force', 'help', 'you', 'it', 'willhe', 'sees', 'obiwanyounglings', 'enough', 'a', 'visitor', 'wehave', 'welcome', 'him'], ['continuingmaster', 'obiwan', 'kenobi', 'meet', 'themighty', 'bear', 'clan'], ['what', 'help', 'to', 'you', 'can', 'i', 'be'], ['an', 'interesting', 'puzzle', 'gatherround', 'the', 'map', 'reader', 'younglingsmaster', 'obiwan', 'has', 'lost', 'a', 'planetfind', 'it', 'we', 'will', 'try'], ['most', 'interesting', 'gravity\\x92ssilhouette', 'remains', 'but', 'the', 'starand', 'all', 'its', 'planets', 'havedisappeared', 'how', 'can', 'this', 'be'], ['truly', 'wonderful', 'the', 'mind', 'of', 'achild', 'is', 'uncluttered', 'to', 'thecentre', 'of', 'the', 'pull', 'of', 'gravity', 'goand', 'find', 'your', 'planet', 'you', 'will'], ['frowningmuch', 'harder', 'to', 'answer', 'thatquestion', 'is'], ['the', 'council', 'is', 'confident', 'in', 'this', 'decisionobiwan'], ['who', 'he', 'is', 'working', 'for', 'discoverthat', 'you', 'must'], ['inform', 'the', 'chancellor', 'of', 'this', 'wemust'], ['with', 'the', 'forename', 'darth', 'a', 'sith', 'hemust', 'be'], ['perhaps', 'too', 'many', 'pieces', 'are', 'missingfrom', 'this', 'puzzle', 'there', 'are'], ['two', 'hundred', 'less', 'or', 'more'], ['agreed', 'master', 'windu', 'two', 'hundredjedi', 'send', 'enough', 'lets', 'hopethey', 'are'], ['come', 'on', 'hurry', 'hurry'], ['more', 'battalions', 'to', 'the', 'leftencircle', 'them', 'we', 'must', 'thendivide'], ['count', 'dooku', 'no', 'interest', 'incontests', 'do', 'i', 'have'], ['continuingthe', 'end', 'for', 'you', 'count', 'this', 'is'], ['victory', 'victory', 'you', 'say'], ['continuingnot', 'victory', 'a', 'defeat', 'it', 'wasmaster', 'obiwan', 'begun', 'the', 'clonewar', 'has'], ['premonitions', 'premonitions', 'hmmmm', 'these', 'visions', 'you', 'have'], ['yourself', 'you', 'speak', 'of', 'or', 'someone', 'you', 'know'], ['close', 'to', 'you'], ['careful', 'you', 'must', 'be', 'when', 'sensing', 'the', 'future', 'anakin', 'the', 'fear', 'of', 'loss', 'is', 'a', 'path', 'to', 'the', 'dark', 'side'], ['death', 'is', 'a', 'natural', 'part', 'of', 'life', 'rejoice', 'for', 'those', 'around', 'you', 'who', 'transform', 'into', 'the', 'force', 'mourn', 'them', 'do', 'not', 'miss', 'them', 'do', 'not', 'attachment', 'leads', 'to', 'jealousy', 'the', 'shadow', 'of', 'greed', 'that', 'is'], ['train', 'yourself', 'to', 'let', 'go', 'of', 'everything', 'you', 'fear', 'to', 'lose'], ['allow', 'this', 'appointment', 'lightly', 'the', 'council', 'does', 'not', 'disturbing', 'is', 'this', 'move', 'by', 'chancellor', 'palpatine'], ['hiding', 'in', 'the', 'outer', 'rim', 'grievous', 'is', 'the', 'outlying', 'systems', 'you', 'must', 'sweep'], ['master', 'kenobi', 'our', 'spies', 'contact', 'you', 'must', 'and', 'then', 'wait'], ['go', 'i', 'will', 'good', 'relations', 'with', 'the', 'wookiees', 'i', 'have'], ['too', 'much', 'under', 'the', 'sway', 'of', 'the', 'chancellor', 'he', 'is', 'much', 'anger', 'there', 'is', 'in', 'him', 'too', 'much', 'pride', 'in', 'his', 'powers'], ['a', 'prophecy', 'that', 'misread', 'could', 'have', 'been'], ['i', 'hope', 'right', 'you', 'are', 'and', 'now', 'destroy', 'the', 'droid', 'armies', 'on', 'kashyyyk', 'i', 'will', 'may', 'the', 'force', 'be', 'with', 'you'], ['act', 'on', 'this', 'we', 'must', 'the', 'capture', 'of', 'general', 'grievous', 'will', 'end', 'this', 'war', 'quickly', 'and', 'decisively', 'we', 'should', 'proceed'], ['a', 'master', 'is', 'needed', 'with', 'more', 'experience'], ['obiwan', 'my', 'choice', 'is'], ['i', 'agree'], ['then', 'now', 'the', 'time', 'is', 'commander'], ['to', 'a', 'dark', 'place', 'this', 'line', 'of', 'thought', 'will', 'carry', 'us', 'hmmmmm', 'great', 'care', 'we', 'must', 'take'], ['stink', 'this', 'mud', 'does', 'a', 'moment', 'to', 'bathe', 'give', 'me'], ['continuing', 'not', 'far', 'are', 'we', 'from', 'the', 'emergency', 'ship', 'quickly'], ['goodbye', 'chewbacca', 'and', 'tarfful', 'miss', 'you', 'i', 'will', 'good', 'friends', 'you', 'are', 'for', 'your', 'help', 'much', 'gratitude', 'and', 'respect', 'i', 'have'], ['master', 'kenobi', 'dark', 'times', 'are', 'these', 'good', 'to', 'see', 'you', 'it', 'is'], ['with', 'the', 'help', 'of', 'the', 'wookiees', 'barely', 'escape', 'i', 'did'], ['heard', 'from', 'no', 'one', 'have', 'we'], ['received', 'a', 'coded', 'retreat', 'message', 'we', 'have'], ['suggest', 'dismantling', 'the', 'coded', 'signal', 'do', 'you'], ['i', 'agree', 'in', 'a', 'dark', 'place', 'we', 'find', 'ourselves', 'a', 'little', 'more', 'knowledge', 'might', 'light', 'our', 'way'], ['if', 'a', 'special', 'session', 'of', 'congress', 'there', 'is', 'easier', 'for', 'us', 'to', 'enter', 'the', 'jedi', 'temple', 'it', 'will', 'be'], ['dismantle', 'the', 'coded', 'signal', 'quickly', 'that', 'group', 'back', 'there', 'soon', 'discovered', 'will', 'be'], ['killed', 'not', 'by', 'clones', 'this', 'padawan', 'by', 'a', 'lightsaber', 'he', 'was'], ['good', 'for', 'the', 'clones', 'to', 'discover', 'the', 'recalibration', 'a', 'long', 'time', 'it', 'will', 'take', 'to', 'change', 'it', 'back', 'longer', 'still', 'hurry'], ['if', 'into', 'the', 'security', 'recordings', 'you', 'go', 'only', 'pain', 'will', 'you', 'find'], ['destroy', 'the', 'sith', 'we', 'must'], ['to', 'fight', 'this', 'lord', 'sidious', 'strong', 'enough', 'you', 'are', 'not'], ['twisted', 'by', 'the', 'dark', 'side', 'young', 'skywalker', 'has', 'become', 'the', 'boy', 'you', 'trained', 'gone', 'he', 'is', 'consumed', 'by', 'darth', 'vader'], ['to', 'question', 'no', 'time', 'there', 'is'], ['use', 'your', 'feelings', 'obiwan', 'and', 'find', 'him', 'you', 'will', 'visit', 'the', 'new', 'emperor', 'my', 'task', 'is', 'may', 'the', 'force', 'be', 'with', 'you'], ['i', 'hear', 'a', 'new', 'apprentice', 'you', 'have', 'emperor', 'or', 'should', 'i', 'call', 'you', 'darth', 'sidious'], ['surprised'], ['not', 'if', 'anything', 'i', 'have', 'to', 'say', 'about', 'it', 'lord', 'sidious'], ['continuing', 'at', 'an', 'end', 'your', 'rule', 'is', 'and', 'not', 'short', 'enough', 'it', 'was', 'i', 'must', 'say'], ['continuing', 'if', 'so', 'powerful', 'you', 'are', 'why', 'leave'], ['faith', 'in', 'your', 'new', 'apprentice', 'misplaced', 'may', 'be', 'as', 'is', 'your', 'faith', 'in', 'the', 'dark', 'side', 'of', 'the', 'force'], ['destroy', 'you', 'i', 'will', 'just', 'as', 'master', 'kenobi', 'your', 'apprentice', 'will', 'destroy'], ['hurry', 'careful', 'timing', 'we', 'will', 'need'], ['into', 'exile', 'i', 'must', 'go', 'failed', 'i', 'have'], ['failed', 'to', 'stop', 'the', 'sith', 'lord', 'i', 'have', 'still', 'much', 'to', 'learn', 'there', 'is'], ['eternal', 'consciousness'], ['to', 'become', 'one', 'with', 'the', 'force', 'and', 'influence', 'still', 'have', 'a', 'power', 'greater', 'than', 'all', 'it', 'is'], ['a', 'great', 'jedi', 'master', 'you', 'have', 'become', 'quigon', 'jinn', 'your', 'apprentice', 'i', 'gratefully', 'become'], ['save', 'them', 'we', 'must', 'they', 'are', 'our', 'last', 'hope'], ['pregnant', 'she', 'must', 'still', 'appear', 'hidden', 'safe', 'the', 'children', 'must', 'be', 'kept'], ['split', 'up', 'they', 'should', 'be'], ['to', 'tatooine', 'to', 'his', 'family', 'send', 'him'], ['strong', 'the', 'force', 'runs', 'in', 'the', 'skywalker', 'line', 'hope', 'we', 'can', 'done', 'it', 'is', 'until', 'the', 'time', 'is', 'right', 'disappear', 'we', 'will'], ['continuing', 'master', 'kenobi', 'wait', 'a', 'moment', 'in', 'your', 'solitude', 'on', 'tatooine', 'training', 'i', 'have', 'for', 'you'], ['an', 'old', 'friend', 'has', 'learned', 'the', 'path', 'to', 'immortality'], ['one', 'who', 'has', 'returned', 'from', 'the', 'netherworld', 'of', 'the', 'force', 'to', 'train', 'me', 'your', 'old', 'master', 'quigon', 'jinn'], ['the', 'secret', 'of', 'the', 'ancient', 'order', 'of', 'the', 'whills', 'he', 'studied', 'how', 'to', 'commune', 'with', 'him', 'i', 'will', 'teach', 'you'], ['how', 'to', 'join', 'the', 'force', 'he', 'will', 'train', 'you', 'your', 'consciousness', 'you', 'will', 'retain', 'when', 'one', 'with', 'the', 'force', 'even', 'your', 'physical', 'self', 'perhaps'], ['hmmm', 'much', 'anger', 'in', 'him', 'like', 'his', 'father'], ['hah', 'he', 'is', 'not', 'ready'], ['ready', 'are', 'you', 'what', 'know', 'you', 'of', 'ready', 'for', 'eight', 'hundred', 'years', 'have', 'i', 'trained', 'jedi', 'my', 'own', 'counsel', 'will', 'i', 'keep', 'on', 'who', 'is', 'to', 'be', 'trained', 'a', 'jedi', 'must', 'have', 'the', 'deepest', 'commitment', 'the', 'most', 'serious', 'mind', 'this', 'one', 'a', 'long', 'time', 'have', 'i', 'watched', 'never', 'his', 'mind', 'on', 'where', 'he', 'was', 'hmm', 'what', 'he', 'was', 'doing', 'hmph', 'adventure', 'heh', 'excitement', 'heh', 'a', 'jedi', 'craves', 'not', 'these', 'things', 'you', 'are', 'reckless'], ['he', 'is', 'too', 'old', 'yes', 'too', 'old', 'to', 'begin', 'the', 'training'], ['will', 'he', 'finished', 'what', 'he', 'begins'], ['oh', 'you', 'will', 'be', 'you', 'will', 'be'], ['run', 'yes', 'a', 'jedis', 'strength', 'flows', 'from', 'the', 'force', 'but', 'beware', 'of', 'the', 'dark', 'side', 'angerfearaggression', 'the', 'dark', 'side', 'of', 'the', 'force', 'are', 'they', 'easily', 'they', 'flow', 'quick', 'to', 'join', 'you', 'in', 'a', 'fight', 'if', 'once', 'you', 'start', 'down', 'the', 'dark', 'path', 'forever', 'will', 'it', 'dominate', 'your', 'destiny', 'consume', 'you', 'it', 'will', 'as', 'it', 'did', 'obiwans', 'apprentice'], ['nonono', 'quicker', 'easier', 'more', 'seductive'], ['you', 'will', 'know', 'when', 'you', 'are', 'calm', 'at', 'peace', 'passive', 'a', 'jedi', 'uses', 'the', 'force', 'for', 'knowledge', 'and', 'defense', 'never', 'for', 'attack'], ['no', 'no', 'there', 'is', 'no', 'why', 'nothing', 'more', 'will', 'i', 'teach', 'you', 'today', 'clear', 'your', 'mind', 'of', 'questions', 'mmm', 'mmmmmm'], ['that', 'placeis', 'strong', 'with', 'the', 'dark', 'side', 'of', 'the', 'force', 'a', 'domain', 'of', 'evil', 'it', 'is', 'in', 'you', 'must', 'go'], ['only', 'what', 'you', 'take', 'with', 'you'], ['your', 'weaponsyou', 'will', 'not', 'need', 'them'], ['use', 'the', 'force', 'yes'], ['nowthe', 'stone', 'feel', 'it'], ['concentrate'], ['so', 'certain', 'are', 'you', 'always', 'with', 'you', 'it', 'cannot', 'be', 'done', 'hear', 'you', 'nothing', 'that', 'i', 'say'], ['no', 'no', 'different', 'only', 'different', 'in', 'your', 'mind', 'you', 'must', 'unlearn', 'what', 'you', 'have', 'learned'], ['no', 'try', 'not', 'do', 'or', 'do', 'not', 'there', 'is', 'no', 'try'], ['size', 'matters', 'not', 'look', 'at', 'me', 'judge', 'me', 'by', 'my', 'size', 'do', 'you', 'hm', 'mmmm'], ['and', 'well', 'you', 'should', 'not', 'for', 'my', 'ally', 'in', 'the', 'force', 'and', 'a', 'powerful', 'ally', 'it', 'is', 'life', 'creates', 'it', 'makes', 'it', 'grow', 'its', 'energy', 'surrounds', 'us', 'and', 'binds', 'us', 'luminous', 'beings', 'are', 'wenot', 'this', 'crude', 'matter', 'you', 'must', 'feel', 'the', 'force', 'around', 'you', 'here', 'between', 'youmethe', 'treethe', 'rockeverywhere', 'yes', 'even', 'between', 'this', 'land', 'and', 'that', 'ship'], ['that', 'is', 'why', 'you', 'fail'], ['concentratefeel', 'the', 'force', 'flow', 'yes', 'good', 'calm', 'yes', 'through', 'the', 'force', 'things', 'you', 'will', 'see', 'other', 'places', 'the', 'futurethe', 'past', 'old', 'friends', 'long', 'gone'], ['hmm', 'control', 'control', 'you', 'must', 'learn', 'control'], ['mmm', 'friends', 'you', 'have', 'there'], ['it', 'is', 'the', 'future', 'you', 'see'], ['difficult', 'to', 'see', 'always', 'in', 'motion', 'is', 'the', 'future'], ['decide', 'you', 'must', 'how', 'to', 'serve', 'them', 'best', 'if', 'you', 'leave', 'now', 'help', 'them', 'you', 'could', 'but', 'you', 'would', 'destroy', 'all', 'for', 'which', 'they', 'have', 'fought', 'and', 'suffered'], ['luke', 'you', 'must', 'complete', 'the', 'training'], ['you', 'must', 'not', 'go'], ['yes', 'yes', 'to', 'obiwan', 'you', 'listen', 'the', 'cave', 'remember', 'your', 'failure', 'at', 'the', 'cave'], ['stopped', 'they', 'must', 'be', 'on', 'this', 'depends', 'only', 'a', 'fully', 'trained', 'jedi', 'knight', 'with', 'the', 'force', 'as', 'his', 'ally', 'will', 'conquer', 'vader', 'and', 'his', 'emperor', 'if', 'you', 'end', 'your', 'training', 'now', 'if', 'you', 'choose', 'the', 'quick', 'and', 'easy', 'path', 'as', 'vader', 'did', 'you', 'will', 'become', 'an', 'agent', 'of', 'evil'], ['if', 'you', 'honor', 'what', 'they', 'fight', 'foryes'], ['strong', 'is', 'vader', 'mind', 'what', 'you', 'have', 'learned', 'save', 'you', 'it', 'can'], ['told', 'you', 'i', 'did', 'reckless', 'is', 'he', 'now', 'matters', 'are', 'worse'], ['no', 'there', 'is', 'another'], ['hmm', 'that', 'face', 'you', 'make', 'look', 'i', 'so', 'old', 'to', 'young', 'eyes'], ['i', 'do', 'yes', 'i', 'do', 'sick', 'have', 'i', 'become', 'old', 'and', 'weak', 'when', 'nine', 'hundred', 'years', 'old', 'you', 'reach', 'look', 'as', 'good', 'you', 'will', 'not', 'hmm'], ['soon', 'will', 'i', 'rest', 'yes', 'forever', 'sleep', 'earned', 'it', 'i', 'have'], ['strong', 'am', 'i', 'with', 'the', 'force', 'but', 'not', 'that', 'strong', 'twilight', 'is', 'upon', 'me', 'and', 'soon', 'night', 'must', 'fall', 'that', 'is', 'the', 'way', 'of', 'things', 'the', 'way', 'of', 'the', 'force'], ['no', 'more', 'training', 'do', 'you', 'require', 'already', 'know', 'you', 'that', 'which', 'you', 'need'], ['ohhh', 'not', 'yet', 'one', 'thing', 'remains', 'vader', 'you', 'must', 'confront', 'vader', 'then', 'only', 'then', 'a', 'jedi', 'will', 'you', 'be', 'and', 'confront', 'him', 'you', 'will'], ['mmm', 'rest', 'i', 'need', 'yes', 'rest'], ['your', 'father', 'he', 'is'], ['told', 'you', 'did', 'he'], ['unexpected', 'this', 'is', 'and', 'unfortunate'], ['no', 'unfortunate', 'that', 'you', 'rushed', 'to', 'face', 'him', 'that', 'incomplete', 'was', 'your', 'training', 'not', 'ready', 'for', 'the', 'burden', 'were', 'you'], ['remember', 'a', 'jedis', 'strength', 'flows', 'from', 'the', 'force', 'but', 'beware', 'anger', 'fear', 'aggression', 'the', 'dark', 'side', 'are', 'they', 'once', 'you', 'start', 'down', 'the', 'dark', 'path', 'forever', 'will', 'it', 'dominate', 'your', 'destiny'], ['lukelukedo', 'notdo', 'not', 'underestimate', 'the', 'powers', 'of', 'the', 'emperor', 'or', 'suffer', 'your', 'fathers', 'fate', 'you', 'will', 'luke', 'when', 'gone', 'am', 'i', 'the', 'last', 'of', 'the', 'jedi', 'will', 'you', 'be', 'luke', 'the', 'force', 'runs', 'strong', 'in', 'your', 'family', 'pass', 'on', 'what', 'you', 'have', 'learned', 'luke', 'there', 'is', 'anotherskyskywalker']]\n",
            "['transform', 'into', 'the', 'force', 'mourn', 'you', 'not', 'it', 'your', 'you']\n"
          ],
          "name": "stdout"
        }
      ]
    },
    {
      "cell_type": "code",
      "metadata": {
        "id": "EUvLAxfrWOdH"
      },
      "source": [
        "def get_bleu_score(ref, gen):\n",
        "  bleu_score = 0\n",
        "  for sen in gen:\n",
        "    bleu_score += sentence_bleu(ref, sen.split())\n",
        "  return (bleu_score/10)"
      ],
      "execution_count": 33,
      "outputs": []
    },
    {
      "cell_type": "code",
      "metadata": {
        "colab": {
          "base_uri": "https://localhost:8080/"
        },
        "id": "DN0qtBrisK6M",
        "outputId": "43eb4ced-31bf-4ec1-c68d-238298f96844"
      },
      "source": [
        "print('BLEU score -> {}'.format(get_bleu_score(ref, gen)))"
      ],
      "execution_count": 34,
      "outputs": [
        {
          "output_type": "stream",
          "text": [
            "BLEU score -> 0.5636460841171014\n"
          ],
          "name": "stdout"
        }
      ]
    },
    {
      "cell_type": "code",
      "metadata": {
        "id": "I3eNC_H_6OLD"
      },
      "source": [
        "file1 = open(\"YodaGeneratedSen.txt\",\"a\")\n",
        "for row in generated_sentences:\n",
        "  file1.writelines(row + '\\n')\n",
        "file1.close()"
      ],
      "execution_count": 35,
      "outputs": []
    },
    {
      "cell_type": "code",
      "metadata": {
        "id": "4ZvxzouGFyVP"
      },
      "source": [
        ""
      ],
      "execution_count": null,
      "outputs": []
    }
  ]
}