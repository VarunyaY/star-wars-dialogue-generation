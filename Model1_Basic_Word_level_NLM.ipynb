{
  "nbformat": 4,
  "nbformat_minor": 0,
  "metadata": {
    "colab": {
      "name": "Model1 - Basic Word level NLM.ipynb",
      "provenance": [],
      "collapsed_sections": [],
      "mount_file_id": "1EPJRao_CDelSbi1OoUoKh84VV4_RPYQ3",
      "authorship_tag": "ABX9TyMKxHDtAIsJgnnZ4tTk9tDo",
      "include_colab_link": true
    },
    "kernelspec": {
      "name": "python3",
      "display_name": "Python 3"
    },
    "language_info": {
      "name": "python"
    }
  },
  "cells": [
    {
      "cell_type": "markdown",
      "metadata": {
        "id": "view-in-github",
        "colab_type": "text"
      },
      "source": [
        "<a href=\"https://colab.research.google.com/github/keshvi-srivastava/star-wars-dialogue-generation/blob/main/Model1_Basic_Word_level_NLM.ipynb\" target=\"_parent\"><img src=\"https://colab.research.google.com/assets/colab-badge.svg\" alt=\"Open In Colab\"/></a>"
      ]
    },
    {
      "cell_type": "markdown",
      "metadata": {
        "id": "jFjgJAUIjUku"
      },
      "source": [
        "Model to generate a sequence of following words:\n",
        "1. Convert the data into token list\n",
        "2. Convert data to token sentences\n",
        "3. Encode the sentence\n",
        "4. Simple LSTM model\n",
        "\n",
        "- Makes sentences sequence from the whole token list.\n",
        "- No sentence padding, hence sentences don't necessarily make sense\n",
        "\n",
        "Reference:\n",
        "https://machinelearningmastery.com/how-to-develop-a-word-level-neural-language-model-in-keras/"
      ]
    },
    {
      "cell_type": "code",
      "metadata": {
        "id": "IJ_6f-6djTzU"
      },
      "source": [
        "import tensorflow as tf\n",
        "import numpy as np\n",
        "import os\n",
        "import time\n",
        "import pandas as pd\n",
        "import re\n",
        "from numpy import array\n",
        "from pickle import dump\n",
        "import string\n",
        "from random import randint\n",
        "from pickle import load\n",
        "\n",
        "from tensorflow.keras.layers.experimental import preprocessing\n",
        "\n",
        "from keras.models import Sequential\n",
        "from keras.models import load_model\n",
        "from keras.layers import Dense\n",
        "from keras.layers import Dropout\n",
        "from keras.layers import LSTM\n",
        "from keras.layers import GRU\n",
        "from keras.layers import TimeDistributed\n",
        "from keras.layers import Embedding\n",
        "from keras.callbacks import ModelCheckpoint\n",
        "from keras.utils import np_utils\n",
        "from keras.utils import to_categorical\n",
        "from keras.preprocessing.text import Tokenizer\n",
        "from keras.preprocessing.sequence import pad_sequences\n",
        "\n"
      ],
      "execution_count": null,
      "outputs": []
    },
    {
      "cell_type": "code",
      "metadata": {
        "id": "wRcJ9IJ-juaD"
      },
      "source": [
        "path_to_file = '/content/drive/MyDrive/SNLP Project/Filtered_Data/'"
      ],
      "execution_count": null,
      "outputs": []
    },
    {
      "cell_type": "code",
      "metadata": {
        "id": "0MNbBXcajxEo"
      },
      "source": [
        "data = pd.DataFrame(columns = ['character', 'dialogue'])"
      ],
      "execution_count": null,
      "outputs": []
    },
    {
      "cell_type": "code",
      "metadata": {
        "colab": {
          "base_uri": "https://localhost:8080/"
        },
        "id": "kcDLvGO7jyYq",
        "outputId": "31b8563a-867c-4e7b-a0f2-5c8018ed83b0"
      },
      "source": [
        "for file in os.listdir(path_to_file):\n",
        "    print(file)\n",
        "    df = pd.read_csv(path_to_file+file)\n",
        "    data = data.append(df, ignore_index=True)"
      ],
      "execution_count": null,
      "outputs": [
        {
          "output_type": "stream",
          "text": [
            "SW_EpisodeI.csv\n",
            "SW_EpisodeII.csv\n",
            "SW_EpisodeIII.csv\n",
            "SW_EpisodeIV.csv\n",
            "SW_EpisodeV.csv\n",
            "SW_EpisodeVI.csv\n"
          ],
          "name": "stdout"
        }
      ]
    },
    {
      "cell_type": "code",
      "metadata": {
        "colab": {
          "base_uri": "https://localhost:8080/",
          "height": 419
        },
        "id": "T1TdfSCjjzu2",
        "outputId": "f903306c-6400-4f0e-b6d3-29d2f50e55a3"
      },
      "source": [
        "data"
      ],
      "execution_count": null,
      "outputs": [
        {
          "output_type": "execute_result",
          "data": {
            "text/html": [
              "<div>\n",
              "<style scoped>\n",
              "    .dataframe tbody tr th:only-of-type {\n",
              "        vertical-align: middle;\n",
              "    }\n",
              "\n",
              "    .dataframe tbody tr th {\n",
              "        vertical-align: top;\n",
              "    }\n",
              "\n",
              "    .dataframe thead th {\n",
              "        text-align: right;\n",
              "    }\n",
              "</style>\n",
              "<table border=\"1\" class=\"dataframe\">\n",
              "  <thead>\n",
              "    <tr style=\"text-align: right;\">\n",
              "      <th></th>\n",
              "      <th>character</th>\n",
              "      <th>dialogue</th>\n",
              "    </tr>\n",
              "  </thead>\n",
              "  <tbody>\n",
              "    <tr>\n",
              "      <th>0</th>\n",
              "      <td>OBI-WAN</td>\n",
              "      <td>I have a bad feeling about this.</td>\n",
              "    </tr>\n",
              "    <tr>\n",
              "      <th>1</th>\n",
              "      <td>OBI-WAN</td>\n",
              "      <td>It's not about the mission, Master, it's</td>\n",
              "    </tr>\n",
              "    <tr>\n",
              "      <th>2</th>\n",
              "      <td>OBI-WAN</td>\n",
              "      <td>Master Yoda says I should be mindful of the fu...</td>\n",
              "    </tr>\n",
              "    <tr>\n",
              "      <th>3</th>\n",
              "      <td>OBI-WAN</td>\n",
              "      <td>Yes, Master...how do you think the trade vicer...</td>\n",
              "    </tr>\n",
              "    <tr>\n",
              "      <th>4</th>\n",
              "      <td>OBI-WAN</td>\n",
              "      <td>Offhand, I'd say this mission is past the nego...</td>\n",
              "    </tr>\n",
              "    <tr>\n",
              "      <th>...</th>\n",
              "      <td>...</td>\n",
              "      <td>...</td>\n",
              "    </tr>\n",
              "    <tr>\n",
              "      <th>2899</th>\n",
              "      <td>VADER</td>\n",
              "      <td>Nothing can stop that now. Just for once... le...</td>\n",
              "    </tr>\n",
              "    <tr>\n",
              "      <th>2900</th>\n",
              "      <td>ANAKIN</td>\n",
              "      <td>Now...go, my son. Leave me.</td>\n",
              "    </tr>\n",
              "    <tr>\n",
              "      <th>2901</th>\n",
              "      <td>ANAKIN</td>\n",
              "      <td>You already have, Luke. You were right about m...</td>\n",
              "    </tr>\n",
              "    <tr>\n",
              "      <th>2902</th>\n",
              "      <td>HAN</td>\n",
              "      <td>Lando...</td>\n",
              "    </tr>\n",
              "    <tr>\n",
              "      <th>2903</th>\n",
              "      <td>THREEPIO</td>\n",
              "      <td>They did it!</td>\n",
              "    </tr>\n",
              "  </tbody>\n",
              "</table>\n",
              "<p>2904 rows × 2 columns</p>\n",
              "</div>"
            ],
            "text/plain": [
              "     character                                           dialogue\n",
              "0      OBI-WAN                   I have a bad feeling about this.\n",
              "1      OBI-WAN           It's not about the mission, Master, it's\n",
              "2      OBI-WAN  Master Yoda says I should be mindful of the fu...\n",
              "3      OBI-WAN  Yes, Master...how do you think the trade vicer...\n",
              "4      OBI-WAN  Offhand, I'd say this mission is past the nego...\n",
              "...        ...                                                ...\n",
              "2899     VADER  Nothing can stop that now. Just for once... le...\n",
              "2900    ANAKIN                        Now...go, my son. Leave me.\n",
              "2901    ANAKIN  You already have, Luke. You were right about m...\n",
              "2902       HAN                                           Lando...\n",
              "2903  THREEPIO                                       They did it!\n",
              "\n",
              "[2904 rows x 2 columns]"
            ]
          },
          "metadata": {
            "tags": []
          },
          "execution_count": 9
        }
      ]
    },
    {
      "cell_type": "code",
      "metadata": {
        "id": "lAU6Xojyj7FE"
      },
      "source": [
        "data['character'] = data[\"character\"].str.lower()\n",
        "\n",
        "data['character'] = data.character.replace(\"anakin\", \"vader\", regex=True)\n",
        "data['character'] = data.character.replace(\"obi-wan\", \"ben\", regex=True)\n",
        "data['character'] = data.character.replace(\"c-3po\", \"threepio\", regex=True)\n",
        "\n",
        "unique_characters = data.character.unique()\n",
        "\n",
        "data_dict = data.groupby('character')['dialogue'].apply(lambda g: g.values.tolist()).to_dict()"
      ],
      "execution_count": null,
      "outputs": []
    },
    {
      "cell_type": "markdown",
      "metadata": {
        "id": "1qYK6wrnkCuZ"
      },
      "source": [
        "* Analysis for OBI-WAN data"
      ]
    },
    {
      "cell_type": "code",
      "metadata": {
        "id": "mWnH2N2PkMdh"
      },
      "source": [
        "def preprocess_text(sen):\n",
        "\n",
        "    # Remove numbers\n",
        "    sentence = re.sub(\" \\d+\", \" \", sen)\n",
        "\n",
        "    # # Single character removal\n",
        "    # sentence = re.sub(r\"\\s+[a-zA-Z]\\s+\", ' ', sen)\n",
        "\n",
        "    # Removing multiple spaces\n",
        "    sentence = re.sub(r'\\s+', ' ', sentence)\n",
        "\n",
        "    # Remove ....\n",
        "    sentence = re.sub('\\.+', ' ', sentence)\n",
        "\n",
        "    # Remove punctuations\n",
        "    sentence = re.sub('[%s]' % re.escape(string.punctuation), '', sentence)\n",
        "\n",
        "    # Lower case\n",
        "    sentence = sentence.lower()\n",
        "\n",
        "    # Return a list of tokens (words)\n",
        "    sentence = sentence.split()\n",
        "    \n",
        "    return sentence"
      ],
      "execution_count": null,
      "outputs": []
    },
    {
      "cell_type": "code",
      "metadata": {
        "colab": {
          "base_uri": "https://localhost:8080/"
        },
        "id": "lsNcTYzrkOUv",
        "outputId": "33c471f5-5844-4e6a-e43a-dffbbb0f290c"
      },
      "source": [
        "obi_wan_tokens = [preprocess_text(row) for row in data_dict['ben']]\n",
        "print(obi_wan_tokens[:5])\n",
        "\n",
        "obi_wan_data = [' '.join(row) for row in obi_wan_tokens]\n",
        "print(obi_wan_data)\n",
        "\n",
        "obi_wan_token_list = [item for sublist in obi_wan_tokens for item in sublist]\n",
        "print(obi_wan_token_list)\n",
        "\n",
        "print(\"Total # of tokens(words)\")\n",
        "print(len(obi_wan_token_list))\n",
        "\n",
        "print(\"Total # of unique tokens(words)\")\n",
        "print(len(set(obi_wan_token_list)))"
      ],
      "execution_count": null,
      "outputs": [
        {
          "output_type": "stream",
          "text": [
            "[['i', 'have', 'a', 'bad', 'feeling', 'about', 'this'], ['its', 'not', 'about', 'the', 'mission', 'master', 'its'], ['master', 'yoda', 'says', 'i', 'should', 'be', 'mindful', 'of', 'the', 'future'], ['yes', 'master', 'how', 'do', 'you', 'think', 'the', 'trade', 'viceroy', 'will', 'deal', 'with'], ['offhand', 'id', 'say', 'this', 'mission', 'is', 'past', 'the', 'negotiaion', 'stage']]\n",
            "['i have a bad feeling about this', 'its not about the mission master its', 'master yoda says i should be mindful of the future', 'yes master how do you think the trade viceroy will deal with', 'offhand id say this mission is past the negotiaion stage', 'they have shield generators', 'its an invisible army', 'you were right about one thing master the negotiations were', 'sorry master the water fried my weapon', 'yes master', 'whats this', 'when they find us they will crush us grind us into little', 'dont worry this has not been our day for warm welcomes', 'after those droids take control of the surface they will come', 'you and the naboo form a symbiont circle what happens to noe of', 'master whats a bongo', 'we are short of time master', 'master why do you keep dragging these pathetic life forms along', 'why were you banished jar jar', 'they banished you because youre clumsy', 'give me the controls', 'were losing power', 'powers back', 'you overdid it', 'what is it', 'get up here', 'that was close', 'ill take care of that obiwan heads toward the group of', 'now stay here and keep out of trouble', 'here master tatooine its small out of the way poor the', 'its risky but theres no alternative', 'tahyts it tatooine', 'sorry quigons right youll make things less obvious', 'cantd the hyperdrive generator is gone we will need a new', 'i fell it also master', 'v o a few containers of supplies the queens wardrobe maybe', 'this storms going to slow them down', 'its a trick send no reply send no transmission of any kind', 'the queen is upset but absolutly no reply was sent', 'what if it is true and the people are dying', 'what if this plan fails master we could be stuck here for a', 'yes master', 'wait a minute', 'all right ive got it', 'something must be wrong with the transmission', 'strange the transmission seems to be in good order but the', 'even master yoda doesnt have a midichlorian count that high', 'what does it mean', 'why do i sense weve picked up another pathetic life form', 'over there fly low', 'what was it', 'the boy will not pass the councils tests master and you know', 'dont defy the council master not again', 'master you could be sitting on the council by now if you would', 'iam ready to face the trials', 'it is not disrespect master it is the truth', 'the boy is dangerous they all sense it why cant you', 'the wars over no need for it now', 'a droid control ship', 'jar jar is on his way to the gungan city master', 'do you think the queens idea will work', 'im im sorry for my behavior master it is not my place to', 'more likely they were wiped out', 'and theres an even bigger danger if the vicroy escapes your', 'master master', 'no', 'yes master', 'quigon believed in him i believe in quigon', 'master yoda igave quigon my word i will train anakin without', 'he is one with the force anakin you must let go', 'i am your master now you will become a jedi i promise', 'its good to see you too jar jar', 'its a great pleasure to see you againmlady', 'im sure the jedi council havetheir reasons', 'our presence will be invisiblemlady', 'frowningwere here to protect yousenator not to start aninvestigation', 'we are not going to exceed ourmandate my young padawan learner', 'we are not going through thisexercise again anakin you willpay attention to my lead', 'what', 'we will do as the council hasinstructed and you will learnyour place young one', 'anakin youre focusing on thenegative again be mindful of yourthoughts she was glad to see us now lets check the security here', 'captain typho has more than enoughmen downstairs no assassin willtry that way any activity uphere', 'whats going on', 'what is she thinking', 'its not an intruder im worriedabout there are many other waysto kill a senator', 'youre using her as bait', 'its too risky and your sensesarent that attuned youngapprentice', 'possibly', 'you look tired', 'because of your mother', 'dreams pass in time', 'mind your thoughts anakin theybetray you youve made acommitment to the jedi order acommitment not easily broken and dont forget shes apolitician theyre not to betrusted', 'its been my experience thatsenators are only focused onpleasing those who fund theircampaigns and they are morethan willing to forget theniceties of democracy to get thosefunds', 'palpatines a politician iveobserved that he is very clever atfollowing the passions andprejudices of the senators', 'i sense it too', 'i have a bad feeling about this', 'what took you so long', 'if youd spend as much timeworking on your saber skills asyou do on your wit young padawanyou would rival master yoda as aswordsman', 'only in your mind my very youngapprentice careful hey easy', 'i dont mind flying butwhat youre doing is suicide', 'just slow down', 'continuingwait dont go in there', 'continuingyou know i dont like it when youdo that', 'what are you doing hes gonnablast me', 'that was too close', 'what', 'whooooaaa dont do that idont like it when you do that', 'its dangerous near those powercouplings slow down dont gothrough there', 'continuingyiiii what are you doing', 'sarcasticallyoh that was good', 'stop', 'im crazy im crazy imcrazy', 'angrilyit didnt work weve stalledand you almost got us killed', 'very angrilyit was stupid', 'furiousbut you didnt and now wevelost him', 'where are you going he wentdown there the other way', 'what do you mean \\x91you think\\x92what kind of shortcut he wentcompletely the other way you\\x92velost him', 'sarcasticoh so that\\x92s why we\\x92re going inthe wrong direction', 'continuingwell you lost him', 'anakin', 'patience', 'continuinghere next time try not to lose it', 'a jedis saber is his mostprecious possession', 'he must keep it with him at alltimes', 'this weapon is your life', 'but you havent learned anythinganakin', 'why do i think you are going to bethe death of me', 'then why dont you listen to me', 'do you see him him', 'then be extra careful nods to a roomcheck it out', 'to get a drink', 'you dont want to sell me deathsticks', 'you want to go home and rethink your life', 'do you know who it was you weretrying to kill', 'who hired you', 'this wounds going to needtreatment', 'toxic dart', 'anakin you stay put on naboo do not attract any attention doabsolutely nothing withoutchecking in with me or the council', 'to padmei will get to the bottom of thisplot quickly mlady youll beback here in no time', 'may the force be with you', 'i hope he doesnt try anythingfoolish', 'its a toxic dart i need to knowwhere it came from and who made it', 'excuse me could you try againplease', 'thanks for your assistance youmay not be able to figure thisout but i think i know someonewho might', 'im looking for dexter', 'hes not in trouble itspersonal', 'hey dex', 'thank you', 'hey dex', 'you can tell me what this is', 'do you know where it came from', 'kamino kyberdart i wonder whyit didnt show up in any analysisarchive', 'well dex if droids could think wewouldnt be here would welaughingkamino doesnt sound familiar is it part of the republic', 'cloners are they friendly', 'on what dex', 'distracted in thoughtyes yes i did', 'i never understood why he quit only twenty jedi have ever leftthe order', 'what happened', 'surprisedreally', 'interesting im still not surei understand', 'yes im trying to find a planetsystem called kamino it doesntseem to show upon any of thearchive charts', 'noddingaccording to my information itshould be in this quadrantsomewhere just south of therishi maze', 'all three actually', 'absolutely', 'wouldnt that be on record', 'thats impossible perhaps thearchives are incomplete', 'i am sorry to disturb you master', 'i\\x92m looking for a planet describedto me by an old friend i trusthim but the system doesn\\x92t showup on the archive maps', 'this is where it ought to be but it isn\\x92t gravity is pullingall the stars in this area inwardto this spot there should be astar here but there isn\\x92t', 'but master yoda who could haveerased information from thearchives that\\x92s impossibleisn\\x92t it', 'i am concerned for my padawan heis not ready to be on his own', 'but he still has much to learn and his abilities have made him well arrogant i realise nowwhat you and master yoda knew fromthe beginning the boy was tooold to start the training and', 'master he should not have beengiven this assignment im afraidanakin wont be able to protectthe senator', 'he has a an emotionalconnection with her its beenthere since he was boy nowhes confused distracted', 'has master yoda gained any insightinto whether or not this war willcome about', 'warilyim expected', 'obiwan kenobi', 'you make me feel most welcome', 'improvisingthat is good news', 'im sorry master', 'oh yes sidodyas', 'thats why im here', 'where is this bounty hunter now', 'unaltered', 'i would like to meet this jangofett', 'you mentioned growthacceleration', 'and these', 'very impressive', 'carefullytell me prime minister when mymaster sidodyas first contactedyou did he say the order wasfor himself or', 'astonishedthe repubic', 'arfour arfour', 'arfour relay this scramble codefive to courscant care of theold folks home', 'your clones are very impressive you must be very proud', 'arent we all', 'continuingever made your way as far into theinterior as coruscant', 'recently', 'then you must know master sidodyas', 'sidodyas isn\\x92t he the jedi whohired you for this job', 'no i thought', 'curious', 'it seems to me its your army being that they are all clones ofyou', 'i look forward to seeing them inaction thank you for your timejango', 'i wont forget', 'guiding light to old folkshome', 'starships from the tradefederation and the commerce guildsare taking deliveries of battledroids from the foundries ongeonosis', 'the droid foundry seems to beworking at full capacity i amgoing to go down and investigate i will bring jango fett back homefor interrogation', 'one more thing jango mentionedhe was recruited by someone nameddarth tyranus any idea who thatmight be', 'do you believe he could be themysterious sidodyas who made thedeal for the clone army', 'let me see if i can figure outwhats going on first', 'alliance have pledged theirarmies to count dooku and areforming an wait ah attack i dont make it aaaggghhh', 'i was beginning to wonder if youhad gotten my message', 'it looks like youre going a goodjob so far', 'take the one the left illtake the one on the right', 'it looks like shes already on topof things', 'someones got to shut down these droids', 'hold on look over there', 'no forget her we have to goafter dooku', 'dont let your personal feelingsget in the way weve got a job todo', 'anakin shes all right look', 'continuingfollow that speeder', 'to anakinwe move in together you slowlyon the', 'anakin no', 'i dont think so', 'you will have to prove it', 'anakin', 'on his way back to naboo he isescorting senator amidala home', 'continuingi must admit without the clonesit would not have been a victory', 'look out four droids inbound', 'weve got to split them up', 'easy for you to say why am i always the bait', 'anakin theyre all over me', 'im going down on the deck', 'hurry up i dont like this', 'continuing ouch', 'continuing dont even try to fix it arfour ive shut it down', 'next time youre the bait now lets find the command ship and get on with it', 'i see it oh this is going to be easy', 'not this time theres too much at stake we need help odd ball do you copy', 'mark my position and form your squad up behind me', 'add five trifighters on the right', 'take it easy anakin', 'five more on the right', 'im going high and right', 'stay with me swing back and right help me engage back off let them pass between us', 'all right engage and hurry these droids are all over me like a rash', 'anakin you have four on your tail', 'four more closing from your left', 'break right and go high', 'to himself he still has much to learn', 'too dangerous first jedi rule', 'just keep me steady hold on not yet now break left', 'continuing youll never get through there anakin its too tight', 'use the force think yourself through the ship will follow', 'no no they are doing their job so we can do ours head for the command ship', 'they overshot us', 'all right arfour no no nothing too fancy', 'flying is for droids', 'continuing im hit anakin', 'arfour be careful you have one', 'oh dear theyre shutting down all the controls', 'the mission get to the command ship get the chancellor im running out of tricks here', 'continuing in the name of', 'anakin hold your fire hold your fire youre not helping here', 'wait wait i cant see a thing my cockpits fogging theyre all over me anakin', 'hold on anakin youre going to get us both killed get out of here theres nothing more you can do', 'blast it i cant see my controls are gone', 'artoo hit the buzz droids center eye', 'great artoo', 'have you noticed the shields are still up', 'oh i have a bad feeling about this', 'artoo locate the chancellor', 'the chancellors signal is coming from right there the observation platform at the top of that spire', 'i sense a trap', 'spring the trap', 'here take this and wait for orders', 'we are here to relieve you of chancellor palpatine not join him', 'anakin', 'fuel the slightest charge from our sabers will send this ship into oblivion thats why theyve stopped shooting', 'your idea of safe is not the same as mine', 'six droids coming our way', 'well never get through that its too small', 'anakin this is no time for jokes were in serious trouble here', 'that wont hold when the fuel hits those power dischargers', 'you still have much to learn anakin', 'all right you win i have much to learn lets go', 'did you press the stop button', 'no', 'we dont want to get out we want to get moving artoo artoo do you copy activate elevator looks at control panel', 'artoo', 'continuing always on the move', 'os artoo switch on the comlink artoo do you hear me artoo we gave you a job to do artoo', 'stop stop artoo we need to be going up', 'os artoo do you copy artoo do you hear me artoo we need to be going up not down', 'stop artoo we need to go up stop stop', 'now thats better', 'oh its you', 'well artoo has been', 'did i say anything', 'i didnt say anything', 'bows chancellor', 'quietly to anakin this time we will do it together', 'chancellor palpatine sith lords are our specialty', 'you wont get away this time dooku', 'did i miss something', 'what is that', 'continuing oops', 'too late jump', 'lets see if we can find something in the hangar bay thats still flyable come on', 'none of those ships will get us anywhere', 'dont look at me i dont know', 'well head toward the bridge and see if we can find an escape pod', 'wait a minute howd this happen were smarter than this', 'oh so all of a sudden its my fault', 'im open to suggestions here', 'patience thats your plan is it', 'do you have a plan b', 'that depends upon your point of view hah', 'anakin try not to upset him we have a job to do', 'not this time and this time you wont escape', 'grievous can you fly a cruiser like this', 'well', 'steady attitude eighteen degrees', 'temp steady hatches open flaps extended drag fins', 'not to worry were still flying half the ship', 'careful were heating uptwelve thousand thirteen thousand', 'eight plus sixtyforty eight plus sixtytwenty eight plus sixty temp ten thousand nine thousand were in the atmosphere', 'steady steady', 'five thousand three thousand two thousand fireships on the left and the right', 'copy that landing strips straight ahead', 'easyeasy', 'another happy landing', 'oh no im not brave enough for politics i have to report to the council besides someone needs to be the poster boy', 'sorry old friend let us not forget that you rescued me from the buzz droids and you killed count dooku and you rescued the chancellor carrying me unconscious on your back and you managed to land that bucket of bolts safely', 'the endless speeches anakin lets be fair today you are the hero and you deserve your glorious day with the politicians', 'ninth time that business on cato nemoidia doesnt count ill see you at the briefing', 'you missed the report on the outer rim sieges', 'in short they are going very well saleucami has fallen and master vos has moved his troops to boz pity', 'the senate is expected to vote more executive powers to the chancellor today', 'anakin be careful of your friend palpatine', 'he has requested your presence', 'he would not say', 'all of this is unusual and its making me feel uneasy youre probably aware that relations between the council and the chancellor are stressed', 'the force grows dark anakin and we are all affected by it be wary of your feelings', 'it may take some time we do not have many ships to spare', 'and yet it would be fatal for us to allow the droid armies to regroup', 'hes right that is a system we cannot afford to lose its the main navigation route for the southwestern quadrant', 'calm down anakin you have been given a great honor to be on the council at your age its never happened before listen to me anakin the fact of the matter is youre too close to the chancellor the council doesnt like it when he interferes in jedi affairs', 'but its what you wanted your friendship with chancellor palpatine seems to have paid off', 'anakin regardless of how it happened you find yourself in a delicate situation', 'i warned you there was tension between the council and the chancellor i was very clear why didnt you listen you walked right into it', 'no it is not anakin i worry when you speak of jealousy and pride those are not jedi thoughts theyre dangerous dark thoughts', 'i hope so', 'anakin the only reason the council has approved your appointment is because the chancellor trusts you', 'anakin look i am on your side i didnt want to see you put in this situation', 'takes a deep breath the council wants you to report on all of the chancellors dealings they want to know what hes up to', 'we are at war anakin the jedi council is sworn to uphold the principles of the republic even if the chancellor does not', 'this assignment is not to be on record the council asked me to approach you on this personally', 'that is why you must help us anakin our allegiance is to the senate not to its leader who has managed to stay in office long after his term has expired', 'yes but use your feelings anakin something is out of place', 'the council is asking you', 'anakin did not take to his assignment with much enthusiasm', 'hell be all right i trust him with my life', 'with all due respect master is he not the chosen one is he not to destroy the sith and bring balance to the force', 'he will not let me down he never has', 'does everyone agree', 'oh no youre quite right but i do have the most experience with his ways of combat', 'has anakin been to see you', 'i know he deserves it he is impatient strong willed very opinionated but truly gifted', 'you should be a jedi padme', 'its anakin hes becoming moody and detached hes been put in a difficult position as the chancellors representative but i think its more than that i was hoping he may have talked to you', 'neither of you is very good at hiding your feelings either', 'i know how he feels about you', 'nothing he didnt have to', 'i know you both too well i can see you two are in love padme im worried about him', 'continuing i fear your relationship has confused him hes changed considerably since we returned', 'continuing padme im not telling the council about any of this i i hope i didnt upset you were all friends i care about both of you', 'please do what you can to help him', 'oh i agree however it may turn out just to be a wild bantha chase', 'you are strong and wise anakin and i am very proud of you i have trained you since you were a small boy i have taught you everything i know and you have become a far greater jedi than i could ever hope to be and you have saved my life more times than i can remember but be patient anakin it wont be long before the council makes you a jedi master', 'continuing dont worry i have enough clones with me to take three systems the size of utapau i think ill be able to handle the situation even without your help', 'goodbye old friend may the force be with you', 'ill keep them distracted until you get there just dont take too long', 'laughing cato nemoidia for starters', 'very well the burden is on me not to destroy all the droids before you get there', 'save your energy', 'dont give up padme dont give up', 'unfortunately the war', 'with your kind permission i should like some fuel and to use your city as a base as i search nearby systems for general grievous', 'i understand', 'tell your people to take shelter if you have warriors now is the time', 'continuing geenine take the fighter back to the ship im staying here tell cody ive made contact', 'i need transportation', 'get it for me', 'this one', 'good girl boga', 'hello there', 'your move', 'you forget i trained the jedi that defeated count dooku', 'i may not defeat your droids but my troops certainly will', 'i dont think so', 'so uncivilized', 'commander contact your troops tell them to move to the higher levels', 'thank you cody smiling now lets get a move on weve got a battle to win here', 'emergency code nine thirteen i have no contact on any frequency are there any jedi out there anywhere', 'continuing ive locked on repeat', 'senator organa my clone troops turned on me i need help', 'you were attacked by your clones also', 'how many other jedi managed to survive', 'have we had any contact from the temple', 'well then we must go back if there are other stragglers they will fall into the trap and be killed', 'yes master there is too much at stake here and we need a clearer picture of what has happened', 'no i dont think so the chancellor will not be able to control the thousands of star systems without keeping the senate intact', 'it would be better if we stayed with the senator', 'there are several battalions of clone troopers on every level many are dressed as jedi', 'not even the younglings survived', 'who who could have done this', 'ive recalibrated the code warning all surviving jedi to stay away', 'wait master there is something i must know', 'i must know the truth master', 'continuing it cant be it cant be', 'i cant watch any more', 'send me to kill the emperor i will not kill anakin', 'he is like my brother i cannot do it', 'how could it have come to this', 'i do not know where the emperor has sent him i dont know where to look', 'may the force be with you master yoda', 'has anakin been here', 'the republic has fallen padme the jedi order is no more', 'i believe we have been part of a plot hundreds of years in the making', 'no padme its over the sith now rule the galaxy as they did before the republic', 'im here looking for anakin when was the last time you saw him', 'and do you know where he is now', 'padme i need your help hes in grave danger', 'from himself padme anakin has turned to the dark side', 'i have seen a security hologram of him killing younglings', 'he was deceived by a lie we all were it appears that the chancellor is behind everything including the war palpatine is the sith lord weve been looking for after the death of count dooku anakin became his new apprentice', 'padme i must find him', 'he has become a very great threat', 'anakin is the father isnt he', 'continuing im so sorry', 'let her go anakin', 'let her go', 'you have done that yourself', 'your anger and your lust for power have already done that', 'continuing you have allowed this dark lord to twist your mind until now until now you have become the very thing you swore to destroy', 'your new empire', 'anakin my allegiance is to the republic to democracy', 'only a sith lord deals in absolutes i will do what i must', 'ive heard that before anakin but i never thought id hear it from you', 'continuing the flaw of power is arrogance', 'i have failed you anakin i was never able to teach you to think', 'from the sith anakin chancellor palpatine is evil', 'well then you are lost', 'its over anakin i have the high ground', 'dont try it', 'continuing you were the chosen one it was said that you would destroy the sith not join them it was you who would bring balance to the force not leave it in darkness', 'you were my brother anakin i loved you', 'shes dying', 'dont give up padme', 'you have twins padme they need you hang on', 'save your energy', 'we must take them somewhere the sith will not sense their presence', 'and what of the boy', 'i will take the child and watch over him master yoda do you think anakins twins will be able to defeat darth sidious', 'training', 'who', 'quigon but how could he accomplish this', 'i will be able to talk with him', 'hello there come here my little friend dont be afraid', 'dont worry hell be all right', 'rest easy son youve had a busy day youre fortunate youre still in one piece', 'the jundland wastes are not to be traveled lightly tell me young luke what brings you out this far', 'obiwan kenobi obiwan now thats a name i havent heard in a long time a long time', 'oh hes not dead no not yet', 'well of course of course i know him hes me i havent gone by the name obiwan since oh before you were born', 'dont seem to remember ever owning a droid very interesting', 'i think we better get indoors the sand people are easily startled but they will soon be back and in greater numbers', 'quickly son theyre on the move', 'thats what your uncle told you he didnt hold with your fathers ideals thought he should have stayed here and not gotten involved', 'yes i was once a jedi knight the same as your father', 'he was the best starpilot in the galaxy and a cunning warrior i understand youve become quite a good pilot yourself and he was a good friend which reminds me', 'i have something here for you your father wanted you to have this when you were old enough but your uncle wouldnt allow it he feared you might follow old obiwan on some damnedfool idealistic crusade like your father did', 'your fathers lightsaber this is the weapon of a jedi knight not as clumsy or as random as a blaster', 'an elegant weapon for a morecivilized time for over a thousand generations the jedi knights were the guardians of peace and justice in the old republic before the dark times before the empire', 'a young jedi named darth vader who was a pupil of mine until he turned to evil helped the empire hunt down and destroy the jedi knights he betrayed and murdered your father now the jedi are all but extinct vader was seduced by the dark side of the force', 'well the force is what gives the jedi his power its an energy field created by all living things it surrounds us and penetrates us it binds the galaxy together', 'now lets see if we cant figure out what you are my little friend and where you come from', 'i seem to have found it', 'you must learn the ways of the force if youre to come with me to alderaan', 'i need your help luke im getting too old for this sort of thing she needs your help', 'thats your uncle talking', 'learn about the force luke', 'you must do what you feel is right of course', 'they didnt but we are meant to think they did these tracks are side by side sand people always ride single file to hide there numbers', 'and these blast points too accurate for sand people only imperial stormtroopers are so precise', 'wait luke its too dangerous', 'theres nothing you could have done luke had you been there youd have been killed too and the droids would now be in the hands of the empire', 'mos eisley spaceport you will never find a more wretched hive of scum and villainy we must be cautious', 'theyre for sale if you want them', 'you dont need to see his identification', 'looking for', 'he can go about his business', 'move along', 'the force can have a strong influence on the weakminded you will find it a powerful ally', 'well most of the best freighter pilots can be found here only watch your step this place can be a little rough', 'this little one isnt worth the effort come let me buy you something', 'this is chewbacca hes firstmate on a ship that might suit our needs', 'yes indeed if its a fast ship', 'should i have', 'only passengers myself the boy two droids and no questions asked', 'lets just say wed like to avoid any imperial entanglements', 'we havent that much with us but we could pay you two thousand now plus fifteen when we reach alderaan', 'ninetyfour', 'youll have to sell your speeder', 'it will be enough', 'if the ships as fast as hes boasting we ought to do well', 'how long before you can make the jump to light speed', 'i felt a great disturbance in the force as if millions of voices suddenly cried out in terror and were suddenly silenced i fear something terrible has happened', 'youd better get on with your exercises', 'remember a jedi can feel the force flowing through him', 'partially but it also obeys your commands', 'i suggest you try it again luke', 'this time let go your conscious self and act on instinct', 'your eyes can deceive you dont trust them', 'stretch out with your feelings', 'you see you can do it', 'in my experience theres no such thing as luck', 'thats good you have taken your first step into a larger world', 'destroyed by the empire', 'its an imperial fighter', 'no its a short range fighter', 'itd be as well to let it go its too far out of range', 'a fighter that size couldnt get this deep into space on its own', 'thats no moon its a space station', 'turn the ship around', 'you cant win but there are alternatives to fighting', 'leave that to me', 'whos the more foolish the fool or the fool who follows him', 'plug in he should be able to interpret the entire imperial computer network', 'i dont think you boys can help i must go alone', 'be patient luke stay and watch over the droids', 'they must be delivered safely or other star systems will suffer the same fate as alderaan your destiny lies along a different path from mine the force will be with you always', 'only a master of evil darth', 'you cant win darth if you strike me down i shall become more powerful than you can possibly imagine', 'run luke run', 'luke the force will be with you', 'use the force luke', 'let go luke', 'luke trust me', 'remember the force will be with you always', 'luke luke', 'you will go to the dagobah system', 'there you will learn from yoda the jedi master who instructed me', 'he will learn patience', 'was i any different when you taught me', 'so was i if youll remember', 'you dont know that', 'even yoda cannot see their fate', 'but you cannot control it this is a dangerous time for you when you will be tempted by the dark side of the force', 'it is you and your abilities the emperor wants that is why your friends are made to suffer', 'luke i dont want to lose you to the emperor the way i lost vader', 'patience', 'if you choose to face vader you will do it alone i cannot interfere', 'luke dont give in to hate that leads to the dark side', 'that boy is our last hope', 'yoda will always be with you', 'you father was seduced by the dark side of the force he ceased to be anakin skywalker and became darth vader when that happened the good man who was your father was destroyed so what i have told you was true from a certain point of view', 'luke youre going to find that many of the truths we cling to depend greatly on our own point of view', 'i dont blame you for being angry if i was wrong in what i did it certainly wouldnt have been for the first time you see what happened to your father was my fault', 'anakin was a good friend', 'when i first knew him your father was already a great pilot but i was amazed how strongly the force was with him i took it upon myself to train him as a jedi i thought that i could instruct him just as well as yoda i was wrong my pride has had terrible consequences for the galaxy', 'i also thought he could be turned back to the good side it couldnt be done he is more machine now than man twisted and evil', 'you cannot escape your destiny', 'vader humbled you when first you met him luke but that experience was part of your training it taught you among other things the value of patience had you not been so impatient to defeat vader then you could have finished your training here with yoda you would have been prepared', 'and did you help them it was they who had to save you you achieved little by rushing back prematurely i fear', 'to be a jedi luke you must confront and then go beyond the dark side the side your father couldnt get past impatience is the easiest door for you like your father only your father was seduced by what he found on the other side of the door and you have held firm youre no longer so reckless now luke you are strong and patient and now you must face darth vader again', 'then the emperor has already won you were our only hope', 'the other he spoke of is your twin sister', 'hmm to protect you both from the emperor you were hidden from your father when you were born the emperor knew as i did if anakin were to have any offspring they would be a threat to him that is the reason why your sister remains safely anonymous', 'your insight serves you well bury your feelings deep down luke they do you credit but they could be made to serve the emperor', 'when your father left he didnt know your mother was pregnant your mother and i knew he would find out eventually but we wanted to keep you both as safe as possible for as long as possible so i took you to live with my brother owen on tatooine and your mother took leia to live as the daughter of senator organa on alderaan', 'the organa household was highborn and politically quite powerful in that system leia became a princess by virtue of lineage no one knew shed been adopted of course but it was a title without real power since alderaan had long been a democracy even so the family continued to be politically powerful and leia following in her foster fathers path became a senator as well thats not all she became of course she became the leader of her cell in the alliance against the corrupt empire and because she had diplomatic immunity she was a vital link for getting information to the rebel cause thats what she was doing when her path crossed yours for her foster parents had always told her to contact me on tatooine if her troubles became desperate', 'she hasnt been trained in the ways of the jedi the way you have luke but the force is strong with her as it is with all of your family there is no avoiding the battle you must face and destroy vader']\n",
            "['i', 'have', 'a', 'bad', 'feeling', 'about', 'this', 'its', 'not', 'about', 'the', 'mission', 'master', 'its', 'master', 'yoda', 'says', 'i', 'should', 'be', 'mindful', 'of', 'the', 'future', 'yes', 'master', 'how', 'do', 'you', 'think', 'the', 'trade', 'viceroy', 'will', 'deal', 'with', 'offhand', 'id', 'say', 'this', 'mission', 'is', 'past', 'the', 'negotiaion', 'stage', 'they', 'have', 'shield', 'generators', 'its', 'an', 'invisible', 'army', 'you', 'were', 'right', 'about', 'one', 'thing', 'master', 'the', 'negotiations', 'were', 'sorry', 'master', 'the', 'water', 'fried', 'my', 'weapon', 'yes', 'master', 'whats', 'this', 'when', 'they', 'find', 'us', 'they', 'will', 'crush', 'us', 'grind', 'us', 'into', 'little', 'dont', 'worry', 'this', 'has', 'not', 'been', 'our', 'day', 'for', 'warm', 'welcomes', 'after', 'those', 'droids', 'take', 'control', 'of', 'the', 'surface', 'they', 'will', 'come', 'you', 'and', 'the', 'naboo', 'form', 'a', 'symbiont', 'circle', 'what', 'happens', 'to', 'noe', 'of', 'master', 'whats', 'a', 'bongo', 'we', 'are', 'short', 'of', 'time', 'master', 'master', 'why', 'do', 'you', 'keep', 'dragging', 'these', 'pathetic', 'life', 'forms', 'along', 'why', 'were', 'you', 'banished', 'jar', 'jar', 'they', 'banished', 'you', 'because', 'youre', 'clumsy', 'give', 'me', 'the', 'controls', 'were', 'losing', 'power', 'powers', 'back', 'you', 'overdid', 'it', 'what', 'is', 'it', 'get', 'up', 'here', 'that', 'was', 'close', 'ill', 'take', 'care', 'of', 'that', 'obiwan', 'heads', 'toward', 'the', 'group', 'of', 'now', 'stay', 'here', 'and', 'keep', 'out', 'of', 'trouble', 'here', 'master', 'tatooine', 'its', 'small', 'out', 'of', 'the', 'way', 'poor', 'the', 'its', 'risky', 'but', 'theres', 'no', 'alternative', 'tahyts', 'it', 'tatooine', 'sorry', 'quigons', 'right', 'youll', 'make', 'things', 'less', 'obvious', 'cantd', 'the', 'hyperdrive', 'generator', 'is', 'gone', 'we', 'will', 'need', 'a', 'new', 'i', 'fell', 'it', 'also', 'master', 'v', 'o', 'a', 'few', 'containers', 'of', 'supplies', 'the', 'queens', 'wardrobe', 'maybe', 'this', 'storms', 'going', 'to', 'slow', 'them', 'down', 'its', 'a', 'trick', 'send', 'no', 'reply', 'send', 'no', 'transmission', 'of', 'any', 'kind', 'the', 'queen', 'is', 'upset', 'but', 'absolutly', 'no', 'reply', 'was', 'sent', 'what', 'if', 'it', 'is', 'true', 'and', 'the', 'people', 'are', 'dying', 'what', 'if', 'this', 'plan', 'fails', 'master', 'we', 'could', 'be', 'stuck', 'here', 'for', 'a', 'yes', 'master', 'wait', 'a', 'minute', 'all', 'right', 'ive', 'got', 'it', 'something', 'must', 'be', 'wrong', 'with', 'the', 'transmission', 'strange', 'the', 'transmission', 'seems', 'to', 'be', 'in', 'good', 'order', 'but', 'the', 'even', 'master', 'yoda', 'doesnt', 'have', 'a', 'midichlorian', 'count', 'that', 'high', 'what', 'does', 'it', 'mean', 'why', 'do', 'i', 'sense', 'weve', 'picked', 'up', 'another', 'pathetic', 'life', 'form', 'over', 'there', 'fly', 'low', 'what', 'was', 'it', 'the', 'boy', 'will', 'not', 'pass', 'the', 'councils', 'tests', 'master', 'and', 'you', 'know', 'dont', 'defy', 'the', 'council', 'master', 'not', 'again', 'master', 'you', 'could', 'be', 'sitting', 'on', 'the', 'council', 'by', 'now', 'if', 'you', 'would', 'iam', 'ready', 'to', 'face', 'the', 'trials', 'it', 'is', 'not', 'disrespect', 'master', 'it', 'is', 'the', 'truth', 'the', 'boy', 'is', 'dangerous', 'they', 'all', 'sense', 'it', 'why', 'cant', 'you', 'the', 'wars', 'over', 'no', 'need', 'for', 'it', 'now', 'a', 'droid', 'control', 'ship', 'jar', 'jar', 'is', 'on', 'his', 'way', 'to', 'the', 'gungan', 'city', 'master', 'do', 'you', 'think', 'the', 'queens', 'idea', 'will', 'work', 'im', 'im', 'sorry', 'for', 'my', 'behavior', 'master', 'it', 'is', 'not', 'my', 'place', 'to', 'more', 'likely', 'they', 'were', 'wiped', 'out', 'and', 'theres', 'an', 'even', 'bigger', 'danger', 'if', 'the', 'vicroy', 'escapes', 'your', 'master', 'master', 'no', 'yes', 'master', 'quigon', 'believed', 'in', 'him', 'i', 'believe', 'in', 'quigon', 'master', 'yoda', 'igave', 'quigon', 'my', 'word', 'i', 'will', 'train', 'anakin', 'without', 'he', 'is', 'one', 'with', 'the', 'force', 'anakin', 'you', 'must', 'let', 'go', 'i', 'am', 'your', 'master', 'now', 'you', 'will', 'become', 'a', 'jedi', 'i', 'promise', 'its', 'good', 'to', 'see', 'you', 'too', 'jar', 'jar', 'its', 'a', 'great', 'pleasure', 'to', 'see', 'you', 'againmlady', 'im', 'sure', 'the', 'jedi', 'council', 'havetheir', 'reasons', 'our', 'presence', 'will', 'be', 'invisiblemlady', 'frowningwere', 'here', 'to', 'protect', 'yousenator', 'not', 'to', 'start', 'aninvestigation', 'we', 'are', 'not', 'going', 'to', 'exceed', 'ourmandate', 'my', 'young', 'padawan', 'learner', 'we', 'are', 'not', 'going', 'through', 'thisexercise', 'again', 'anakin', 'you', 'willpay', 'attention', 'to', 'my', 'lead', 'what', 'we', 'will', 'do', 'as', 'the', 'council', 'hasinstructed', 'and', 'you', 'will', 'learnyour', 'place', 'young', 'one', 'anakin', 'youre', 'focusing', 'on', 'thenegative', 'again', 'be', 'mindful', 'of', 'yourthoughts', 'she', 'was', 'glad', 'to', 'see', 'us', 'now', 'lets', 'check', 'the', 'security', 'here', 'captain', 'typho', 'has', 'more', 'than', 'enoughmen', 'downstairs', 'no', 'assassin', 'willtry', 'that', 'way', 'any', 'activity', 'uphere', 'whats', 'going', 'on', 'what', 'is', 'she', 'thinking', 'its', 'not', 'an', 'intruder', 'im', 'worriedabout', 'there', 'are', 'many', 'other', 'waysto', 'kill', 'a', 'senator', 'youre', 'using', 'her', 'as', 'bait', 'its', 'too', 'risky', 'and', 'your', 'sensesarent', 'that', 'attuned', 'youngapprentice', 'possibly', 'you', 'look', 'tired', 'because', 'of', 'your', 'mother', 'dreams', 'pass', 'in', 'time', 'mind', 'your', 'thoughts', 'anakin', 'theybetray', 'you', 'youve', 'made', 'acommitment', 'to', 'the', 'jedi', 'order', 'acommitment', 'not', 'easily', 'broken', 'and', 'dont', 'forget', 'shes', 'apolitician', 'theyre', 'not', 'to', 'betrusted', 'its', 'been', 'my', 'experience', 'thatsenators', 'are', 'only', 'focused', 'onpleasing', 'those', 'who', 'fund', 'theircampaigns', 'and', 'they', 'are', 'morethan', 'willing', 'to', 'forget', 'theniceties', 'of', 'democracy', 'to', 'get', 'thosefunds', 'palpatines', 'a', 'politician', 'iveobserved', 'that', 'he', 'is', 'very', 'clever', 'atfollowing', 'the', 'passions', 'andprejudices', 'of', 'the', 'senators', 'i', 'sense', 'it', 'too', 'i', 'have', 'a', 'bad', 'feeling', 'about', 'this', 'what', 'took', 'you', 'so', 'long', 'if', 'youd', 'spend', 'as', 'much', 'timeworking', 'on', 'your', 'saber', 'skills', 'asyou', 'do', 'on', 'your', 'wit', 'young', 'padawanyou', 'would', 'rival', 'master', 'yoda', 'as', 'aswordsman', 'only', 'in', 'your', 'mind', 'my', 'very', 'youngapprentice', 'careful', 'hey', 'easy', 'i', 'dont', 'mind', 'flying', 'butwhat', 'youre', 'doing', 'is', 'suicide', 'just', 'slow', 'down', 'continuingwait', 'dont', 'go', 'in', 'there', 'continuingyou', 'know', 'i', 'dont', 'like', 'it', 'when', 'youdo', 'that', 'what', 'are', 'you', 'doing', 'hes', 'gonnablast', 'me', 'that', 'was', 'too', 'close', 'what', 'whooooaaa', 'dont', 'do', 'that', 'idont', 'like', 'it', 'when', 'you', 'do', 'that', 'its', 'dangerous', 'near', 'those', 'powercouplings', 'slow', 'down', 'dont', 'gothrough', 'there', 'continuingyiiii', 'what', 'are', 'you', 'doing', 'sarcasticallyoh', 'that', 'was', 'good', 'stop', 'im', 'crazy', 'im', 'crazy', 'imcrazy', 'angrilyit', 'didnt', 'work', 'weve', 'stalledand', 'you', 'almost', 'got', 'us', 'killed', 'very', 'angrilyit', 'was', 'stupid', 'furiousbut', 'you', 'didnt', 'and', 'now', 'wevelost', 'him', 'where', 'are', 'you', 'going', 'he', 'wentdown', 'there', 'the', 'other', 'way', 'what', 'do', 'you', 'mean', '\\x91you', 'think\\x92what', 'kind', 'of', 'shortcut', 'he', 'wentcompletely', 'the', 'other', 'way', 'you\\x92velost', 'him', 'sarcasticoh', 'so', 'that\\x92s', 'why', 'we\\x92re', 'going', 'inthe', 'wrong', 'direction', 'continuingwell', 'you', 'lost', 'him', 'anakin', 'patience', 'continuinghere', 'next', 'time', 'try', 'not', 'to', 'lose', 'it', 'a', 'jedis', 'saber', 'is', 'his', 'mostprecious', 'possession', 'he', 'must', 'keep', 'it', 'with', 'him', 'at', 'alltimes', 'this', 'weapon', 'is', 'your', 'life', 'but', 'you', 'havent', 'learned', 'anythinganakin', 'why', 'do', 'i', 'think', 'you', 'are', 'going', 'to', 'bethe', 'death', 'of', 'me', 'then', 'why', 'dont', 'you', 'listen', 'to', 'me', 'do', 'you', 'see', 'him', 'him', 'then', 'be', 'extra', 'careful', 'nods', 'to', 'a', 'roomcheck', 'it', 'out', 'to', 'get', 'a', 'drink', 'you', 'dont', 'want', 'to', 'sell', 'me', 'deathsticks', 'you', 'want', 'to', 'go', 'home', 'and', 'rethink', 'your', 'life', 'do', 'you', 'know', 'who', 'it', 'was', 'you', 'weretrying', 'to', 'kill', 'who', 'hired', 'you', 'this', 'wounds', 'going', 'to', 'needtreatment', 'toxic', 'dart', 'anakin', 'you', 'stay', 'put', 'on', 'naboo', 'do', 'not', 'attract', 'any', 'attention', 'doabsolutely', 'nothing', 'withoutchecking', 'in', 'with', 'me', 'or', 'the', 'council', 'to', 'padmei', 'will', 'get', 'to', 'the', 'bottom', 'of', 'thisplot', 'quickly', 'mlady', 'youll', 'beback', 'here', 'in', 'no', 'time', 'may', 'the', 'force', 'be', 'with', 'you', 'i', 'hope', 'he', 'doesnt', 'try', 'anythingfoolish', 'its', 'a', 'toxic', 'dart', 'i', 'need', 'to', 'knowwhere', 'it', 'came', 'from', 'and', 'who', 'made', 'it', 'excuse', 'me', 'could', 'you', 'try', 'againplease', 'thanks', 'for', 'your', 'assistance', 'youmay', 'not', 'be', 'able', 'to', 'figure', 'thisout', 'but', 'i', 'think', 'i', 'know', 'someonewho', 'might', 'im', 'looking', 'for', 'dexter', 'hes', 'not', 'in', 'trouble', 'itspersonal', 'hey', 'dex', 'thank', 'you', 'hey', 'dex', 'you', 'can', 'tell', 'me', 'what', 'this', 'is', 'do', 'you', 'know', 'where', 'it', 'came', 'from', 'kamino', 'kyberdart', 'i', 'wonder', 'whyit', 'didnt', 'show', 'up', 'in', 'any', 'analysisarchive', 'well', 'dex', 'if', 'droids', 'could', 'think', 'wewouldnt', 'be', 'here', 'would', 'welaughingkamino', 'doesnt', 'sound', 'familiar', 'is', 'it', 'part', 'of', 'the', 'republic', 'cloners', 'are', 'they', 'friendly', 'on', 'what', 'dex', 'distracted', 'in', 'thoughtyes', 'yes', 'i', 'did', 'i', 'never', 'understood', 'why', 'he', 'quit', 'only', 'twenty', 'jedi', 'have', 'ever', 'leftthe', 'order', 'what', 'happened', 'surprisedreally', 'interesting', 'im', 'still', 'not', 'surei', 'understand', 'yes', 'im', 'trying', 'to', 'find', 'a', 'planetsystem', 'called', 'kamino', 'it', 'doesntseem', 'to', 'show', 'upon', 'any', 'of', 'thearchive', 'charts', 'noddingaccording', 'to', 'my', 'information', 'itshould', 'be', 'in', 'this', 'quadrantsomewhere', 'just', 'south', 'of', 'therishi', 'maze', 'all', 'three', 'actually', 'absolutely', 'wouldnt', 'that', 'be', 'on', 'record', 'thats', 'impossible', 'perhaps', 'thearchives', 'are', 'incomplete', 'i', 'am', 'sorry', 'to', 'disturb', 'you', 'master', 'i\\x92m', 'looking', 'for', 'a', 'planet', 'describedto', 'me', 'by', 'an', 'old', 'friend', 'i', 'trusthim', 'but', 'the', 'system', 'doesn\\x92t', 'showup', 'on', 'the', 'archive', 'maps', 'this', 'is', 'where', 'it', 'ought', 'to', 'be', 'but', 'it', 'isn\\x92t', 'gravity', 'is', 'pullingall', 'the', 'stars', 'in', 'this', 'area', 'inwardto', 'this', 'spot', 'there', 'should', 'be', 'astar', 'here', 'but', 'there', 'isn\\x92t', 'but', 'master', 'yoda', 'who', 'could', 'haveerased', 'information', 'from', 'thearchives', 'that\\x92s', 'impossibleisn\\x92t', 'it', 'i', 'am', 'concerned', 'for', 'my', 'padawan', 'heis', 'not', 'ready', 'to', 'be', 'on', 'his', 'own', 'but', 'he', 'still', 'has', 'much', 'to', 'learn', 'and', 'his', 'abilities', 'have', 'made', 'him', 'well', 'arrogant', 'i', 'realise', 'nowwhat', 'you', 'and', 'master', 'yoda', 'knew', 'fromthe', 'beginning', 'the', 'boy', 'was', 'tooold', 'to', 'start', 'the', 'training', 'and', 'master', 'he', 'should', 'not', 'have', 'beengiven', 'this', 'assignment', 'im', 'afraidanakin', 'wont', 'be', 'able', 'to', 'protectthe', 'senator', 'he', 'has', 'a', 'an', 'emotionalconnection', 'with', 'her', 'its', 'beenthere', 'since', 'he', 'was', 'boy', 'nowhes', 'confused', 'distracted', 'has', 'master', 'yoda', 'gained', 'any', 'insightinto', 'whether', 'or', 'not', 'this', 'war', 'willcome', 'about', 'warilyim', 'expected', 'obiwan', 'kenobi', 'you', 'make', 'me', 'feel', 'most', 'welcome', 'improvisingthat', 'is', 'good', 'news', 'im', 'sorry', 'master', 'oh', 'yes', 'sidodyas', 'thats', 'why', 'im', 'here', 'where', 'is', 'this', 'bounty', 'hunter', 'now', 'unaltered', 'i', 'would', 'like', 'to', 'meet', 'this', 'jangofett', 'you', 'mentioned', 'growthacceleration', 'and', 'these', 'very', 'impressive', 'carefullytell', 'me', 'prime', 'minister', 'when', 'mymaster', 'sidodyas', 'first', 'contactedyou', 'did', 'he', 'say', 'the', 'order', 'wasfor', 'himself', 'or', 'astonishedthe', 'repubic', 'arfour', 'arfour', 'arfour', 'relay', 'this', 'scramble', 'codefive', 'to', 'courscant', 'care', 'of', 'theold', 'folks', 'home', 'your', 'clones', 'are', 'very', 'impressive', 'you', 'must', 'be', 'very', 'proud', 'arent', 'we', 'all', 'continuingever', 'made', 'your', 'way', 'as', 'far', 'into', 'theinterior', 'as', 'coruscant', 'recently', 'then', 'you', 'must', 'know', 'master', 'sidodyas', 'sidodyas', 'isn\\x92t', 'he', 'the', 'jedi', 'whohired', 'you', 'for', 'this', 'job', 'no', 'i', 'thought', 'curious', 'it', 'seems', 'to', 'me', 'its', 'your', 'army', 'being', 'that', 'they', 'are', 'all', 'clones', 'ofyou', 'i', 'look', 'forward', 'to', 'seeing', 'them', 'inaction', 'thank', 'you', 'for', 'your', 'timejango', 'i', 'wont', 'forget', 'guiding', 'light', 'to', 'old', 'folkshome', 'starships', 'from', 'the', 'tradefederation', 'and', 'the', 'commerce', 'guildsare', 'taking', 'deliveries', 'of', 'battledroids', 'from', 'the', 'foundries', 'ongeonosis', 'the', 'droid', 'foundry', 'seems', 'to', 'beworking', 'at', 'full', 'capacity', 'i', 'amgoing', 'to', 'go', 'down', 'and', 'investigate', 'i', 'will', 'bring', 'jango', 'fett', 'back', 'homefor', 'interrogation', 'one', 'more', 'thing', 'jango', 'mentionedhe', 'was', 'recruited', 'by', 'someone', 'nameddarth', 'tyranus', 'any', 'idea', 'who', 'thatmight', 'be', 'do', 'you', 'believe', 'he', 'could', 'be', 'themysterious', 'sidodyas', 'who', 'made', 'thedeal', 'for', 'the', 'clone', 'army', 'let', 'me', 'see', 'if', 'i', 'can', 'figure', 'outwhats', 'going', 'on', 'first', 'alliance', 'have', 'pledged', 'theirarmies', 'to', 'count', 'dooku', 'and', 'areforming', 'an', 'wait', 'ah', 'attack', 'i', 'dont', 'make', 'it', 'aaaggghhh', 'i', 'was', 'beginning', 'to', 'wonder', 'if', 'youhad', 'gotten', 'my', 'message', 'it', 'looks', 'like', 'youre', 'going', 'a', 'goodjob', 'so', 'far', 'take', 'the', 'one', 'the', 'left', 'illtake', 'the', 'one', 'on', 'the', 'right', 'it', 'looks', 'like', 'shes', 'already', 'on', 'topof', 'things', 'someones', 'got', 'to', 'shut', 'down', 'these', 'droids', 'hold', 'on', 'look', 'over', 'there', 'no', 'forget', 'her', 'we', 'have', 'to', 'goafter', 'dooku', 'dont', 'let', 'your', 'personal', 'feelingsget', 'in', 'the', 'way', 'weve', 'got', 'a', 'job', 'todo', 'anakin', 'shes', 'all', 'right', 'look', 'continuingfollow', 'that', 'speeder', 'to', 'anakinwe', 'move', 'in', 'together', 'you', 'slowlyon', 'the', 'anakin', 'no', 'i', 'dont', 'think', 'so', 'you', 'will', 'have', 'to', 'prove', 'it', 'anakin', 'on', 'his', 'way', 'back', 'to', 'naboo', 'he', 'isescorting', 'senator', 'amidala', 'home', 'continuingi', 'must', 'admit', 'without', 'the', 'clonesit', 'would', 'not', 'have', 'been', 'a', 'victory', 'look', 'out', 'four', 'droids', 'inbound', 'weve', 'got', 'to', 'split', 'them', 'up', 'easy', 'for', 'you', 'to', 'say', 'why', 'am', 'i', 'always', 'the', 'bait', 'anakin', 'theyre', 'all', 'over', 'me', 'im', 'going', 'down', 'on', 'the', 'deck', 'hurry', 'up', 'i', 'dont', 'like', 'this', 'continuing', 'ouch', 'continuing', 'dont', 'even', 'try', 'to', 'fix', 'it', 'arfour', 'ive', 'shut', 'it', 'down', 'next', 'time', 'youre', 'the', 'bait', 'now', 'lets', 'find', 'the', 'command', 'ship', 'and', 'get', 'on', 'with', 'it', 'i', 'see', 'it', 'oh', 'this', 'is', 'going', 'to', 'be', 'easy', 'not', 'this', 'time', 'theres', 'too', 'much', 'at', 'stake', 'we', 'need', 'help', 'odd', 'ball', 'do', 'you', 'copy', 'mark', 'my', 'position', 'and', 'form', 'your', 'squad', 'up', 'behind', 'me', 'add', 'five', 'trifighters', 'on', 'the', 'right', 'take', 'it', 'easy', 'anakin', 'five', 'more', 'on', 'the', 'right', 'im', 'going', 'high', 'and', 'right', 'stay', 'with', 'me', 'swing', 'back', 'and', 'right', 'help', 'me', 'engage', 'back', 'off', 'let', 'them', 'pass', 'between', 'us', 'all', 'right', 'engage', 'and', 'hurry', 'these', 'droids', 'are', 'all', 'over', 'me', 'like', 'a', 'rash', 'anakin', 'you', 'have', 'four', 'on', 'your', 'tail', 'four', 'more', 'closing', 'from', 'your', 'left', 'break', 'right', 'and', 'go', 'high', 'to', 'himself', 'he', 'still', 'has', 'much', 'to', 'learn', 'too', 'dangerous', 'first', 'jedi', 'rule', 'just', 'keep', 'me', 'steady', 'hold', 'on', 'not', 'yet', 'now', 'break', 'left', 'continuing', 'youll', 'never', 'get', 'through', 'there', 'anakin', 'its', 'too', 'tight', 'use', 'the', 'force', 'think', 'yourself', 'through', 'the', 'ship', 'will', 'follow', 'no', 'no', 'they', 'are', 'doing', 'their', 'job', 'so', 'we', 'can', 'do', 'ours', 'head', 'for', 'the', 'command', 'ship', 'they', 'overshot', 'us', 'all', 'right', 'arfour', 'no', 'no', 'nothing', 'too', 'fancy', 'flying', 'is', 'for', 'droids', 'continuing', 'im', 'hit', 'anakin', 'arfour', 'be', 'careful', 'you', 'have', 'one', 'oh', 'dear', 'theyre', 'shutting', 'down', 'all', 'the', 'controls', 'the', 'mission', 'get', 'to', 'the', 'command', 'ship', 'get', 'the', 'chancellor', 'im', 'running', 'out', 'of', 'tricks', 'here', 'continuing', 'in', 'the', 'name', 'of', 'anakin', 'hold', 'your', 'fire', 'hold', 'your', 'fire', 'youre', 'not', 'helping', 'here', 'wait', 'wait', 'i', 'cant', 'see', 'a', 'thing', 'my', 'cockpits', 'fogging', 'theyre', 'all', 'over', 'me', 'anakin', 'hold', 'on', 'anakin', 'youre', 'going', 'to', 'get', 'us', 'both', 'killed', 'get', 'out', 'of', 'here', 'theres', 'nothing', 'more', 'you', 'can', 'do', 'blast', 'it', 'i', 'cant', 'see', 'my', 'controls', 'are', 'gone', 'artoo', 'hit', 'the', 'buzz', 'droids', 'center', 'eye', 'great', 'artoo', 'have', 'you', 'noticed', 'the', 'shields', 'are', 'still', 'up', 'oh', 'i', 'have', 'a', 'bad', 'feeling', 'about', 'this', 'artoo', 'locate', 'the', 'chancellor', 'the', 'chancellors', 'signal', 'is', 'coming', 'from', 'right', 'there', 'the', 'observation', 'platform', 'at', 'the', 'top', 'of', 'that', 'spire', 'i', 'sense', 'a', 'trap', 'spring', 'the', 'trap', 'here', 'take', 'this', 'and', 'wait', 'for', 'orders', 'we', 'are', 'here', 'to', 'relieve', 'you', 'of', 'chancellor', 'palpatine', 'not', 'join', 'him', 'anakin', 'fuel', 'the', 'slightest', 'charge', 'from', 'our', 'sabers', 'will', 'send', 'this', 'ship', 'into', 'oblivion', 'thats', 'why', 'theyve', 'stopped', 'shooting', 'your', 'idea', 'of', 'safe', 'is', 'not', 'the', 'same', 'as', 'mine', 'six', 'droids', 'coming', 'our', 'way', 'well', 'never', 'get', 'through', 'that', 'its', 'too', 'small', 'anakin', 'this', 'is', 'no', 'time', 'for', 'jokes', 'were', 'in', 'serious', 'trouble', 'here', 'that', 'wont', 'hold', 'when', 'the', 'fuel', 'hits', 'those', 'power', 'dischargers', 'you', 'still', 'have', 'much', 'to', 'learn', 'anakin', 'all', 'right', 'you', 'win', 'i', 'have', 'much', 'to', 'learn', 'lets', 'go', 'did', 'you', 'press', 'the', 'stop', 'button', 'no', 'we', 'dont', 'want', 'to', 'get', 'out', 'we', 'want', 'to', 'get', 'moving', 'artoo', 'artoo', 'do', 'you', 'copy', 'activate', 'elevator', 'looks', 'at', 'control', 'panel', 'artoo', 'continuing', 'always', 'on', 'the', 'move', 'os', 'artoo', 'switch', 'on', 'the', 'comlink', 'artoo', 'do', 'you', 'hear', 'me', 'artoo', 'we', 'gave', 'you', 'a', 'job', 'to', 'do', 'artoo', 'stop', 'stop', 'artoo', 'we', 'need', 'to', 'be', 'going', 'up', 'os', 'artoo', 'do', 'you', 'copy', 'artoo', 'do', 'you', 'hear', 'me', 'artoo', 'we', 'need', 'to', 'be', 'going', 'up', 'not', 'down', 'stop', 'artoo', 'we', 'need', 'to', 'go', 'up', 'stop', 'stop', 'now', 'thats', 'better', 'oh', 'its', 'you', 'well', 'artoo', 'has', 'been', 'did', 'i', 'say', 'anything', 'i', 'didnt', 'say', 'anything', 'bows', 'chancellor', 'quietly', 'to', 'anakin', 'this', 'time', 'we', 'will', 'do', 'it', 'together', 'chancellor', 'palpatine', 'sith', 'lords', 'are', 'our', 'specialty', 'you', 'wont', 'get', 'away', 'this', 'time', 'dooku', 'did', 'i', 'miss', 'something', 'what', 'is', 'that', 'continuing', 'oops', 'too', 'late', 'jump', 'lets', 'see', 'if', 'we', 'can', 'find', 'something', 'in', 'the', 'hangar', 'bay', 'thats', 'still', 'flyable', 'come', 'on', 'none', 'of', 'those', 'ships', 'will', 'get', 'us', 'anywhere', 'dont', 'look', 'at', 'me', 'i', 'dont', 'know', 'well', 'head', 'toward', 'the', 'bridge', 'and', 'see', 'if', 'we', 'can', 'find', 'an', 'escape', 'pod', 'wait', 'a', 'minute', 'howd', 'this', 'happen', 'were', 'smarter', 'than', 'this', 'oh', 'so', 'all', 'of', 'a', 'sudden', 'its', 'my', 'fault', 'im', 'open', 'to', 'suggestions', 'here', 'patience', 'thats', 'your', 'plan', 'is', 'it', 'do', 'you', 'have', 'a', 'plan', 'b', 'that', 'depends', 'upon', 'your', 'point', 'of', 'view', 'hah', 'anakin', 'try', 'not', 'to', 'upset', 'him', 'we', 'have', 'a', 'job', 'to', 'do', 'not', 'this', 'time', 'and', 'this', 'time', 'you', 'wont', 'escape', 'grievous', 'can', 'you', 'fly', 'a', 'cruiser', 'like', 'this', 'well', 'steady', 'attitude', 'eighteen', 'degrees', 'temp', 'steady', 'hatches', 'open', 'flaps', 'extended', 'drag', 'fins', 'not', 'to', 'worry', 'were', 'still', 'flying', 'half', 'the', 'ship', 'careful', 'were', 'heating', 'uptwelve', 'thousand', 'thirteen', 'thousand', 'eight', 'plus', 'sixtyforty', 'eight', 'plus', 'sixtytwenty', 'eight', 'plus', 'sixty', 'temp', 'ten', 'thousand', 'nine', 'thousand', 'were', 'in', 'the', 'atmosphere', 'steady', 'steady', 'five', 'thousand', 'three', 'thousand', 'two', 'thousand', 'fireships', 'on', 'the', 'left', 'and', 'the', 'right', 'copy', 'that', 'landing', 'strips', 'straight', 'ahead', 'easyeasy', 'another', 'happy', 'landing', 'oh', 'no', 'im', 'not', 'brave', 'enough', 'for', 'politics', 'i', 'have', 'to', 'report', 'to', 'the', 'council', 'besides', 'someone', 'needs', 'to', 'be', 'the', 'poster', 'boy', 'sorry', 'old', 'friend', 'let', 'us', 'not', 'forget', 'that', 'you', 'rescued', 'me', 'from', 'the', 'buzz', 'droids', 'and', 'you', 'killed', 'count', 'dooku', 'and', 'you', 'rescued', 'the', 'chancellor', 'carrying', 'me', 'unconscious', 'on', 'your', 'back', 'and', 'you', 'managed', 'to', 'land', 'that', 'bucket', 'of', 'bolts', 'safely', 'the', 'endless', 'speeches', 'anakin', 'lets', 'be', 'fair', 'today', 'you', 'are', 'the', 'hero', 'and', 'you', 'deserve', 'your', 'glorious', 'day', 'with', 'the', 'politicians', 'ninth', 'time', 'that', 'business', 'on', 'cato', 'nemoidia', 'doesnt', 'count', 'ill', 'see', 'you', 'at', 'the', 'briefing', 'you', 'missed', 'the', 'report', 'on', 'the', 'outer', 'rim', 'sieges', 'in', 'short', 'they', 'are', 'going', 'very', 'well', 'saleucami', 'has', 'fallen', 'and', 'master', 'vos', 'has', 'moved', 'his', 'troops', 'to', 'boz', 'pity', 'the', 'senate', 'is', 'expected', 'to', 'vote', 'more', 'executive', 'powers', 'to', 'the', 'chancellor', 'today', 'anakin', 'be', 'careful', 'of', 'your', 'friend', 'palpatine', 'he', 'has', 'requested', 'your', 'presence', 'he', 'would', 'not', 'say', 'all', 'of', 'this', 'is', 'unusual', 'and', 'its', 'making', 'me', 'feel', 'uneasy', 'youre', 'probably', 'aware', 'that', 'relations', 'between', 'the', 'council', 'and', 'the', 'chancellor', 'are', 'stressed', 'the', 'force', 'grows', 'dark', 'anakin', 'and', 'we', 'are', 'all', 'affected', 'by', 'it', 'be', 'wary', 'of', 'your', 'feelings', 'it', 'may', 'take', 'some', 'time', 'we', 'do', 'not', 'have', 'many', 'ships', 'to', 'spare', 'and', 'yet', 'it', 'would', 'be', 'fatal', 'for', 'us', 'to', 'allow', 'the', 'droid', 'armies', 'to', 'regroup', 'hes', 'right', 'that', 'is', 'a', 'system', 'we', 'cannot', 'afford', 'to', 'lose', 'its', 'the', 'main', 'navigation', 'route', 'for', 'the', 'southwestern', 'quadrant', 'calm', 'down', 'anakin', 'you', 'have', 'been', 'given', 'a', 'great', 'honor', 'to', 'be', 'on', 'the', 'council', 'at', 'your', 'age', 'its', 'never', 'happened', 'before', 'listen', 'to', 'me', 'anakin', 'the', 'fact', 'of', 'the', 'matter', 'is', 'youre', 'too', 'close', 'to', 'the', 'chancellor', 'the', 'council', 'doesnt', 'like', 'it', 'when', 'he', 'interferes', 'in', 'jedi', 'affairs', 'but', 'its', 'what', 'you', 'wanted', 'your', 'friendship', 'with', 'chancellor', 'palpatine', 'seems', 'to', 'have', 'paid', 'off', 'anakin', 'regardless', 'of', 'how', 'it', 'happened', 'you', 'find', 'yourself', 'in', 'a', 'delicate', 'situation', 'i', 'warned', 'you', 'there', 'was', 'tension', 'between', 'the', 'council', 'and', 'the', 'chancellor', 'i', 'was', 'very', 'clear', 'why', 'didnt', 'you', 'listen', 'you', 'walked', 'right', 'into', 'it', 'no', 'it', 'is', 'not', 'anakin', 'i', 'worry', 'when', 'you', 'speak', 'of', 'jealousy', 'and', 'pride', 'those', 'are', 'not', 'jedi', 'thoughts', 'theyre', 'dangerous', 'dark', 'thoughts', 'i', 'hope', 'so', 'anakin', 'the', 'only', 'reason', 'the', 'council', 'has', 'approved', 'your', 'appointment', 'is', 'because', 'the', 'chancellor', 'trusts', 'you', 'anakin', 'look', 'i', 'am', 'on', 'your', 'side', 'i', 'didnt', 'want', 'to', 'see', 'you', 'put', 'in', 'this', 'situation', 'takes', 'a', 'deep', 'breath', 'the', 'council', 'wants', 'you', 'to', 'report', 'on', 'all', 'of', 'the', 'chancellors', 'dealings', 'they', 'want', 'to', 'know', 'what', 'hes', 'up', 'to', 'we', 'are', 'at', 'war', 'anakin', 'the', 'jedi', 'council', 'is', 'sworn', 'to', 'uphold', 'the', 'principles', 'of', 'the', 'republic', 'even', 'if', 'the', 'chancellor', 'does', 'not', 'this', 'assignment', 'is', 'not', 'to', 'be', 'on', 'record', 'the', 'council', 'asked', 'me', 'to', 'approach', 'you', 'on', 'this', 'personally', 'that', 'is', 'why', 'you', 'must', 'help', 'us', 'anakin', 'our', 'allegiance', 'is', 'to', 'the', 'senate', 'not', 'to', 'its', 'leader', 'who', 'has', 'managed', 'to', 'stay', 'in', 'office', 'long', 'after', 'his', 'term', 'has', 'expired', 'yes', 'but', 'use', 'your', 'feelings', 'anakin', 'something', 'is', 'out', 'of', 'place', 'the', 'council', 'is', 'asking', 'you', 'anakin', 'did', 'not', 'take', 'to', 'his', 'assignment', 'with', 'much', 'enthusiasm', 'hell', 'be', 'all', 'right', 'i', 'trust', 'him', 'with', 'my', 'life', 'with', 'all', 'due', 'respect', 'master', 'is', 'he', 'not', 'the', 'chosen', 'one', 'is', 'he', 'not', 'to', 'destroy', 'the', 'sith', 'and', 'bring', 'balance', 'to', 'the', 'force', 'he', 'will', 'not', 'let', 'me', 'down', 'he', 'never', 'has', 'does', 'everyone', 'agree', 'oh', 'no', 'youre', 'quite', 'right', 'but', 'i', 'do', 'have', 'the', 'most', 'experience', 'with', 'his', 'ways', 'of', 'combat', 'has', 'anakin', 'been', 'to', 'see', 'you', 'i', 'know', 'he', 'deserves', 'it', 'he', 'is', 'impatient', 'strong', 'willed', 'very', 'opinionated', 'but', 'truly', 'gifted', 'you', 'should', 'be', 'a', 'jedi', 'padme', 'its', 'anakin', 'hes', 'becoming', 'moody', 'and', 'detached', 'hes', 'been', 'put', 'in', 'a', 'difficult', 'position', 'as', 'the', 'chancellors', 'representative', 'but', 'i', 'think', 'its', 'more', 'than', 'that', 'i', 'was', 'hoping', 'he', 'may', 'have', 'talked', 'to', 'you', 'neither', 'of', 'you', 'is', 'very', 'good', 'at', 'hiding', 'your', 'feelings', 'either', 'i', 'know', 'how', 'he', 'feels', 'about', 'you', 'nothing', 'he', 'didnt', 'have', 'to', 'i', 'know', 'you', 'both', 'too', 'well', 'i', 'can', 'see', 'you', 'two', 'are', 'in', 'love', 'padme', 'im', 'worried', 'about', 'him', 'continuing', 'i', 'fear', 'your', 'relationship', 'has', 'confused', 'him', 'hes', 'changed', 'considerably', 'since', 'we', 'returned', 'continuing', 'padme', 'im', 'not', 'telling', 'the', 'council', 'about', 'any', 'of', 'this', 'i', 'i', 'hope', 'i', 'didnt', 'upset', 'you', 'were', 'all', 'friends', 'i', 'care', 'about', 'both', 'of', 'you', 'please', 'do', 'what', 'you', 'can', 'to', 'help', 'him', 'oh', 'i', 'agree', 'however', 'it', 'may', 'turn', 'out', 'just', 'to', 'be', 'a', 'wild', 'bantha', 'chase', 'you', 'are', 'strong', 'and', 'wise', 'anakin', 'and', 'i', 'am', 'very', 'proud', 'of', 'you', 'i', 'have', 'trained', 'you', 'since', 'you', 'were', 'a', 'small', 'boy', 'i', 'have', 'taught', 'you', 'everything', 'i', 'know', 'and', 'you', 'have', 'become', 'a', 'far', 'greater', 'jedi', 'than', 'i', 'could', 'ever', 'hope', 'to', 'be', 'and', 'you', 'have', 'saved', 'my', 'life', 'more', 'times', 'than', 'i', 'can', 'remember', 'but', 'be', 'patient', 'anakin', 'it', 'wont', 'be', 'long', 'before', 'the', 'council', 'makes', 'you', 'a', 'jedi', 'master', 'continuing', 'dont', 'worry', 'i', 'have', 'enough', 'clones', 'with', 'me', 'to', 'take', 'three', 'systems', 'the', 'size', 'of', 'utapau', 'i', 'think', 'ill', 'be', 'able', 'to', 'handle', 'the', 'situation', 'even', 'without', 'your', 'help', 'goodbye', 'old', 'friend', 'may', 'the', 'force', 'be', 'with', 'you', 'ill', 'keep', 'them', 'distracted', 'until', 'you', 'get', 'there', 'just', 'dont', 'take', 'too', 'long', 'laughing', 'cato', 'nemoidia', 'for', 'starters', 'very', 'well', 'the', 'burden', 'is', 'on', 'me', 'not', 'to', 'destroy', 'all', 'the', 'droids', 'before', 'you', 'get', 'there', 'save', 'your', 'energy', 'dont', 'give', 'up', 'padme', 'dont', 'give', 'up', 'unfortunately', 'the', 'war', 'with', 'your', 'kind', 'permission', 'i', 'should', 'like', 'some', 'fuel', 'and', 'to', 'use', 'your', 'city', 'as', 'a', 'base', 'as', 'i', 'search', 'nearby', 'systems', 'for', 'general', 'grievous', 'i', 'understand', 'tell', 'your', 'people', 'to', 'take', 'shelter', 'if', 'you', 'have', 'warriors', 'now', 'is', 'the', 'time', 'continuing', 'geenine', 'take', 'the', 'fighter', 'back', 'to', 'the', 'ship', 'im', 'staying', 'here', 'tell', 'cody', 'ive', 'made', 'contact', 'i', 'need', 'transportation', 'get', 'it', 'for', 'me', 'this', 'one', 'good', 'girl', 'boga', 'hello', 'there', 'your', 'move', 'you', 'forget', 'i', 'trained', 'the', 'jedi', 'that', 'defeated', 'count', 'dooku', 'i', 'may', 'not', 'defeat', 'your', 'droids', 'but', 'my', 'troops', 'certainly', 'will', 'i', 'dont', 'think', 'so', 'so', 'uncivilized', 'commander', 'contact', 'your', 'troops', 'tell', 'them', 'to', 'move', 'to', 'the', 'higher', 'levels', 'thank', 'you', 'cody', 'smiling', 'now', 'lets', 'get', 'a', 'move', 'on', 'weve', 'got', 'a', 'battle', 'to', 'win', 'here', 'emergency', 'code', 'nine', 'thirteen', 'i', 'have', 'no', 'contact', 'on', 'any', 'frequency', 'are', 'there', 'any', 'jedi', 'out', 'there', 'anywhere', 'continuing', 'ive', 'locked', 'on', 'repeat', 'senator', 'organa', 'my', 'clone', 'troops', 'turned', 'on', 'me', 'i', 'need', 'help', 'you', 'were', 'attacked', 'by', 'your', 'clones', 'also', 'how', 'many', 'other', 'jedi', 'managed', 'to', 'survive', 'have', 'we', 'had', 'any', 'contact', 'from', 'the', 'temple', 'well', 'then', 'we', 'must', 'go', 'back', 'if', 'there', 'are', 'other', 'stragglers', 'they', 'will', 'fall', 'into', 'the', 'trap', 'and', 'be', 'killed', 'yes', 'master', 'there', 'is', 'too', 'much', 'at', 'stake', 'here', 'and', 'we', 'need', 'a', 'clearer', 'picture', 'of', 'what', 'has', 'happened', 'no', 'i', 'dont', 'think', 'so', 'the', 'chancellor', 'will', 'not', 'be', 'able', 'to', 'control', 'the', 'thousands', 'of', 'star', 'systems', 'without', 'keeping', 'the', 'senate', 'intact', 'it', 'would', 'be', 'better', 'if', 'we', 'stayed', 'with', 'the', 'senator', 'there', 'are', 'several', 'battalions', 'of', 'clone', 'troopers', 'on', 'every', 'level', 'many', 'are', 'dressed', 'as', 'jedi', 'not', 'even', 'the', 'younglings', 'survived', 'who', 'who', 'could', 'have', 'done', 'this', 'ive', 'recalibrated', 'the', 'code', 'warning', 'all', 'surviving', 'jedi', 'to', 'stay', 'away', 'wait', 'master', 'there', 'is', 'something', 'i', 'must', 'know', 'i', 'must', 'know', 'the', 'truth', 'master', 'continuing', 'it', 'cant', 'be', 'it', 'cant', 'be', 'i', 'cant', 'watch', 'any', 'more', 'send', 'me', 'to', 'kill', 'the', 'emperor', 'i', 'will', 'not', 'kill', 'anakin', 'he', 'is', 'like', 'my', 'brother', 'i', 'cannot', 'do', 'it', 'how', 'could', 'it', 'have', 'come', 'to', 'this', 'i', 'do', 'not', 'know', 'where', 'the', 'emperor', 'has', 'sent', 'him', 'i', 'dont', 'know', 'where', 'to', 'look', 'may', 'the', 'force', 'be', 'with', 'you', 'master', 'yoda', 'has', 'anakin', 'been', 'here', 'the', 'republic', 'has', 'fallen', 'padme', 'the', 'jedi', 'order', 'is', 'no', 'more', 'i', 'believe', 'we', 'have', 'been', 'part', 'of', 'a', 'plot', 'hundreds', 'of', 'years', 'in', 'the', 'making', 'no', 'padme', 'its', 'over', 'the', 'sith', 'now', 'rule', 'the', 'galaxy', 'as', 'they', 'did', 'before', 'the', 'republic', 'im', 'here', 'looking', 'for', 'anakin', 'when', 'was', 'the', 'last', 'time', 'you', 'saw', 'him', 'and', 'do', 'you', 'know', 'where', 'he', 'is', 'now', 'padme', 'i', 'need', 'your', 'help', 'hes', 'in', 'grave', 'danger', 'from', 'himself', 'padme', 'anakin', 'has', 'turned', 'to', 'the', 'dark', 'side', 'i', 'have', 'seen', 'a', 'security', 'hologram', 'of', 'him', 'killing', 'younglings', 'he', 'was', 'deceived', 'by', 'a', 'lie', 'we', 'all', 'were', 'it', 'appears', 'that', 'the', 'chancellor', 'is', 'behind', 'everything', 'including', 'the', 'war', 'palpatine', 'is', 'the', 'sith', 'lord', 'weve', 'been', 'looking', 'for', 'after', 'the', 'death', 'of', 'count', 'dooku', 'anakin', 'became', 'his', 'new', 'apprentice', 'padme', 'i', 'must', 'find', 'him', 'he', 'has', 'become', 'a', 'very', 'great', 'threat', 'anakin', 'is', 'the', 'father', 'isnt', 'he', 'continuing', 'im', 'so', 'sorry', 'let', 'her', 'go', 'anakin', 'let', 'her', 'go', 'you', 'have', 'done', 'that', 'yourself', 'your', 'anger', 'and', 'your', 'lust', 'for', 'power', 'have', 'already', 'done', 'that', 'continuing', 'you', 'have', 'allowed', 'this', 'dark', 'lord', 'to', 'twist', 'your', 'mind', 'until', 'now', 'until', 'now', 'you', 'have', 'become', 'the', 'very', 'thing', 'you', 'swore', 'to', 'destroy', 'your', 'new', 'empire', 'anakin', 'my', 'allegiance', 'is', 'to', 'the', 'republic', 'to', 'democracy', 'only', 'a', 'sith', 'lord', 'deals', 'in', 'absolutes', 'i', 'will', 'do', 'what', 'i', 'must', 'ive', 'heard', 'that', 'before', 'anakin', 'but', 'i', 'never', 'thought', 'id', 'hear', 'it', 'from', 'you', 'continuing', 'the', 'flaw', 'of', 'power', 'is', 'arrogance', 'i', 'have', 'failed', 'you', 'anakin', 'i', 'was', 'never', 'able', 'to', 'teach', 'you', 'to', 'think', 'from', 'the', 'sith', 'anakin', 'chancellor', 'palpatine', 'is', 'evil', 'well', 'then', 'you', 'are', 'lost', 'its', 'over', 'anakin', 'i', 'have', 'the', 'high', 'ground', 'dont', 'try', 'it', 'continuing', 'you', 'were', 'the', 'chosen', 'one', 'it', 'was', 'said', 'that', 'you', 'would', 'destroy', 'the', 'sith', 'not', 'join', 'them', 'it', 'was', 'you', 'who', 'would', 'bring', 'balance', 'to', 'the', 'force', 'not', 'leave', 'it', 'in', 'darkness', 'you', 'were', 'my', 'brother', 'anakin', 'i', 'loved', 'you', 'shes', 'dying', 'dont', 'give', 'up', 'padme', 'you', 'have', 'twins', 'padme', 'they', 'need', 'you', 'hang', 'on', 'save', 'your', 'energy', 'we', 'must', 'take', 'them', 'somewhere', 'the', 'sith', 'will', 'not', 'sense', 'their', 'presence', 'and', 'what', 'of', 'the', 'boy', 'i', 'will', 'take', 'the', 'child', 'and', 'watch', 'over', 'him', 'master', 'yoda', 'do', 'you', 'think', 'anakins', 'twins', 'will', 'be', 'able', 'to', 'defeat', 'darth', 'sidious', 'training', 'who', 'quigon', 'but', 'how', 'could', 'he', 'accomplish', 'this', 'i', 'will', 'be', 'able', 'to', 'talk', 'with', 'him', 'hello', 'there', 'come', 'here', 'my', 'little', 'friend', 'dont', 'be', 'afraid', 'dont', 'worry', 'hell', 'be', 'all', 'right', 'rest', 'easy', 'son', 'youve', 'had', 'a', 'busy', 'day', 'youre', 'fortunate', 'youre', 'still', 'in', 'one', 'piece', 'the', 'jundland', 'wastes', 'are', 'not', 'to', 'be', 'traveled', 'lightly', 'tell', 'me', 'young', 'luke', 'what', 'brings', 'you', 'out', 'this', 'far', 'obiwan', 'kenobi', 'obiwan', 'now', 'thats', 'a', 'name', 'i', 'havent', 'heard', 'in', 'a', 'long', 'time', 'a', 'long', 'time', 'oh', 'hes', 'not', 'dead', 'no', 'not', 'yet', 'well', 'of', 'course', 'of', 'course', 'i', 'know', 'him', 'hes', 'me', 'i', 'havent', 'gone', 'by', 'the', 'name', 'obiwan', 'since', 'oh', 'before', 'you', 'were', 'born', 'dont', 'seem', 'to', 'remember', 'ever', 'owning', 'a', 'droid', 'very', 'interesting', 'i', 'think', 'we', 'better', 'get', 'indoors', 'the', 'sand', 'people', 'are', 'easily', 'startled', 'but', 'they', 'will', 'soon', 'be', 'back', 'and', 'in', 'greater', 'numbers', 'quickly', 'son', 'theyre', 'on', 'the', 'move', 'thats', 'what', 'your', 'uncle', 'told', 'you', 'he', 'didnt', 'hold', 'with', 'your', 'fathers', 'ideals', 'thought', 'he', 'should', 'have', 'stayed', 'here', 'and', 'not', 'gotten', 'involved', 'yes', 'i', 'was', 'once', 'a', 'jedi', 'knight', 'the', 'same', 'as', 'your', 'father', 'he', 'was', 'the', 'best', 'starpilot', 'in', 'the', 'galaxy', 'and', 'a', 'cunning', 'warrior', 'i', 'understand', 'youve', 'become', 'quite', 'a', 'good', 'pilot', 'yourself', 'and', 'he', 'was', 'a', 'good', 'friend', 'which', 'reminds', 'me', 'i', 'have', 'something', 'here', 'for', 'you', 'your', 'father', 'wanted', 'you', 'to', 'have', 'this', 'when', 'you', 'were', 'old', 'enough', 'but', 'your', 'uncle', 'wouldnt', 'allow', 'it', 'he', 'feared', 'you', 'might', 'follow', 'old', 'obiwan', 'on', 'some', 'damnedfool', 'idealistic', 'crusade', 'like', 'your', 'father', 'did', 'your', 'fathers', 'lightsaber', 'this', 'is', 'the', 'weapon', 'of', 'a', 'jedi', 'knight', 'not', 'as', 'clumsy', 'or', 'as', 'random', 'as', 'a', 'blaster', 'an', 'elegant', 'weapon', 'for', 'a', 'morecivilized', 'time', 'for', 'over', 'a', 'thousand', 'generations', 'the', 'jedi', 'knights', 'were', 'the', 'guardians', 'of', 'peace', 'and', 'justice', 'in', 'the', 'old', 'republic', 'before', 'the', 'dark', 'times', 'before', 'the', 'empire', 'a', 'young', 'jedi', 'named', 'darth', 'vader', 'who', 'was', 'a', 'pupil', 'of', 'mine', 'until', 'he', 'turned', 'to', 'evil', 'helped', 'the', 'empire', 'hunt', 'down', 'and', 'destroy', 'the', 'jedi', 'knights', 'he', 'betrayed', 'and', 'murdered', 'your', 'father', 'now', 'the', 'jedi', 'are', 'all', 'but', 'extinct', 'vader', 'was', 'seduced', 'by', 'the', 'dark', 'side', 'of', 'the', 'force', 'well', 'the', 'force', 'is', 'what', 'gives', 'the', 'jedi', 'his', 'power', 'its', 'an', 'energy', 'field', 'created', 'by', 'all', 'living', 'things', 'it', 'surrounds', 'us', 'and', 'penetrates', 'us', 'it', 'binds', 'the', 'galaxy', 'together', 'now', 'lets', 'see', 'if', 'we', 'cant', 'figure', 'out', 'what', 'you', 'are', 'my', 'little', 'friend', 'and', 'where', 'you', 'come', 'from', 'i', 'seem', 'to', 'have', 'found', 'it', 'you', 'must', 'learn', 'the', 'ways', 'of', 'the', 'force', 'if', 'youre', 'to', 'come', 'with', 'me', 'to', 'alderaan', 'i', 'need', 'your', 'help', 'luke', 'im', 'getting', 'too', 'old', 'for', 'this', 'sort', 'of', 'thing', 'she', 'needs', 'your', 'help', 'thats', 'your', 'uncle', 'talking', 'learn', 'about', 'the', 'force', 'luke', 'you', 'must', 'do', 'what', 'you', 'feel', 'is', 'right', 'of', 'course', 'they', 'didnt', 'but', 'we', 'are', 'meant', 'to', 'think', 'they', 'did', 'these', 'tracks', 'are', 'side', 'by', 'side', 'sand', 'people', 'always', 'ride', 'single', 'file', 'to', 'hide', 'there', 'numbers', 'and', 'these', 'blast', 'points', 'too', 'accurate', 'for', 'sand', 'people', 'only', 'imperial', 'stormtroopers', 'are', 'so', 'precise', 'wait', 'luke', 'its', 'too', 'dangerous', 'theres', 'nothing', 'you', 'could', 'have', 'done', 'luke', 'had', 'you', 'been', 'there', 'youd', 'have', 'been', 'killed', 'too', 'and', 'the', 'droids', 'would', 'now', 'be', 'in', 'the', 'hands', 'of', 'the', 'empire', 'mos', 'eisley', 'spaceport', 'you', 'will', 'never', 'find', 'a', 'more', 'wretched', 'hive', 'of', 'scum', 'and', 'villainy', 'we', 'must', 'be', 'cautious', 'theyre', 'for', 'sale', 'if', 'you', 'want', 'them', 'you', 'dont', 'need', 'to', 'see', 'his', 'identification', 'looking', 'for', 'he', 'can', 'go', 'about', 'his', 'business', 'move', 'along', 'the', 'force', 'can', 'have', 'a', 'strong', 'influence', 'on', 'the', 'weakminded', 'you', 'will', 'find', 'it', 'a', 'powerful', 'ally', 'well', 'most', 'of', 'the', 'best', 'freighter', 'pilots', 'can', 'be', 'found', 'here', 'only', 'watch', 'your', 'step', 'this', 'place', 'can', 'be', 'a', 'little', 'rough', 'this', 'little', 'one', 'isnt', 'worth', 'the', 'effort', 'come', 'let', 'me', 'buy', 'you', 'something', 'this', 'is', 'chewbacca', 'hes', 'firstmate', 'on', 'a', 'ship', 'that', 'might', 'suit', 'our', 'needs', 'yes', 'indeed', 'if', 'its', 'a', 'fast', 'ship', 'should', 'i', 'have', 'only', 'passengers', 'myself', 'the', 'boy', 'two', 'droids', 'and', 'no', 'questions', 'asked', 'lets', 'just', 'say', 'wed', 'like', 'to', 'avoid', 'any', 'imperial', 'entanglements', 'we', 'havent', 'that', 'much', 'with', 'us', 'but', 'we', 'could', 'pay', 'you', 'two', 'thousand', 'now', 'plus', 'fifteen', 'when', 'we', 'reach', 'alderaan', 'ninetyfour', 'youll', 'have', 'to', 'sell', 'your', 'speeder', 'it', 'will', 'be', 'enough', 'if', 'the', 'ships', 'as', 'fast', 'as', 'hes', 'boasting', 'we', 'ought', 'to', 'do', 'well', 'how', 'long', 'before', 'you', 'can', 'make', 'the', 'jump', 'to', 'light', 'speed', 'i', 'felt', 'a', 'great', 'disturbance', 'in', 'the', 'force', 'as', 'if', 'millions', 'of', 'voices', 'suddenly', 'cried', 'out', 'in', 'terror', 'and', 'were', 'suddenly', 'silenced', 'i', 'fear', 'something', 'terrible', 'has', 'happened', 'youd', 'better', 'get', 'on', 'with', 'your', 'exercises', 'remember', 'a', 'jedi', 'can', 'feel', 'the', 'force', 'flowing', 'through', 'him', 'partially', 'but', 'it', 'also', 'obeys', 'your', 'commands', 'i', 'suggest', 'you', 'try', 'it', 'again', 'luke', 'this', 'time', 'let', 'go', 'your', 'conscious', 'self', 'and', 'act', 'on', 'instinct', 'your', 'eyes', 'can', 'deceive', 'you', 'dont', 'trust', 'them', 'stretch', 'out', 'with', 'your', 'feelings', 'you', 'see', 'you', 'can', 'do', 'it', 'in', 'my', 'experience', 'theres', 'no', 'such', 'thing', 'as', 'luck', 'thats', 'good', 'you', 'have', 'taken', 'your', 'first', 'step', 'into', 'a', 'larger', 'world', 'destroyed', 'by', 'the', 'empire', 'its', 'an', 'imperial', 'fighter', 'no', 'its', 'a', 'short', 'range', 'fighter', 'itd', 'be', 'as', 'well', 'to', 'let', 'it', 'go', 'its', 'too', 'far', 'out', 'of', 'range', 'a', 'fighter', 'that', 'size', 'couldnt', 'get', 'this', 'deep', 'into', 'space', 'on', 'its', 'own', 'thats', 'no', 'moon', 'its', 'a', 'space', 'station', 'turn', 'the', 'ship', 'around', 'you', 'cant', 'win', 'but', 'there', 'are', 'alternatives', 'to', 'fighting', 'leave', 'that', 'to', 'me', 'whos', 'the', 'more', 'foolish', 'the', 'fool', 'or', 'the', 'fool', 'who', 'follows', 'him', 'plug', 'in', 'he', 'should', 'be', 'able', 'to', 'interpret', 'the', 'entire', 'imperial', 'computer', 'network', 'i', 'dont', 'think', 'you', 'boys', 'can', 'help', 'i', 'must', 'go', 'alone', 'be', 'patient', 'luke', 'stay', 'and', 'watch', 'over', 'the', 'droids', 'they', 'must', 'be', 'delivered', 'safely', 'or', 'other', 'star', 'systems', 'will', 'suffer', 'the', 'same', 'fate', 'as', 'alderaan', 'your', 'destiny', 'lies', 'along', 'a', 'different', 'path', 'from', 'mine', 'the', 'force', 'will', 'be', 'with', 'you', 'always', 'only', 'a', 'master', 'of', 'evil', 'darth', 'you', 'cant', 'win', 'darth', 'if', 'you', 'strike', 'me', 'down', 'i', 'shall', 'become', 'more', 'powerful', 'than', 'you', 'can', 'possibly', 'imagine', 'run', 'luke', 'run', 'luke', 'the', 'force', 'will', 'be', 'with', 'you', 'use', 'the', 'force', 'luke', 'let', 'go', 'luke', 'luke', 'trust', 'me', 'remember', 'the', 'force', 'will', 'be', 'with', 'you', 'always', 'luke', 'luke', 'you', 'will', 'go', 'to', 'the', 'dagobah', 'system', 'there', 'you', 'will', 'learn', 'from', 'yoda', 'the', 'jedi', 'master', 'who', 'instructed', 'me', 'he', 'will', 'learn', 'patience', 'was', 'i', 'any', 'different', 'when', 'you', 'taught', 'me', 'so', 'was', 'i', 'if', 'youll', 'remember', 'you', 'dont', 'know', 'that', 'even', 'yoda', 'cannot', 'see', 'their', 'fate', 'but', 'you', 'cannot', 'control', 'it', 'this', 'is', 'a', 'dangerous', 'time', 'for', 'you', 'when', 'you', 'will', 'be', 'tempted', 'by', 'the', 'dark', 'side', 'of', 'the', 'force', 'it', 'is', 'you', 'and', 'your', 'abilities', 'the', 'emperor', 'wants', 'that', 'is', 'why', 'your', 'friends', 'are', 'made', 'to', 'suffer', 'luke', 'i', 'dont', 'want', 'to', 'lose', 'you', 'to', 'the', 'emperor', 'the', 'way', 'i', 'lost', 'vader', 'patience', 'if', 'you', 'choose', 'to', 'face', 'vader', 'you', 'will', 'do', 'it', 'alone', 'i', 'cannot', 'interfere', 'luke', 'dont', 'give', 'in', 'to', 'hate', 'that', 'leads', 'to', 'the', 'dark', 'side', 'that', 'boy', 'is', 'our', 'last', 'hope', 'yoda', 'will', 'always', 'be', 'with', 'you', 'you', 'father', 'was', 'seduced', 'by', 'the', 'dark', 'side', 'of', 'the', 'force', 'he', 'ceased', 'to', 'be', 'anakin', 'skywalker', 'and', 'became', 'darth', 'vader', 'when', 'that', 'happened', 'the', 'good', 'man', 'who', 'was', 'your', 'father', 'was', 'destroyed', 'so', 'what', 'i', 'have', 'told', 'you', 'was', 'true', 'from', 'a', 'certain', 'point', 'of', 'view', 'luke', 'youre', 'going', 'to', 'find', 'that', 'many', 'of', 'the', 'truths', 'we', 'cling', 'to', 'depend', 'greatly', 'on', 'our', 'own', 'point', 'of', 'view', 'i', 'dont', 'blame', 'you', 'for', 'being', 'angry', 'if', 'i', 'was', 'wrong', 'in', 'what', 'i', 'did', 'it', 'certainly', 'wouldnt', 'have', 'been', 'for', 'the', 'first', 'time', 'you', 'see', 'what', 'happened', 'to', 'your', 'father', 'was', 'my', 'fault', 'anakin', 'was', 'a', 'good', 'friend', 'when', 'i', 'first', 'knew', 'him', 'your', 'father', 'was', 'already', 'a', 'great', 'pilot', 'but', 'i', 'was', 'amazed', 'how', 'strongly', 'the', 'force', 'was', 'with', 'him', 'i', 'took', 'it', 'upon', 'myself', 'to', 'train', 'him', 'as', 'a', 'jedi', 'i', 'thought', 'that', 'i', 'could', 'instruct', 'him', 'just', 'as', 'well', 'as', 'yoda', 'i', 'was', 'wrong', 'my', 'pride', 'has', 'had', 'terrible', 'consequences', 'for', 'the', 'galaxy', 'i', 'also', 'thought', 'he', 'could', 'be', 'turned', 'back', 'to', 'the', 'good', 'side', 'it', 'couldnt', 'be', 'done', 'he', 'is', 'more', 'machine', 'now', 'than', 'man', 'twisted', 'and', 'evil', 'you', 'cannot', 'escape', 'your', 'destiny', 'vader', 'humbled', 'you', 'when', 'first', 'you', 'met', 'him', 'luke', 'but', 'that', 'experience', 'was', 'part', 'of', 'your', 'training', 'it', 'taught', 'you', 'among', 'other', 'things', 'the', 'value', 'of', 'patience', 'had', 'you', 'not', 'been', 'so', 'impatient', 'to', 'defeat', 'vader', 'then', 'you', 'could', 'have', 'finished', 'your', 'training', 'here', 'with', 'yoda', 'you', 'would', 'have', 'been', 'prepared', 'and', 'did', 'you', 'help', 'them', 'it', 'was', 'they', 'who', 'had', 'to', 'save', 'you', 'you', 'achieved', 'little', 'by', 'rushing', 'back', 'prematurely', 'i', 'fear', 'to', 'be', 'a', 'jedi', 'luke', 'you', 'must', 'confront', 'and', 'then', 'go', 'beyond', 'the', 'dark', 'side', 'the', 'side', 'your', 'father', 'couldnt', 'get', 'past', 'impatience', 'is', 'the', 'easiest', 'door', 'for', 'you', 'like', 'your', 'father', 'only', 'your', 'father', 'was', 'seduced', 'by', 'what', 'he', 'found', 'on', 'the', 'other', 'side', 'of', 'the', 'door', 'and', 'you', 'have', 'held', 'firm', 'youre', 'no', 'longer', 'so', 'reckless', 'now', 'luke', 'you', 'are', 'strong', 'and', 'patient', 'and', 'now', 'you', 'must', 'face', 'darth', 'vader', 'again', 'then', 'the', 'emperor', 'has', 'already', 'won', 'you', 'were', 'our', 'only', 'hope', 'the', 'other', 'he', 'spoke', 'of', 'is', 'your', 'twin', 'sister', 'hmm', 'to', 'protect', 'you', 'both', 'from', 'the', 'emperor', 'you', 'were', 'hidden', 'from', 'your', 'father', 'when', 'you', 'were', 'born', 'the', 'emperor', 'knew', 'as', 'i', 'did', 'if', 'anakin', 'were', 'to', 'have', 'any', 'offspring', 'they', 'would', 'be', 'a', 'threat', 'to', 'him', 'that', 'is', 'the', 'reason', 'why', 'your', 'sister', 'remains', 'safely', 'anonymous', 'your', 'insight', 'serves', 'you', 'well', 'bury', 'your', 'feelings', 'deep', 'down', 'luke', 'they', 'do', 'you', 'credit', 'but', 'they', 'could', 'be', 'made', 'to', 'serve', 'the', 'emperor', 'when', 'your', 'father', 'left', 'he', 'didnt', 'know', 'your', 'mother', 'was', 'pregnant', 'your', 'mother', 'and', 'i', 'knew', 'he', 'would', 'find', 'out', 'eventually', 'but', 'we', 'wanted', 'to', 'keep', 'you', 'both', 'as', 'safe', 'as', 'possible', 'for', 'as', 'long', 'as', 'possible', 'so', 'i', 'took', 'you', 'to', 'live', 'with', 'my', 'brother', 'owen', 'on', 'tatooine', 'and', 'your', 'mother', 'took', 'leia', 'to', 'live', 'as', 'the', 'daughter', 'of', 'senator', 'organa', 'on', 'alderaan', 'the', 'organa', 'household', 'was', 'highborn', 'and', 'politically', 'quite', 'powerful', 'in', 'that', 'system', 'leia', 'became', 'a', 'princess', 'by', 'virtue', 'of', 'lineage', 'no', 'one', 'knew', 'shed', 'been', 'adopted', 'of', 'course', 'but', 'it', 'was', 'a', 'title', 'without', 'real', 'power', 'since', 'alderaan', 'had', 'long', 'been', 'a', 'democracy', 'even', 'so', 'the', 'family', 'continued', 'to', 'be', 'politically', 'powerful', 'and', 'leia', 'following', 'in', 'her', 'foster', 'fathers', 'path', 'became', 'a', 'senator', 'as', 'well', 'thats', 'not', 'all', 'she', 'became', 'of', 'course', 'she', 'became', 'the', 'leader', 'of', 'her', 'cell', 'in', 'the', 'alliance', 'against', 'the', 'corrupt', 'empire', 'and', 'because', 'she', 'had', 'diplomatic', 'immunity', 'she', 'was', 'a', 'vital', 'link', 'for', 'getting', 'information', 'to', 'the', 'rebel', 'cause', 'thats', 'what', 'she', 'was', 'doing', 'when', 'her', 'path', 'crossed', 'yours', 'for', 'her', 'foster', 'parents', 'had', 'always', 'told', 'her', 'to', 'contact', 'me', 'on', 'tatooine', 'if', 'her', 'troubles', 'became', 'desperate', 'she', 'hasnt', 'been', 'trained', 'in', 'the', 'ways', 'of', 'the', 'jedi', 'the', 'way', 'you', 'have', 'luke', 'but', 'the', 'force', 'is', 'strong', 'with', 'her', 'as', 'it', 'is', 'with', 'all', 'of', 'your', 'family', 'there', 'is', 'no', 'avoiding', 'the', 'battle', 'you', 'must', 'face', 'and', 'destroy', 'vader']\n",
            "Total # of tokens(words)\n",
            "6196\n",
            "Total # of unique tokens(words)\n",
            "1450\n"
          ],
          "name": "stdout"
        }
      ]
    },
    {
      "cell_type": "code",
      "metadata": {
        "colab": {
          "base_uri": "https://localhost:8080/"
        },
        "id": "BLdT6Cs8kXo6",
        "outputId": "5cdea71f-4834-4a19-8fc2-a9b47ad9a780"
      },
      "source": [
        "sent_len_list = [len(x) for x in obi_wan_tokens]\n",
        "print(sent_len_list)\n",
        "print(len(sent_len_list))\n",
        "\n",
        "from scipy import stats\n",
        "print(stats.describe(sent_len_list))\n",
        "print(stats.mode(sent_len_list))"
      ],
      "execution_count": null,
      "outputs": [
        {
          "output_type": "stream",
          "text": [
            "[7, 7, 10, 12, 10, 4, 4, 10, 7, 2, 2, 12, 11, 11, 13, 4, 6, 11, 6, 6, 4, 3, 2, 3, 3, 3, 3, 11, 8, 11, 6, 3, 8, 11, 5, 11, 7, 12, 10, 10, 13, 2, 3, 5, 7, 11, 10, 4, 11, 4, 3, 12, 7, 13, 6, 9, 11, 8, 4, 11, 8, 13, 6, 11, 2, 1, 2, 8, 11, 11, 12, 8, 8, 7, 5, 9, 11, 14, 1, 14, 22, 15, 3, 4, 14, 5, 9, 1, 3, 4, 4, 26, 26, 16, 4, 7, 5, 23, 10, 9, 3, 5, 9, 7, 4, 1, 11, 10, 5, 4, 1, 5, 10, 4, 7, 10, 16, 9, 4, 1, 1, 8, 7, 8, 5, 5, 12, 7, 5, 10, 4, 7, 9, 10, 3, 5, 2, 20, 17, 6, 6, 15, 6, 18, 4, 5, 2, 2, 2, 7, 7, 11, 20, 4, 3, 6, 13, 2, 1, 6, 18, 14, 3, 1, 5, 6, 7, 22, 29, 12, 14, 34, 16, 16, 13, 2, 2, 6, 4, 3, 3, 4, 6, 1, 7, 3, 2, 2, 17, 2, 2, 12, 10, 3, 10, 1, 6, 10, 3, 1, 14, 12, 3, 5, 16, 24, 16, 15, 11, 18, 10, 9, 11, 8, 7, 5, 8, 13, 5, 3, 8, 2, 4, 6, 1, 11, 12, 5, 6, 11, 5, 6, 6, 2, 12, 16, 10, 16, 10, 6, 4, 5, 5, 17, 14, 7, 6, 5, 8, 5, 11, 10, 10, 17, 3, 8, 4, 4, 6, 8, 16, 5, 11, 15, 20, 9, 7, 2, 8, 8, 4, 17, 4, 3, 7, 12, 1, 18, 10, 5, 8, 12, 10, 7, 11, 6, 1, 22, 1, 5, 20, 9, 19, 9, 3, 3, 4, 4, 4, 2, 10, 7, 7, 4, 3, 2, 3, 16, 8, 7, 14, 10, 9, 5, 6, 6, 8, 12, 9, 8, 1, 4, 8, 9, 7, 18, 2, 13, 6, 1, 3, 23, 41, 21, 15, 9, 20, 13, 7, 5, 4, 24, 17, 13, 15, 20, 49, 15, 13, 25, 23, 3, 16, 17, 24, 23, 18, 31, 11, 5, 10, 10, 24, 9, 3, 17, 6, 15, 6, 34, 11, 7, 5, 19, 14, 27, 8, 15, 73, 30, 9, 13, 5, 17, 3, 7, 3, 25, 2, 14, 17, 3, 4, 2, 3, 2, 2, 10, 11, 4, 2, 12, 17, 18, 5, 11, 7, 7, 8, 20, 19, 23, 10, 15, 5, 6, 11, 8, 6, 7, 5, 11, 9, 7, 16, 8, 4, 11, 15, 16, 13, 8, 9, 10, 10, 40, 5, 7, 6, 4, 4, 3, 5, 11, 25, 3, 9, 13, 14, 7, 14, 8, 5, 8, 3, 33, 8, 2, 4, 9, 3, 12, 5, 23, 1, 1, 7, 8, 10, 6, 15, 19, 17, 7, 23, 10, 22, 6, 23, 12, 30, 40, 20, 33, 50, 30, 19, 6, 16, 18, 4, 5, 10, 26, 15, 5, 28, 19, 7, 7, 2, 6, 2, 17, 22, 13, 13, 7, 3, 11, 10, 20, 1, 6, 4, 13, 11, 28, 7, 10, 7, 7, 11, 8, 5, 6, 9, 12, 4, 4, 6, 14, 13, 7, 4, 9, 4, 12, 13, 11, 9, 32, 6, 19, 3, 7, 4, 3, 3, 8, 2, 7, 12, 4, 8, 6, 4, 6, 24, 18, 15, 1, 14, 12, 6, 6, 47, 21, 34, 5, 58, 26, 5, 51, 22, 73, 11, 9, 48, 24, 64, 132, 42]\n",
            "583\n",
            "DescribeResult(nobs=583, minmax=(1, 132), mean=10.62778730703259, variance=111.20658049076646, skewness=4.466560139933559, kurtosis=35.8200498181366)\n",
            "ModeResult(mode=array([4]), count=array([47]))\n"
          ],
          "name": "stdout"
        }
      ]
    },
    {
      "cell_type": "code",
      "metadata": {
        "colab": {
          "base_uri": "https://localhost:8080/"
        },
        "id": "kkmiD_kjkcT9",
        "outputId": "115b061b-0215-4674-ff86-9fe945204800"
      },
      "source": [
        "# organize into sequences of tokens\n",
        "length = 10 + 1\n",
        "sequences = list()\n",
        "for i in range(length, len(obi_wan_token_list)):\n",
        "\t# select sequence of tokens\n",
        "\tseq = obi_wan_token_list[i-length:i]\n",
        "\t# convert into a line\n",
        "\tline = ' '.join(seq)\n",
        "\t# store\n",
        "\tsequences.append(line)\n",
        "print('Total Sequences: %d' % len(sequences))"
      ],
      "execution_count": null,
      "outputs": [
        {
          "output_type": "stream",
          "text": [
            "Total Sequences: 6185\n"
          ],
          "name": "stdout"
        }
      ]
    },
    {
      "cell_type": "code",
      "metadata": {
        "id": "XG1SAkHckeH9"
      },
      "source": [
        "# integer encode sequences of words\n",
        "tokenizer = Tokenizer()\n",
        "tokenizer.fit_on_texts(sequences)\n",
        "sequences_tokenised = tokenizer.texts_to_sequences(sequences)"
      ],
      "execution_count": null,
      "outputs": []
    },
    {
      "cell_type": "code",
      "metadata": {
        "colab": {
          "base_uri": "https://localhost:8080/"
        },
        "id": "-JkQfFFQksuB",
        "outputId": "240bd584-842c-4d79-9d32-bb650ba57a7e"
      },
      "source": [
        "# vocabulary size\n",
        "vocab_size = len(tokenizer.word_index) + 1\n",
        "print(vocab_size)\n",
        "\n",
        "# separate into input and output\n",
        "sequences_tokenised = array(sequences_tokenised)\n",
        "X, y = sequences_tokenised[:,:-1], sequences_tokenised[:,-1]\n",
        "y = to_categorical(y, num_classes=vocab_size)\n",
        "seq_length = X.shape[1]"
      ],
      "execution_count": null,
      "outputs": [
        {
          "output_type": "stream",
          "text": [
            "1451\n"
          ],
          "name": "stdout"
        }
      ]
    },
    {
      "cell_type": "code",
      "metadata": {
        "colab": {
          "base_uri": "https://localhost:8080/"
        },
        "id": "suP7bPwrkvw8",
        "outputId": "fcdf0d8d-af9b-405e-d2f3-8330a98526ce"
      },
      "source": [
        "# define model\n",
        "model = Sequential()\n",
        "model.add(Embedding(vocab_size, 50, input_length=seq_length))\n",
        "model.add(LSTM(100, return_sequences=True))\n",
        "model.add(LSTM(100))\n",
        "model.add(Dense(100, activation='relu'))\n",
        "model.add(Dense(vocab_size, activation='softmax'))\n",
        "print(model.summary())"
      ],
      "execution_count": null,
      "outputs": [
        {
          "output_type": "stream",
          "text": [
            "Model: \"sequential\"\n",
            "_________________________________________________________________\n",
            "Layer (type)                 Output Shape              Param #   \n",
            "=================================================================\n",
            "embedding (Embedding)        (None, 10, 50)            72550     \n",
            "_________________________________________________________________\n",
            "lstm (LSTM)                  (None, 10, 100)           60400     \n",
            "_________________________________________________________________\n",
            "lstm_1 (LSTM)                (None, 100)               80400     \n",
            "_________________________________________________________________\n",
            "dense (Dense)                (None, 100)               10100     \n",
            "_________________________________________________________________\n",
            "dense_1 (Dense)              (None, 1451)              146551    \n",
            "=================================================================\n",
            "Total params: 370,001\n",
            "Trainable params: 370,001\n",
            "Non-trainable params: 0\n",
            "_________________________________________________________________\n",
            "None\n"
          ],
          "name": "stdout"
        }
      ]
    },
    {
      "cell_type": "code",
      "metadata": {
        "colab": {
          "base_uri": "https://localhost:8080/"
        },
        "id": "mLH65CgIkxfH",
        "outputId": "25c1d850-f0de-436f-f726-3435bbbd5630"
      },
      "source": [
        "# compile model\n",
        "model.compile(loss='categorical_crossentropy', optimizer='adam', metrics=['accuracy'])\n",
        "# fit model\n",
        "model.fit(X, y, batch_size=128, epochs=100)"
      ],
      "execution_count": null,
      "outputs": [
        {
          "output_type": "stream",
          "text": [
            "Epoch 1/100\n",
            "49/49 [==============================] - 7s 62ms/step - loss: 7.0566 - accuracy: 0.0201\n",
            "Epoch 2/100\n",
            "49/49 [==============================] - 3s 61ms/step - loss: 6.1592 - accuracy: 0.0395\n",
            "Epoch 3/100\n",
            "49/49 [==============================] - 3s 61ms/step - loss: 6.0523 - accuracy: 0.0398\n",
            "Epoch 4/100\n",
            "49/49 [==============================] - 3s 60ms/step - loss: 6.0256 - accuracy: 0.0444\n",
            "Epoch 5/100\n",
            "49/49 [==============================] - 3s 60ms/step - loss: 6.0185 - accuracy: 0.0418\n",
            "Epoch 6/100\n",
            "49/49 [==============================] - 3s 61ms/step - loss: 5.9815 - accuracy: 0.0425\n",
            "Epoch 7/100\n",
            "49/49 [==============================] - 3s 61ms/step - loss: 5.9556 - accuracy: 0.0452\n",
            "Epoch 8/100\n",
            "49/49 [==============================] - 3s 62ms/step - loss: 5.8928 - accuracy: 0.0471\n",
            "Epoch 9/100\n",
            "49/49 [==============================] - 3s 61ms/step - loss: 5.8534 - accuracy: 0.0463\n",
            "Epoch 10/100\n",
            "49/49 [==============================] - 3s 61ms/step - loss: 5.8641 - accuracy: 0.0369\n",
            "Epoch 11/100\n",
            "49/49 [==============================] - 3s 62ms/step - loss: 5.7895 - accuracy: 0.0449\n",
            "Epoch 12/100\n",
            "49/49 [==============================] - 3s 61ms/step - loss: 5.7298 - accuracy: 0.0454\n",
            "Epoch 13/100\n",
            "49/49 [==============================] - 3s 62ms/step - loss: 5.6723 - accuracy: 0.0422\n",
            "Epoch 14/100\n",
            "49/49 [==============================] - 3s 61ms/step - loss: 5.6191 - accuracy: 0.0437\n",
            "Epoch 15/100\n",
            "49/49 [==============================] - 3s 62ms/step - loss: 5.5758 - accuracy: 0.0436\n",
            "Epoch 16/100\n",
            "49/49 [==============================] - 3s 61ms/step - loss: 5.4671 - accuracy: 0.0385\n",
            "Epoch 17/100\n",
            "49/49 [==============================] - 3s 62ms/step - loss: 5.3761 - accuracy: 0.0564\n",
            "Epoch 18/100\n",
            "49/49 [==============================] - 3s 62ms/step - loss: 5.3292 - accuracy: 0.0541\n",
            "Epoch 19/100\n",
            "49/49 [==============================] - 3s 61ms/step - loss: 5.2652 - accuracy: 0.0559\n",
            "Epoch 20/100\n",
            "49/49 [==============================] - 3s 61ms/step - loss: 5.1655 - accuracy: 0.0580\n",
            "Epoch 21/100\n",
            "49/49 [==============================] - 3s 62ms/step - loss: 5.0974 - accuracy: 0.0640\n",
            "Epoch 22/100\n",
            "49/49 [==============================] - 3s 62ms/step - loss: 4.9951 - accuracy: 0.0686\n",
            "Epoch 23/100\n",
            "49/49 [==============================] - 3s 61ms/step - loss: 4.9479 - accuracy: 0.0712\n",
            "Epoch 24/100\n",
            "49/49 [==============================] - 3s 61ms/step - loss: 4.8604 - accuracy: 0.0717\n",
            "Epoch 25/100\n",
            "49/49 [==============================] - 3s 61ms/step - loss: 4.8137 - accuracy: 0.0763\n",
            "Epoch 26/100\n",
            "49/49 [==============================] - 3s 61ms/step - loss: 4.7361 - accuracy: 0.0708\n",
            "Epoch 27/100\n",
            "49/49 [==============================] - 3s 60ms/step - loss: 4.6750 - accuracy: 0.0830\n",
            "Epoch 28/100\n",
            "49/49 [==============================] - 3s 62ms/step - loss: 4.6285 - accuracy: 0.0850\n",
            "Epoch 29/100\n",
            "49/49 [==============================] - 3s 61ms/step - loss: 4.5787 - accuracy: 0.0742\n",
            "Epoch 30/100\n",
            "49/49 [==============================] - 3s 61ms/step - loss: 4.4932 - accuracy: 0.0853\n",
            "Epoch 31/100\n",
            "49/49 [==============================] - 3s 61ms/step - loss: 4.4354 - accuracy: 0.0957\n",
            "Epoch 32/100\n",
            "49/49 [==============================] - 3s 62ms/step - loss: 4.4089 - accuracy: 0.0869\n",
            "Epoch 33/100\n",
            "49/49 [==============================] - 3s 62ms/step - loss: 4.3393 - accuracy: 0.0912\n",
            "Epoch 34/100\n",
            "49/49 [==============================] - 3s 62ms/step - loss: 4.2444 - accuracy: 0.0986\n",
            "Epoch 35/100\n",
            "49/49 [==============================] - 3s 61ms/step - loss: 4.2098 - accuracy: 0.0946\n",
            "Epoch 36/100\n",
            "49/49 [==============================] - 3s 61ms/step - loss: 4.1479 - accuracy: 0.1067\n",
            "Epoch 37/100\n",
            "49/49 [==============================] - 3s 61ms/step - loss: 4.0929 - accuracy: 0.1103\n",
            "Epoch 38/100\n",
            "49/49 [==============================] - 3s 62ms/step - loss: 4.0413 - accuracy: 0.1129\n",
            "Epoch 39/100\n",
            "49/49 [==============================] - 3s 62ms/step - loss: 3.9839 - accuracy: 0.1136\n",
            "Epoch 40/100\n",
            "49/49 [==============================] - 3s 62ms/step - loss: 3.9138 - accuracy: 0.1289\n",
            "Epoch 41/100\n",
            "49/49 [==============================] - 3s 62ms/step - loss: 3.8693 - accuracy: 0.1282\n",
            "Epoch 42/100\n",
            "49/49 [==============================] - 3s 61ms/step - loss: 3.7922 - accuracy: 0.1284\n",
            "Epoch 43/100\n",
            "49/49 [==============================] - 3s 62ms/step - loss: 3.7823 - accuracy: 0.1437\n",
            "Epoch 44/100\n",
            "49/49 [==============================] - 3s 62ms/step - loss: 3.7528 - accuracy: 0.1452\n",
            "Epoch 45/100\n",
            "49/49 [==============================] - 3s 62ms/step - loss: 3.6462 - accuracy: 0.1509\n",
            "Epoch 46/100\n",
            "49/49 [==============================] - 3s 61ms/step - loss: 3.5798 - accuracy: 0.1641\n",
            "Epoch 47/100\n",
            "49/49 [==============================] - 3s 61ms/step - loss: 3.5159 - accuracy: 0.1738\n",
            "Epoch 48/100\n",
            "49/49 [==============================] - 3s 61ms/step - loss: 3.4304 - accuracy: 0.1899\n",
            "Epoch 49/100\n",
            "49/49 [==============================] - 3s 62ms/step - loss: 3.3838 - accuracy: 0.2034\n",
            "Epoch 50/100\n",
            "49/49 [==============================] - 3s 61ms/step - loss: 3.3204 - accuracy: 0.2169\n",
            "Epoch 51/100\n",
            "49/49 [==============================] - 3s 61ms/step - loss: 3.3079 - accuracy: 0.2230\n",
            "Epoch 52/100\n",
            "49/49 [==============================] - 3s 61ms/step - loss: 3.2373 - accuracy: 0.2201\n",
            "Epoch 53/100\n",
            "49/49 [==============================] - 3s 61ms/step - loss: 3.1754 - accuracy: 0.2426\n",
            "Epoch 54/100\n",
            "49/49 [==============================] - 3s 61ms/step - loss: 3.1471 - accuracy: 0.2379\n",
            "Epoch 55/100\n",
            "49/49 [==============================] - 3s 62ms/step - loss: 3.0543 - accuracy: 0.2558\n",
            "Epoch 56/100\n",
            "49/49 [==============================] - 3s 61ms/step - loss: 3.0263 - accuracy: 0.2771\n",
            "Epoch 57/100\n",
            "49/49 [==============================] - 3s 62ms/step - loss: 2.9996 - accuracy: 0.2676\n",
            "Epoch 58/100\n",
            "49/49 [==============================] - 3s 62ms/step - loss: 2.9201 - accuracy: 0.2837\n",
            "Epoch 59/100\n",
            "49/49 [==============================] - 3s 62ms/step - loss: 2.8800 - accuracy: 0.2908\n",
            "Epoch 60/100\n",
            "49/49 [==============================] - 3s 61ms/step - loss: 2.8169 - accuracy: 0.3084\n",
            "Epoch 61/100\n",
            "49/49 [==============================] - 3s 62ms/step - loss: 2.7143 - accuracy: 0.3356\n",
            "Epoch 62/100\n",
            "49/49 [==============================] - 3s 61ms/step - loss: 2.7136 - accuracy: 0.3268\n",
            "Epoch 63/100\n",
            "49/49 [==============================] - 3s 62ms/step - loss: 2.6711 - accuracy: 0.3475\n",
            "Epoch 64/100\n",
            "49/49 [==============================] - 3s 61ms/step - loss: 2.5889 - accuracy: 0.3612\n",
            "Epoch 65/100\n",
            "49/49 [==============================] - 3s 61ms/step - loss: 2.5774 - accuracy: 0.3483\n",
            "Epoch 66/100\n",
            "49/49 [==============================] - 3s 61ms/step - loss: 2.4801 - accuracy: 0.3871\n",
            "Epoch 67/100\n",
            "49/49 [==============================] - 3s 61ms/step - loss: 2.4517 - accuracy: 0.3917\n",
            "Epoch 68/100\n",
            "49/49 [==============================] - 3s 62ms/step - loss: 2.4585 - accuracy: 0.3931\n",
            "Epoch 69/100\n",
            "49/49 [==============================] - 3s 62ms/step - loss: 2.3535 - accuracy: 0.4155\n",
            "Epoch 70/100\n",
            "49/49 [==============================] - 3s 61ms/step - loss: 2.3384 - accuracy: 0.4160\n",
            "Epoch 71/100\n",
            "49/49 [==============================] - 3s 61ms/step - loss: 2.2778 - accuracy: 0.4323\n",
            "Epoch 72/100\n",
            "49/49 [==============================] - 3s 61ms/step - loss: 2.2240 - accuracy: 0.4316\n",
            "Epoch 73/100\n",
            "49/49 [==============================] - 3s 62ms/step - loss: 2.1952 - accuracy: 0.4469\n",
            "Epoch 74/100\n",
            "49/49 [==============================] - 3s 62ms/step - loss: 2.1629 - accuracy: 0.4564\n",
            "Epoch 75/100\n",
            "49/49 [==============================] - 3s 61ms/step - loss: 2.1285 - accuracy: 0.4631\n",
            "Epoch 76/100\n",
            "49/49 [==============================] - 3s 62ms/step - loss: 2.1184 - accuracy: 0.4646\n",
            "Epoch 77/100\n",
            "49/49 [==============================] - 3s 62ms/step - loss: 2.0549 - accuracy: 0.4809\n",
            "Epoch 78/100\n",
            "49/49 [==============================] - 3s 62ms/step - loss: 1.9764 - accuracy: 0.4986\n",
            "Epoch 79/100\n",
            "49/49 [==============================] - 3s 62ms/step - loss: 1.9309 - accuracy: 0.5147\n",
            "Epoch 80/100\n",
            "49/49 [==============================] - 3s 62ms/step - loss: 1.9358 - accuracy: 0.5164\n",
            "Epoch 81/100\n",
            "49/49 [==============================] - 3s 62ms/step - loss: 1.8709 - accuracy: 0.5304\n",
            "Epoch 82/100\n",
            "49/49 [==============================] - 3s 63ms/step - loss: 1.8422 - accuracy: 0.5389\n",
            "Epoch 83/100\n",
            "49/49 [==============================] - 3s 62ms/step - loss: 1.8021 - accuracy: 0.5495\n",
            "Epoch 84/100\n",
            "49/49 [==============================] - 3s 62ms/step - loss: 1.8418 - accuracy: 0.5341\n",
            "Epoch 85/100\n",
            "49/49 [==============================] - 3s 62ms/step - loss: 1.7501 - accuracy: 0.5534\n",
            "Epoch 86/100\n",
            "49/49 [==============================] - 3s 62ms/step - loss: 1.7249 - accuracy: 0.5630\n",
            "Epoch 87/100\n",
            "49/49 [==============================] - 3s 62ms/step - loss: 1.6986 - accuracy: 0.5696\n",
            "Epoch 88/100\n",
            "49/49 [==============================] - 3s 62ms/step - loss: 1.6425 - accuracy: 0.5805\n",
            "Epoch 89/100\n",
            "49/49 [==============================] - 3s 62ms/step - loss: 1.6327 - accuracy: 0.5872\n",
            "Epoch 90/100\n",
            "49/49 [==============================] - 3s 62ms/step - loss: 1.6097 - accuracy: 0.5911\n",
            "Epoch 91/100\n",
            "49/49 [==============================] - 3s 61ms/step - loss: 1.5458 - accuracy: 0.6048\n",
            "Epoch 92/100\n",
            "49/49 [==============================] - 3s 62ms/step - loss: 1.5127 - accuracy: 0.6164\n",
            "Epoch 93/100\n",
            "49/49 [==============================] - 3s 62ms/step - loss: 1.5102 - accuracy: 0.6226\n",
            "Epoch 94/100\n",
            "49/49 [==============================] - 3s 62ms/step - loss: 1.4635 - accuracy: 0.6254\n",
            "Epoch 95/100\n",
            "49/49 [==============================] - 3s 62ms/step - loss: 1.4496 - accuracy: 0.6414\n",
            "Epoch 96/100\n",
            "49/49 [==============================] - 3s 63ms/step - loss: 1.4581 - accuracy: 0.6305\n",
            "Epoch 97/100\n",
            "49/49 [==============================] - 3s 62ms/step - loss: 1.3704 - accuracy: 0.6530\n",
            "Epoch 98/100\n",
            "49/49 [==============================] - 3s 62ms/step - loss: 1.3751 - accuracy: 0.6496\n",
            "Epoch 99/100\n",
            "49/49 [==============================] - 3s 62ms/step - loss: 1.3375 - accuracy: 0.6608\n",
            "Epoch 100/100\n",
            "49/49 [==============================] - 3s 63ms/step - loss: 1.3003 - accuracy: 0.6721\n"
          ],
          "name": "stdout"
        },
        {
          "output_type": "execute_result",
          "data": {
            "text/plain": [
              "<tensorflow.python.keras.callbacks.History at 0x7f31a11b6810>"
            ]
          },
          "metadata": {
            "tags": []
          },
          "execution_count": 19
        }
      ]
    },
    {
      "cell_type": "code",
      "metadata": {
        "id": "Ohg5tzVTk0GB"
      },
      "source": [
        "# save the model to file\n",
        "model.save('model.h5')\n",
        "# save the tokenizer\n",
        "dump(tokenizer, open('tokenizer.pkl', 'wb'))"
      ],
      "execution_count": null,
      "outputs": []
    },
    {
      "cell_type": "code",
      "metadata": {
        "id": "mGKqw-hAk15I"
      },
      "source": [
        "seq_length = 10"
      ],
      "execution_count": null,
      "outputs": []
    },
    {
      "cell_type": "code",
      "metadata": {
        "id": "oHh39tepk3_1"
      },
      "source": [
        "# load the model\n",
        "model = load_model('model.h5')\n",
        "# load the tokenizer\n",
        "tokenizer = load(open('tokenizer.pkl', 'rb'))"
      ],
      "execution_count": null,
      "outputs": []
    },
    {
      "cell_type": "code",
      "metadata": {
        "colab": {
          "base_uri": "https://localhost:8080/"
        },
        "id": "1YcjjfO0k5ky",
        "outputId": "a0495b2b-d01e-4da7-f7e6-0d338714e765"
      },
      "source": [
        "# select a seed text\n",
        "seed_text = sequences[randint(0,len(sequences))]\n",
        "print(seed_text + '\\n')\n",
        "\n",
        "encoded = tokenizer.texts_to_sequences([seed_text])[0]\n",
        "encoded = pad_sequences([encoded], maxlen=seq_length, truncating='pre')"
      ],
      "execution_count": null,
      "outputs": [
        {
          "output_type": "stream",
          "text": [
            "the chancellor does not this assignment is not to be on\n",
            "\n"
          ],
          "name": "stdout"
        }
      ]
    },
    {
      "cell_type": "code",
      "metadata": {
        "id": "SOQ-OP79k8kj"
      },
      "source": [
        "# generate a sequence from a language model\n",
        "def generate_seq(model, tokenizer, seq_length, seed_text, n_words):\n",
        "\tresult = list()\n",
        "\tin_text = seed_text\n",
        "\t# generate a fixed number of words\n",
        "\tfor _ in range(n_words):\n",
        "\t\t# encode the text as integer\n",
        "\t\tencoded = tokenizer.texts_to_sequences([in_text])[0]\n",
        "\t\t# truncate sequences to a fixed length\n",
        "\t\tencoded = pad_sequences([encoded], maxlen=seq_length, truncating='pre')\n",
        "\t\t# predict probabilities for each word\n",
        "\t\tyhat = model.predict_classes(encoded, verbose=0)\n",
        "\t\t# map predicted word index to word\n",
        "\t\tout_word = ''\n",
        "\t\tfor word, index in tokenizer.word_index.items():\n",
        "\t\t\tif index == yhat:\n",
        "\t\t\t\tout_word = word\n",
        "\t\t\t\tbreak\n",
        "\t\t# append to input\n",
        "\t\tin_text += ' ' + out_word\n",
        "\t\tresult.append(out_word)\n",
        "\treturn ' '.join(result)"
      ],
      "execution_count": null,
      "outputs": []
    },
    {
      "cell_type": "code",
      "metadata": {
        "colab": {
          "base_uri": "https://localhost:8080/"
        },
        "id": "akiiIZCKk-kR",
        "outputId": "09bac5d6-1f21-4dd6-c4bb-efedf8c8d550"
      },
      "source": [
        "# generate new text\n",
        "generated = generate_seq(model, tokenizer, seq_length, seed_text, 10)\n",
        "print(generated)"
      ],
      "execution_count": null,
      "outputs": [
        {
          "output_type": "stream",
          "text": [
            "/usr/local/lib/python3.7/dist-packages/tensorflow/python/keras/engine/sequential.py:450: UserWarning: `model.predict_classes()` is deprecated and will be removed after 2021-01-01. Please use instead:* `np.argmax(model.predict(x), axis=-1)`,   if your model does multi-class classification   (e.g. if it uses a `softmax` last-layer activation).* `(model.predict(x) > 0.5).astype(\"int32\")`,   if your model does binary classification   (e.g. if it uses a `sigmoid` last-layer activation).\n",
            "  warnings.warn('`model.predict_classes()` is deprecated and '\n"
          ],
          "name": "stderr"
        },
        {
          "output_type": "stream",
          "text": [
            "record its became i was once a am not a\n"
          ],
          "name": "stdout"
        }
      ]
    },
    {
      "cell_type": "code",
      "metadata": {
        "id": "aDtXX8zDnNNr"
      },
      "source": [
        ""
      ],
      "execution_count": null,
      "outputs": []
    }
  ]
}